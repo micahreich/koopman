{
 "cells": [
  {
   "cell_type": "code",
   "execution_count": 19,
   "metadata": {},
   "outputs": [],
   "source": [
    "import numpy as np\n",
    "import matplotlib.pyplot as plt\n",
    "from itertools import combinations_with_replacement\n",
    "from functools import reduce\n",
    "from operator import mul\n",
    "from math import factorial"
   ]
  },
  {
   "cell_type": "code",
   "execution_count": null,
   "metadata": {},
   "outputs": [],
   "source": [
    "def compute_monomial_observables_size(nx, order):\n",
    "    return sum([\n",
    "        factorial(nx + i - 1) / (factorial(i) * factorial(nx - 1)) for i in range(0, order+1)\n",
    "    ])\n",
    "    \n",
    "def generate_monomial_observables(x, order):\n",
    "    m = len(x)  # Number of original state variables\n",
    "    monomials = [1]\n",
    "    \n",
    "    for j in range(1, order+1):\n",
    "        for degrees in combinations_with_replacement(range(m), j):\n",
    "            # Compute the product of the selected elements\n",
    "            monomial = reduce(mul, [x[i] for i in degrees], 1)\n",
    "            monomials.append(monomial)\n",
    "    \n",
    "    return np.array(monomials)\n",
    "\n",
    "def generate_observable_matrices(X, order):\n",
    "    N, _, nx = X.shape\n",
    "    # observable_size = compute_monomial_observables_size(nx, order)\n",
    "    \n",
    "    M = np.empty_like(X)\n",
    "    \n",
    "    for i in range(N):\n",
    "        M[i, 0, :] = generate_monomial_observables(X[i, 0, :], order)\n",
    "        M[i, 1, :] = generate_monomial_observables(X[i, 1, :], order)\n",
    "        \n",
    "    A = M[:, 0, :]\n",
    "    B = M[:, 1, :]\n",
    "    \n",
    "    return A, B"
   ]
  },
  {
   "cell_type": "code",
   "execution_count": 79,
   "metadata": {},
   "outputs": [
    {
     "name": "stdout",
     "output_type": "stream",
     "text": [
      "K estimated:\n",
      " [[1.00663527 0.54550047 0.56520401]\n",
      " [0.54550047 0.47999448 0.57097016]\n",
      " [0.56520401 0.57097016 0.77644767]]\n",
      "K true:\n",
      " [[1.00663527 0.54550047 0.56520401]\n",
      " [0.54550047 0.47999448 0.57097016]\n",
      " [0.56520401 0.57097016 0.77644767]]\n"
     ]
    }
   ],
   "source": [
    "# Test method with known matrix\n",
    "K = np.random.rand(3,3)\n",
    "K = K.T @ K\n",
    "\n",
    "N = 5\n",
    "X = np.empty((N, 2, 3))\n",
    "xs = np.random.rand(N, 3)\n",
    "\n",
    "X[:, 0, :] = xs\n",
    "X[:, 1, :] = (K @ xs.T).T\n",
    "\n",
    "A = X[:, 0, :].T\n",
    "B = X[:, 1, :].T\n",
    "\n",
    "K_est = B @ np.linalg.pinv(A)\n",
    "print(\"K estimated:\\n\", K_est)\n",
    "print(\"K true:\\n\", K)"
   ]
  },
  {
   "cell_type": "code",
   "execution_count": null,
   "metadata": {},
   "outputs": [],
   "source": []
  }
 ],
 "metadata": {
  "kernelspec": {
   "display_name": ".venv",
   "language": "python",
   "name": "python3"
  },
  "language_info": {
   "codemirror_mode": {
    "name": "ipython",
    "version": 3
   },
   "file_extension": ".py",
   "mimetype": "text/x-python",
   "name": "python",
   "nbconvert_exporter": "python",
   "pygments_lexer": "ipython3",
   "version": "3.10.16"
  }
 },
 "nbformat": 4,
 "nbformat_minor": 2
}
