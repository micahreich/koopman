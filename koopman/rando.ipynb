{
 "cells": [
  {
   "cell_type": "code",
   "execution_count": 4,
   "id": "3e9235d7",
   "metadata": {},
   "outputs": [
    {
     "data": {
      "text/plain": [
       "'d/dt sin(theta):'"
      ]
     },
     "metadata": {},
     "output_type": "display_data"
    },
    {
     "data": {
      "text/latex": [
       "$\\displaystyle \\cos{\\left(\\theta{\\left(t \\right)} \\right)} \\frac{d}{d t} \\theta{\\left(t \\right)}$"
      ],
      "text/plain": [
       "cos(theta(t))*Derivative(theta(t), t)"
      ]
     },
     "metadata": {},
     "output_type": "display_data"
    },
    {
     "data": {
      "text/plain": [
       "'d²/dt² sin(theta):'"
      ]
     },
     "metadata": {},
     "output_type": "display_data"
    },
    {
     "data": {
      "text/latex": [
       "$\\displaystyle - \\sin{\\left(\\theta{\\left(t \\right)} \\right)} \\left(\\frac{d}{d t} \\theta{\\left(t \\right)}\\right)^{2} + \\cos{\\left(\\theta{\\left(t \\right)} \\right)} \\frac{d^{2}}{d t^{2}} \\theta{\\left(t \\right)}$"
      ],
      "text/plain": [
       "-sin(theta(t))*Derivative(theta(t), t)**2 + cos(theta(t))*Derivative(theta(t), (t, 2))"
      ]
     },
     "metadata": {},
     "output_type": "display_data"
    },
    {
     "data": {
      "text/plain": [
       "'d³/dt³ sin(theta):'"
      ]
     },
     "metadata": {},
     "output_type": "display_data"
    },
    {
     "data": {
      "text/latex": [
       "$\\displaystyle - 3 \\sin{\\left(\\theta{\\left(t \\right)} \\right)} \\frac{d}{d t} \\theta{\\left(t \\right)} \\frac{d^{2}}{d t^{2}} \\theta{\\left(t \\right)} - \\cos{\\left(\\theta{\\left(t \\right)} \\right)} \\left(\\frac{d}{d t} \\theta{\\left(t \\right)}\\right)^{3} + \\cos{\\left(\\theta{\\left(t \\right)} \\right)} \\frac{d^{3}}{d t^{3}} \\theta{\\left(t \\right)}$"
      ],
      "text/plain": [
       "-3*sin(theta(t))*Derivative(theta(t), t)*Derivative(theta(t), (t, 2)) - cos(theta(t))*Derivative(theta(t), t)**3 + cos(theta(t))*Derivative(theta(t), (t, 3))"
      ]
     },
     "metadata": {},
     "output_type": "display_data"
    }
   ],
   "source": [
    "import sympy as sp\n",
    "\n",
    "# Define time and theta(t)\n",
    "t = sp.Symbol('t')\n",
    "theta = sp.Function('theta')(t)\n",
    "\n",
    "# First derivative\n",
    "d1 = sp.diff(sp.sin(theta), t)\n",
    "\n",
    "# Second derivative\n",
    "d2 = sp.diff(d1, t)\n",
    "\n",
    "# Third derivative\n",
    "d3 = sp.diff(d2, t)\n",
    "\n",
    "# Optional: define shorthand for derivatives\n",
    "theta_dot = sp.Derivative(theta, t)\n",
    "theta_ddot = sp.Derivative(theta, (t, 2))\n",
    "\n",
    "# Print expressions\n",
    "display(\"d/dt sin(theta):\", d1.simplify())\n",
    "display(\"d²/dt² sin(theta):\", d2.simplify())\n",
    "display(\"d³/dt³ sin(theta):\", d3.simplify())"
   ]
  },
  {
   "cell_type": "code",
   "execution_count": 1,
   "id": "d93e73d3",
   "metadata": {},
   "outputs": [
    {
     "name": "stdout",
     "output_type": "stream",
     "text": [
      "tensor([[ 0.8604,  0.3529, -0.0859],\n",
      "        [ 0.3847,  0.3696, -0.4524],\n",
      "        [-0.0950, -0.4316,  0.8826]])\n"
     ]
    }
   ],
   "source": [
    "import torch\n",
    "import einops\n",
    "\n",
    "# A requires gradient\n",
    "A = torch.randn(3, 3, requires_grad=True)\n",
    "\n",
    "# Compute matrix exponential\n",
    "E = torch.matrix_exp(A)\n",
    "\n",
    "# Define a scalar loss (e.g., Frobenius norm squared)\n",
    "loss = (E ** 2).sum()\n",
    "loss.backward()\n",
    "\n",
    "# Gradient w.r.t A is now stored in A.grad\n",
    "print(A.grad)"
   ]
  },
  {
   "cell_type": "code",
   "execution_count": 5,
   "id": "6188e726",
   "metadata": {},
   "outputs": [],
   "source": [
    "def flatten_batch(x_batch: torch.Tensor) -> torch.Tensor:\n",
    "        return einops.rearrange(x_batch, 'b h nx -> (b h) nx')\n",
    "\n",
    "def unflatten_batch(batch_size, x_flat_batch: torch.Tensor) -> torch.Tensor:\n",
    "    return einops.rearrange(x_flat_batch, '(b h) nx -> b h nx', b=batch_size)"
   ]
  },
  {
   "cell_type": "code",
   "execution_count": 7,
   "id": "5e127658",
   "metadata": {},
   "outputs": [],
   "source": [
    "x_batch = torch.randn(32, 100, 10)\n",
    "\n",
    "x_flat_batch = flatten_batch(x_batch)\n",
    "x_batch_recon = unflatten_batch(32, x_flat_batch)\n",
    "# Check if the original and reconstructed tensors are equal\n",
    "assert torch.allclose(x_batch, x_batch_recon), \"Reconstruction failed!\""
   ]
  },
  {
   "cell_type": "code",
   "execution_count": null,
   "id": "4e903436",
   "metadata": {},
   "outputs": [],
   "source": []
  }
 ],
 "metadata": {
  "kernelspec": {
   "display_name": "venv",
   "language": "python",
   "name": "python3"
  },
  "language_info": {
   "codemirror_mode": {
    "name": "ipython",
    "version": 3
   },
   "file_extension": ".py",
   "mimetype": "text/x-python",
   "name": "python",
   "nbconvert_exporter": "python",
   "pygments_lexer": "ipython3",
   "version": "3.10.16"
  }
 },
 "nbformat": 4,
 "nbformat_minor": 5
}
