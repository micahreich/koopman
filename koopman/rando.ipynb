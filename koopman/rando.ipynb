{
 "cells": [
  {
   "cell_type": "code",
   "execution_count": 4,
   "id": "3e9235d7",
   "metadata": {},
   "outputs": [
    {
     "data": {
      "text/plain": [
       "'d/dt sin(theta):'"
      ]
     },
     "metadata": {},
     "output_type": "display_data"
    },
    {
     "data": {
      "text/latex": [
       "$\\displaystyle \\cos{\\left(\\theta{\\left(t \\right)} \\right)} \\frac{d}{d t} \\theta{\\left(t \\right)}$"
      ],
      "text/plain": [
       "cos(theta(t))*Derivative(theta(t), t)"
      ]
     },
     "metadata": {},
     "output_type": "display_data"
    },
    {
     "data": {
      "text/plain": [
       "'d²/dt² sin(theta):'"
      ]
     },
     "metadata": {},
     "output_type": "display_data"
    },
    {
     "data": {
      "text/latex": [
       "$\\displaystyle - \\sin{\\left(\\theta{\\left(t \\right)} \\right)} \\left(\\frac{d}{d t} \\theta{\\left(t \\right)}\\right)^{2} + \\cos{\\left(\\theta{\\left(t \\right)} \\right)} \\frac{d^{2}}{d t^{2}} \\theta{\\left(t \\right)}$"
      ],
      "text/plain": [
       "-sin(theta(t))*Derivative(theta(t), t)**2 + cos(theta(t))*Derivative(theta(t), (t, 2))"
      ]
     },
     "metadata": {},
     "output_type": "display_data"
    },
    {
     "data": {
      "text/plain": [
       "'d³/dt³ sin(theta):'"
      ]
     },
     "metadata": {},
     "output_type": "display_data"
    },
    {
     "data": {
      "text/latex": [
       "$\\displaystyle - 3 \\sin{\\left(\\theta{\\left(t \\right)} \\right)} \\frac{d}{d t} \\theta{\\left(t \\right)} \\frac{d^{2}}{d t^{2}} \\theta{\\left(t \\right)} - \\cos{\\left(\\theta{\\left(t \\right)} \\right)} \\left(\\frac{d}{d t} \\theta{\\left(t \\right)}\\right)^{3} + \\cos{\\left(\\theta{\\left(t \\right)} \\right)} \\frac{d^{3}}{d t^{3}} \\theta{\\left(t \\right)}$"
      ],
      "text/plain": [
       "-3*sin(theta(t))*Derivative(theta(t), t)*Derivative(theta(t), (t, 2)) - cos(theta(t))*Derivative(theta(t), t)**3 + cos(theta(t))*Derivative(theta(t), (t, 3))"
      ]
     },
     "metadata": {},
     "output_type": "display_data"
    }
   ],
   "source": [
    "import sympy as sp\n",
    "\n",
    "# Define time and theta(t)\n",
    "t = sp.Symbol('t')\n",
    "theta = sp.Function('theta')(t)\n",
    "\n",
    "# First derivative\n",
    "d1 = sp.diff(sp.sin(theta), t)\n",
    "\n",
    "# Second derivative\n",
    "d2 = sp.diff(d1, t)\n",
    "\n",
    "# Third derivative\n",
    "d3 = sp.diff(d2, t)\n",
    "\n",
    "# Optional: define shorthand for derivatives\n",
    "theta_dot = sp.Derivative(theta, t)\n",
    "theta_ddot = sp.Derivative(theta, (t, 2))\n",
    "\n",
    "# Print expressions\n",
    "display(\"d/dt sin(theta):\", d1.simplify())\n",
    "display(\"d²/dt² sin(theta):\", d2.simplify())\n",
    "display(\"d³/dt³ sin(theta):\", d3.simplify())"
   ]
  },
  {
   "cell_type": "code",
   "execution_count": null,
   "id": "d93e73d3",
   "metadata": {},
   "outputs": [],
   "source": []
  }
 ],
 "metadata": {
  "kernelspec": {
   "display_name": "venv",
   "language": "python",
   "name": "python3"
  },
  "language_info": {
   "codemirror_mode": {
    "name": "ipython",
    "version": 3
   },
   "file_extension": ".py",
   "mimetype": "text/x-python",
   "name": "python",
   "nbconvert_exporter": "python",
   "pygments_lexer": "ipython3",
   "version": "3.10.16"
  }
 },
 "nbformat": 4,
 "nbformat_minor": 5
}
