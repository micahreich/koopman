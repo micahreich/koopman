{
 "cells": [
  {
   "cell_type": "code",
   "execution_count": 487,
   "id": "73a72dd3",
   "metadata": {},
   "outputs": [
    {
     "name": "stdout",
     "output_type": "stream",
     "text": [
      "The autoreload extension is already loaded. To reload it, use:\n",
      "  %reload_ext autoreload\n"
     ]
    }
   ],
   "source": [
    "%load_ext autoreload\n",
    "%autoreload 2\n",
    "\n",
    "import numpy as np\n",
    "import jax.numpy as jnp\n",
    "import jax\n",
    "import matplotlib.pyplot as plt\n",
    "from itertools import combinations_with_replacement\n",
    "from functools import reduce\n",
    "from operator import mul\n",
    "from math import factorial\n",
    "import einops\n",
    "from koopman.simulation.simulator import simulate, simulate_batch, rk4_step\n",
    "from koopman.simulation.systems import DynamicalSystem, Pendulum\n",
    "from koopman.edmd.edmd import eDMD\n",
    "from sklearn.preprocessing import PolynomialFeatures\n",
    "from spatialmath.base import angle_wrap\n",
    "from scipy.ndimage import gaussian_filter1d\n",
    "from sklearn.preprocessing import PolynomialFeatures\n",
    "from sklearn.kernel_approximation import RBFSampler\n",
    "from numpy.polynomial.chebyshev import Chebyshev\n",
    "import scipy"
   ]
  },
  {
   "cell_type": "code",
   "execution_count": 488,
   "id": "3999ef84",
   "metadata": {},
   "outputs": [],
   "source": [
    "d = 2\n",
    "n = 5_000\n",
    "\n",
    "# Create LHS sampler\n",
    "sampler = scipy.stats.qmc.LatinHypercube(d)\n",
    "\n",
    "# Generate samples in [0, 1]^d\n",
    "scaled_sample = sampler.random(n)\n",
    "\n",
    "# Optional: scale to custom bounds\n",
    "lower_bounds = [-np.pi, -1.0]\n",
    "upper_bounds = [np.pi, 1.0]\n",
    "sample = scipy.stats.qmc.scale(scaled_sample, lower_bounds, upper_bounds)"
   ]
  },
  {
   "cell_type": "code",
   "execution_count": 489,
   "id": "48236a7f",
   "metadata": {},
   "outputs": [],
   "source": [
    "pendulum = Pendulum()\n",
    "dx_dt = pendulum.dynamics(sample, np.zeros((n, Pendulum.nu)))"
   ]
  },
  {
   "cell_type": "code",
   "execution_count": 569,
   "id": "1e69e341",
   "metadata": {},
   "outputs": [],
   "source": [
    "def observables(n_centers=100, eps=1e-8):\n",
    "    centers = scipy.stats.qmc.scale(sampler.random(n_centers), lower_bounds, upper_bounds)\n",
    "    \n",
    "    def phi_single(x):\n",
    "        \"\"\"\n",
    "        Compute the thin-plate RBF values for a single input x.\n",
    "        \n",
    "        Parameters:\n",
    "            x       : jnp.array of shape (nx,), the input vector.\n",
    "            centers : jnp.array of shape (n_centers, nx), the centers for the RBFs.\n",
    "            eps     : small constant to avoid log(0) issues.\n",
    "        \n",
    "        Returns:\n",
    "            phi     : jnp.array of shape (n_centers,), where\n",
    "                    phi_i(x) = ||x - c_i||^2 * log( ||x - c_i|| )\n",
    "                    (with a safe-guard for r close to 0).\n",
    "        \"\"\"\n",
    "        # Compute the difference between x and each center; shape: (n_centers, nx)\n",
    "        diff = x[None, :] - centers  # broadcasting x over centers\n",
    "        # Compute the Euclidean norm for each center; shape: (n_centers,)\n",
    "        r = jnp.linalg.norm(diff, axis=-1)\n",
    "        # Avoid log(0): where r is very small, return 0\n",
    "        phi = jnp.where(r > eps, r**2 * jnp.log(r), 0.0)\n",
    "        \n",
    "        theta, omega = x[0], x[1]\n",
    "        energy_observable = jnp.array([1/2 * omega**2 + 9.81 * (1 - jnp.cos(theta))])\n",
    "        \n",
    "        z = jnp.concatenate([x, energy_observable, phi], axis=-1)\n",
    "        \n",
    "        return z\n",
    "\n",
    "    def dphi_dt_single(x, dx_dt):\n",
    "        \"\"\"\n",
    "        Compute the time derivative of the RBF embedding for one sample.\n",
    "        Uses JAX's jvp to compute the Jacobian-vector product.\n",
    "        \n",
    "        Parameters:\n",
    "            x       : jnp.array of shape (nx,), the input state.\n",
    "            dxdt    : jnp.array of shape (nx,), the time derivative of x.\n",
    "            centers : jnp.array of shape (n_centers, nx), the RBF centers.\n",
    "            eps     : small constant to avoid issues near r=0.\n",
    "            \n",
    "        Returns:\n",
    "            dphi_dt : jnp.array of shape (n_centers,), the product J_phi(x) * dxdt.\n",
    "        \"\"\"\n",
    "        # The lambda wraps our RBF function with a given centers and eps.\n",
    "        # jax.jvp returns (phi, J_phi(x) * dxdt)\n",
    "        _, dphi_dt = jax.jvp(lambda x: phi_single(x), (x,), (dx_dt,))\n",
    "        return dphi_dt\n",
    "\n",
    "    evaluate = jax.vmap(lambda x: phi_single(x))\n",
    "    dphi_dt_batch = jax.vmap(lambda x, dxdt : dphi_dt_single(x, dxdt))\n",
    "    \n",
    "    return evaluate, dphi_dt_batch\n",
    "\n",
    "n_centers = 10\n",
    "evaluate_phi, evaluate_dphi_dt = observables(n_centers=n_centers)\n",
    "\n",
    "def to_observables(x, dx_dt):\n",
    "    is_batched = x.ndim == 2\n",
    "    if not is_batched:\n",
    "        x = np.expand_dims(x, axis=0)\n",
    "        dx_dt = np.expand_dims(dx_dt, axis=0)\n",
    "        \n",
    "    phi = evaluate_phi(x)\n",
    "    dphi_dt = evaluate_dphi_dt(x, dx_dt)\n",
    "    \n",
    "    if not is_batched:\n",
    "        phi = np.squeeze(phi, axis=0)\n",
    "        dphi_dt = np.squeeze(dphi_dt, axis=0)\n",
    "    \n",
    "    return phi, dphi_dt"
   ]
  },
  {
   "cell_type": "code",
   "execution_count": 570,
   "id": "349f4254",
   "metadata": {},
   "outputs": [
    {
     "name": "stdout",
     "output_type": "stream",
     "text": [
      "-2.3895306e-09\n"
     ]
    }
   ],
   "source": [
    "Y, Ydot = to_observables(sample, dx_dt)\n",
    "nz = Y.shape[1]\n",
    "\n",
    "weights = np.ones(nz)\n",
    "# weights[:3] = 5.0\n",
    "\n",
    "D = np.diag(weights)\n",
    "\n",
    "print(Ydot[:, 2].mean())\n",
    "# assert np.allclose(Y, sample)\n",
    "# assert np.allclose(Ydot, dx_dt)"
   ]
  },
  {
   "cell_type": "code",
   "execution_count": 571,
   "id": "10963930",
   "metadata": {},
   "outputs": [],
   "source": [
    "# Solve min_W ||B - A * W||_F^2\n",
    "W = np.linalg.pinv(Y) @ (Ydot)\n",
    "A = W.T\n",
    "nz = A.shape[0]"
   ]
  },
  {
   "cell_type": "code",
   "execution_count": 613,
   "id": "33dfa1f8",
   "metadata": {},
   "outputs": [],
   "source": [
    "import scipy.linalg\n",
    "\n",
    "\n",
    "x0 = sample[np.random.randint(0, n)]\n",
    "T = 10\n",
    "dt = 0.05\n",
    "Ad = scipy.linalg.expm(A * dt)\n",
    "# Cd = scipy.linalg.expm(C * dt)\n",
    "\n",
    "xhist = np.zeros((T+1, d))\n",
    "zhist_pred = np.zeros((T+1, nz))\n",
    "\n",
    "xhist[0] = x0\n",
    "zhist_pred[0] = evaluate_phi(x0[None, :])[0]\n",
    "\n",
    "for i in range(T):\n",
    "    x = xhist[i]\n",
    "    z = zhist_pred[i]\n",
    "    u = np.zeros(Pendulum.nu)\n",
    "    \n",
    "    xhist[i+1] = rk4_step(pendulum.dynamics, x, u, dt)    \n",
    "    zhist_pred[i+1] = Ad @ z"
   ]
  },
  {
   "cell_type": "code",
   "execution_count": 614,
   "id": "f0b4eb43",
   "metadata": {},
   "outputs": [
    {
     "data": {
      "text/plain": [
       "[<matplotlib.lines.Line2D at 0x7a5981873550>]"
      ]
     },
     "execution_count": 614,
     "metadata": {},
     "output_type": "execute_result"
    },
    {
     "data": {
      "image/png": "[encoded data removed]",
      "text/plain": [
       "<Figure size 800x800 with 1 Axes>"
      ]
     },
     "metadata": {},
     "output_type": "display_data"
    }
   ],
   "source": [
    "# Plot the results\n",
    "fig, ax = plt.subplots(1, 1, figsize=(8,8))\n",
    "ax.plot(xhist[:, 0], xhist[:, 1], label='True trajectory')\n",
    "ax.plot(zhist_pred[:, 0], zhist_pred[:, 1], label='Predicted trajectory')"
   ]
  },
  {
   "cell_type": "code",
   "execution_count": null,
   "id": "ea841adf",
   "metadata": {},
   "outputs": [],
   "source": []
  }
 ],
 "metadata": {
  "kernelspec": {
   "display_name": "venv",
   "language": "python",
   "name": "python3"
  },
  "language_info": {
   "codemirror_mode": {
    "name": "ipython",
    "version": 3
   },
   "file_extension": ".py",
   "mimetype": "text/x-python",
   "name": "python",
   "nbconvert_exporter": "python",
   "pygments_lexer": "ipython3",
   "version": "3.10.16"
  }
 },
 "nbformat": 4,
 "nbformat_minor": 5
}
