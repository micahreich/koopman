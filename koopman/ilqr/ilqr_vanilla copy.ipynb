{
 "cells": [
  {
   "cell_type": "code",
   "execution_count": 82,
   "id": "67081ce5",
   "metadata": {},
   "outputs": [
    {
     "name": "stdout",
     "output_type": "stream",
     "text": [
      "0.05\n"
     ]
    }
   ],
   "source": [
    "import jax.numpy as jnp\n",
    "import jax\n",
    "from jax import jit\n",
    "import numpy as np\n",
    "import matplotlib.pyplot as plt\n",
    "from collections import namedtuple\n",
    "\n",
    "# Model = namedtuple('Model', ['delta', 'alpha', 'beta'])\n",
    "Model = namedtuple('Model', ['mu', 'lam'])\n",
    "Params = namedtuple('Params', ['nx', 'nu', 'Q', 'R', 'Qf', 'Xref', 'tf', 'dt', 'N', 'model'])\n",
    "\n",
    "nx = 3\n",
    "nu = 1\n",
    "Q = 0.5 * jnp.eye(2)\n",
    "R = 0.05 * jnp.eye(nu)\n",
    "Qf = 1e2 * Q\n",
    "Xref = jnp.array([0.0, 0.0, 0.0])\n",
    "tf = 5.0\n",
    "dt = 0.05\n",
    "N = int(tf / dt) + 1\n",
    "\n",
    "model = Model(\n",
    "    mu = -1.0,\n",
    "    lam = 1.0,\n",
    ")\n",
    "\n",
    "params = Params(\n",
    "    nx = nx,\n",
    "    nu = nu,\n",
    "    Q = Q,\n",
    "    R = R,\n",
    "    Qf = Qf,\n",
    "    Xref = Xref,\n",
    "    tf = tf,\n",
    "    dt = dt,\n",
    "    N = N,\n",
    "    model = model,\n",
    ")\n",
    "\n",
    "print(params.dt)"
   ]
  },
  {
   "cell_type": "code",
   "execution_count": 83,
   "id": "5cab7b0d",
   "metadata": {},
   "outputs": [],
   "source": [
    "def continuous_dynamics(x, u, params):\n",
    "    x1, x2, x3 = x[0], x[1], x[2]\n",
    "   \n",
    "    # xdot = jnp.array([\n",
    "    #     x2,\n",
    "    #     -params.model.delta * x2 - params.model.alpha * x1 - params.model.beta * x1**3 + u[0]\n",
    "    # ])\n",
    "    # xdot = jnp.array([\n",
    "    #     x2,\n",
    "    #     params.model.mu * (1 - x1**2) * x2 - x1 + u[0]\n",
    "    # ])\n",
    "    # xdot = jnp.array([\n",
    "    #     jnp.sin(x1) + u[0],\n",
    "    #     0.0,\n",
    "    # ])\n",
    "    xdot = jnp.array([\n",
    "        params.model.mu * x1,\n",
    "        params.model.lam * (x2 - x3) + u[0],\n",
    "        2.0 * params.model.mu * x3,\n",
    "    ])\n",
    "\n",
    "    return xdot\n",
    "\n",
    "def rk4_step(x, u, params):\n",
    "    k1 = params.dt*continuous_dynamics(x, u, params)\n",
    "    k2 = params.dt*continuous_dynamics(x + k1/2, u, params)\n",
    "    k3 = params.dt*continuous_dynamics(x + k2/2, u, params)\n",
    "    k4 = params.dt*continuous_dynamics(x + k3, u, params)\n",
    "    \n",
    "    x_next = x + 1/6 * (k1 + 2*k2 + 2*k3 + k4)\n",
    "    \n",
    "    return x_next\n",
    "\n",
    "def discrete_dynamics(x, u, params):\n",
    "    return rk4_step(x, u, params)\n",
    "\n",
    "# Dynamics derivatives\n",
    "@jax.jit\n",
    "def dfdx(x, u, params):\n",
    "    return jax.jacobian(lambda x, u : discrete_dynamics(x, u, params), argnums=0)(x, u)\n",
    "\n",
    "@jax.jit\n",
    "def dfdu(x, u, params):\n",
    "    return jax.jacobian(lambda x, u : discrete_dynamics(x, u, params), argnums=1)(x, u)\n",
    "\n",
    "# x = jnp.array([0.345, 1.0234])\n",
    "# u = jnp.array([1.4])\n",
    "\n",
    "# display(dfdx(x, u, params))\n",
    "# display(dfdu(x, u, params))\n",
    "\n",
    "P = jnp.array([\n",
    "    [1.0, 0, 0],\n",
    "    [0, 1.0, 0]\n",
    "])"
   ]
  },
  {
   "cell_type": "code",
   "execution_count": 84,
   "id": "daba8011",
   "metadata": {},
   "outputs": [
    {
     "data": {
      "text/plain": [
       "Array([[ 0.9512294 ,  0.        ,  0.        ],\n",
       "       [ 0.        ,  1.0512711 , -0.0488112 ],\n",
       "       [ 0.        ,  0.        ,  0.90483755]], dtype=float32)"
      ]
     },
     "metadata": {},
     "output_type": "display_data"
    },
    {
     "data": {
      "text/plain": [
       "Array([[0.       ],\n",
       "       [0.0512711],\n",
       "       [0.       ]], dtype=float32)"
      ]
     },
     "metadata": {},
     "output_type": "display_data"
    }
   ],
   "source": [
    "x = jnp.array([5.0, -2.0, 5.**2])\n",
    "u = jnp.array([1.])\n",
    "\n",
    "display(dfdx(x, u, params))\n",
    "display(dfdu(x, u, params))"
   ]
  },
  {
   "cell_type": "code",
   "execution_count": 85,
   "id": "aface7fd",
   "metadata": {},
   "outputs": [],
   "source": [
    "def term_cost(x, params):\n",
    "    xerr = P @ (x - params.Xref)\n",
    "    return 1/2 * jnp.dot(xerr, params.Qf @ xerr)\n",
    "\n",
    "# Terminal cost derivatives\n",
    "@jax.jit\n",
    "def terminal_cost_expansion(x, params):\n",
    "    J_x = jax.grad(lambda x: term_cost(x, params), argnums=0)(x)\n",
    "    J_xx = jax.hessian(lambda x: term_cost(x, params), argnums=0)(x)\n",
    "\n",
    "    return J_x, J_xx"
   ]
  },
  {
   "cell_type": "code",
   "execution_count": 86,
   "id": "30369a51",
   "metadata": {},
   "outputs": [],
   "source": [
    "# J_x, J_xx = terminal_cost_expansion(x, params)\n",
    "# display(J_x)\n",
    "# display(J_xx)"
   ]
  },
  {
   "cell_type": "code",
   "execution_count": 87,
   "id": "e1b90e4a",
   "metadata": {},
   "outputs": [],
   "source": [
    "def stage_cost(x, u, params):\n",
    "    xerr = P @ (x - params.Xref)\n",
    "    c1 = 1/2 * jnp.dot(xerr, params.Q @ xerr)\n",
    "    c2 = 1/2 * jnp.dot(u, params.R @ u)\n",
    "    return c1 + c2\n",
    "\n",
    "@jax.jit\n",
    "def stage_cost_expansion(x, u, params):\n",
    "    J_x = jax.grad(lambda x, u: stage_cost(x, u, params), argnums=0)(x, u)\n",
    "    J_u = jax.grad(lambda x, u: stage_cost(x, u, params), argnums=1)(x, u)\n",
    "    J_xx = jax.hessian(lambda x, u: stage_cost(x, u, params), argnums=0)(x, u)\n",
    "    J_uu = jax.hessian(lambda x, u: stage_cost(x, u, params), argnums=1)(x, u)\n",
    "    J_xu = jax.jacobian(jax.grad(lambda x, u: stage_cost(x, u, params), argnums=0), argnums=1)(x, u)\n",
    "    J_ux = J_xu.T\n",
    "    \n",
    "    return J_x, J_u, J_xx, J_uu, J_xu, J_ux"
   ]
  },
  {
   "cell_type": "code",
   "execution_count": 88,
   "id": "c8badb34",
   "metadata": {},
   "outputs": [
    {
     "data": {
      "text/plain": [
       "Array([0.61175, 2.66   , 0.     ], dtype=float32)"
      ]
     },
     "metadata": {},
     "output_type": "display_data"
    },
    {
     "data": {
      "text/plain": [
       "Array([0.52500004], dtype=float32)"
      ]
     },
     "metadata": {},
     "output_type": "display_data"
    },
    {
     "data": {
      "text/plain": [
       "Array([[0.5, 0. , 0. ],\n",
       "       [0. , 0.5, 0. ],\n",
       "       [0. , 0. , 0. ]], dtype=float32)"
      ]
     },
     "metadata": {},
     "output_type": "display_data"
    },
    {
     "data": {
      "text/plain": [
       "Array([[0.05]], dtype=float32)"
      ]
     },
     "metadata": {},
     "output_type": "display_data"
    },
    {
     "data": {
      "text/plain": [
       "Array([[0.],\n",
       "       [0.],\n",
       "       [0.]], dtype=float32)"
      ]
     },
     "metadata": {},
     "output_type": "display_data"
    },
    {
     "data": {
      "text/plain": [
       "Array([[0., 0., 0.]], dtype=float32)"
      ]
     },
     "metadata": {},
     "output_type": "display_data"
    }
   ],
   "source": [
    "x = np.array([1.2235, 5.32, 3.0])\n",
    "u = np.array([10.5])\n",
    "\n",
    "J_x, J_u, J_xx, J_uu, J_xu, J_ux = stage_cost_expansion(x, u, params)\n",
    "display(J_x)\n",
    "display(J_u)\n",
    "display(J_xx)\n",
    "display(J_uu)\n",
    "display(J_xu)\n",
    "display(J_ux)\n"
   ]
  },
  {
   "cell_type": "code",
   "execution_count": 89,
   "id": "ad12f176",
   "metadata": {},
   "outputs": [],
   "source": [
    "def trajectory_cost(xbar, ubar, params):\n",
    "    J = 0.0\n",
    "    for i in range(params.N-1):\n",
    "        Xi = xbar[i]\n",
    "        Ui = ubar[i]\n",
    "        J += stage_cost(Xi, Ui, params)\n",
    "    \n",
    "    J += term_cost(xbar[-1], params)\n",
    "    return J\n",
    "\n",
    "def backwards(xbar, ubar, regu, params):\n",
    "    Xn = xbar[-1]\n",
    "    V_x, V_xx = terminal_cost_expansion(Xn, params)\n",
    "    \n",
    "    ks = np.zeros((params.N, params.nu))\n",
    "    Ks = np.zeros((params.N, params.nu, params.nx))\n",
    "    \n",
    "    delta_J = 0.0\n",
    "    \n",
    "    for i in range(params.N - 2, -1, -1):\n",
    "        Xi = xbar[i]\n",
    "        Ui = ubar[i]\n",
    "                \n",
    "        f_x, f_u = dfdx(Xi, Ui, params), dfdu(Xi, Ui, params)\n",
    "        l_x, l_u, l_xx, l_uu, l_xu, l_ux = stage_cost_expansion(Xi, Ui, params)\n",
    "        \n",
    "        # Q_terms\n",
    "        Q_x  = l_x  + f_x.T@V_x\n",
    "        Q_u  = l_u  + f_u.T@V_x\n",
    "        Q_xx = l_xx + f_x.T@V_xx@f_x\n",
    "        Q_ux = l_ux + f_u.T@V_xx@f_x\n",
    "        Q_uu = l_uu + f_u.T@V_xx@f_u\n",
    "\n",
    "        # gains\n",
    "        Q_uu_regu = Q_uu + regu * jnp.eye(nu)\n",
    "        Q_uu_inv = np.linalg.inv(Q_uu_regu)\n",
    "\n",
    "        k = -Q_uu_inv@Q_u\n",
    "        K = -Q_uu_inv@Q_ux\n",
    "        \n",
    "        V_x  = Q_x + K.T@Q_u + Q_ux.T@k + K.T@Q_uu@k\n",
    "        V_xx = Q_xx + 2*K.T@Q_ux + K.T@Q_uu@K\n",
    "        \n",
    "        ks[i] = k\n",
    "        Ks[i] = K\n",
    "        delta_J += Q_u.T@k + 0.5*k.T@Q_uu@k\n",
    "    \n",
    "    print(f\"{delta_J=}\")\n",
    "    return ks, Ks, delta_J\n",
    "\n",
    "def forwards(xbar, ubar, ds, Ks, alpha, params):\n",
    "    xbar_new = np.zeros((params.N, params.nx))\n",
    "    ubar_new = np.zeros((params.N-1, params.nu))\n",
    "    xbar_new[0] = xbar[0]\n",
    "        \n",
    "    # for _ in range(max_iters):\n",
    "    for k in range(params.N-1):\n",
    "        ubar_new[k] = ubar[k] + alpha * ds[k] + Ks[k] @ (xbar_new[k] - xbar[k])\n",
    "        xbar_new[k+1] = rk4_step(xbar_new[k], ubar_new[k], params)\n",
    "    \n",
    "    J = trajectory_cost(xbar_new, ubar_new, params)\n",
    "\n",
    "    return xbar_new, ubar_new, J\n",
    "\n",
    "def simulate(x0, ubar, params):\n",
    "    xbar = np.zeros((params.N, params.nx))\n",
    "    \n",
    "    xbar[0] = x0\n",
    "    for i in range(params.N-1):\n",
    "        xbar[i+1] = rk4_step(xbar[i], ubar[i], params)\n",
    "    \n",
    "    return xbar, ubar\n",
    "\n",
    "def iLQR(x0, uguess, params, atol=1e-3, max_iters=100, max_ls_iters=20):\n",
    "    xbar, ubar = simulate(x0, uguess, params)\n",
    "    \n",
    "    for ilqr_iter in range(max_iters):\n",
    "        Jold = trajectory_cost(xbar, ubar, params)\n",
    "        alpha = 1.0\n",
    "        \n",
    "        ks, Ks, delta_J = backwards(xbar, ubar, 1e-3, params)\n",
    "        xbar_new, ubar_new, J = forwards(xbar, ubar, ks, Ks, alpha, params)\n",
    "        \n",
    "        if np.abs(delta_J) < atol:\n",
    "            print(f\"Converged at iteration {ilqr_iter}\")\n",
    "            print(f\"{J=}, {params.Xref=}, {xbar_new[-1]=}\")\n",
    "            return xbar_new, ubar_new, J\n",
    "        \n",
    "        for _ in range(max_ls_iters):\n",
    "            if J < Jold:\n",
    "                xbar = xbar_new\n",
    "                ubar = ubar_new\n",
    "                \n",
    "                print(f\"Line search succeeded at iteration {ilqr_iter=}, {alpha=}, {Jold=}, {J=}\")\n",
    "                break\n",
    "            \n",
    "            alpha *= 0.5\n",
    "            xbar_new, ubar_new, J = forwards(xbar, ubar, ks, Ks, alpha, params)\n",
    "        else:\n",
    "            raise RuntimeError(f\"Line search failed at iteration {ilqr_iter}\")\n",
    "        "
   ]
  },
  {
   "cell_type": "code",
   "execution_count": 90,
   "id": "25c4f68e",
   "metadata": {},
   "outputs": [
    {
     "name": "stdout",
     "output_type": "stream",
     "text": [
      "delta_J=Array(-2.1193673e+10, dtype=float32)\n",
      "Line search succeeded at iteration ilqr_iter=0, alpha=1.0, Jold=Array(2.1193687e+10, dtype=float32), J=Array(305.90622, dtype=float32)\n",
      "delta_J=Array(-0.01704441, dtype=float32)\n",
      "Line search succeeded at iteration ilqr_iter=1, alpha=1.0, Jold=Array(305.90622, dtype=float32), J=Array(305.8892, dtype=float32)\n",
      "delta_J=Array(-7.0898744e-07, dtype=float32)\n",
      "Converged at iteration 2\n",
      "J=Array(305.88928, dtype=float32), params.Xref=Array([0., 0., 0.], dtype=float32), xbar_new[-1]=array([ 1.67731335e-03, -2.32865318e-07,  2.81342022e-06])\n"
     ]
    }
   ],
   "source": [
    "nx = 3\n",
    "nu = 1\n",
    "Q = 0.5 * jnp.eye(2)\n",
    "R = 0.1 * jnp.eye(nu)\n",
    "Qf = 1e2 * Q\n",
    "Xref = jnp.array([0.0, 0.0, 0.0])\n",
    "tf = 8.0\n",
    "dt = 0.05\n",
    "N = int(tf / dt) + 1\n",
    "\n",
    "model = Model(\n",
    "    mu = -1.0,\n",
    "    lam = 1.0,\n",
    ")\n",
    "\n",
    "params = Params(\n",
    "    nx = nx,\n",
    "    nu = nu,\n",
    "    Q = Q,\n",
    "    R = R,\n",
    "    Qf = Qf,\n",
    "    Xref = Xref,\n",
    "    tf = tf,\n",
    "    dt = dt,\n",
    "    N = N,\n",
    "    model = model,\n",
    ")\n",
    "\n",
    "ts = np.arange(0, params.tf + params.dt, params.dt)\n",
    "uguess = np.ones((params.N-1, params.nu))\n",
    "\n",
    "xs, us, Ks = iLQR(\n",
    "    x0=jnp.array([5.0, -2.0, 5.0**2]),\n",
    "    uguess=uguess,\n",
    "    params=params,\n",
    "    atol=1e-3,\n",
    "    max_iters=100,\n",
    "    max_ls_iters=20,\n",
    ")"
   ]
  },
  {
   "cell_type": "code",
   "execution_count": 91,
   "id": "c4bf2807",
   "metadata": {},
   "outputs": [
    {
     "data": {
      "image/png": "[encoded data removed]",
      "text/plain": [
       "<Figure size 800x600 with 3 Axes>"
      ]
     },
     "metadata": {},
     "output_type": "display_data"
    }
   ],
   "source": [
    "# Plot the trajectory\n",
    "fig, ax = plt.subplots(3,1, figsize=(8, 6))\n",
    "\n",
    "ax[0].plot(ts, xs[:, 0], label=\"x1\", linewidth=1)\n",
    "ax[1].plot(ts, xs[:, 1], label=\"x2\", linewidth=1)\n",
    "ax[2].plot(ts[:-1], us[:, 0], label=\"u\", linewidth=1)\n",
    "\n",
    "ax[0].set_title(\"x1 Trajectory\")\n",
    "ax[0].set_xlabel(\"t\")\n",
    "ax[0].set_ylabel(\"x1\")\n",
    "\n",
    "ax[1].set_title(\"x2 Trajectory\")\n",
    "ax[1].set_xlabel(\"t\")\n",
    "ax[1].set_ylabel(\"x2\")\n",
    "\n",
    "ax[2].set_title(\"u Trajectory\")\n",
    "ax[2].set_xlabel(\"t\")\n",
    "ax[2].set_ylabel(\"u\")\n",
    "\n",
    "plt.tight_layout()\n",
    "plt.show()"
   ]
  },
  {
   "cell_type": "code",
   "execution_count": null,
   "id": "5c0a6da4",
   "metadata": {},
   "outputs": [],
   "source": []
  }
 ],
 "metadata": {
  "kernelspec": {
   "display_name": "venv",
   "language": "python",
   "name": "python3"
  },
  "language_info": {
   "codemirror_mode": {
    "name": "ipython",
    "version": 3
   },
   "file_extension": ".py",
   "mimetype": "text/x-python",
   "name": "python",
   "nbconvert_exporter": "python",
   "pygments_lexer": "ipython3",
   "version": "3.10.16"
  }
 },
 "nbformat": 4,
 "nbformat_minor": 5
}
