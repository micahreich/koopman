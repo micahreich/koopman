{
 "cells": [
  {
   "cell_type": "code",
   "execution_count": 23,
   "id": "67081ce5",
   "metadata": {},
   "outputs": [],
   "source": [
    "import jax.numpy as jnp\n",
    "import jax\n",
    "from jax import jit\n",
    "import numpy as np\n",
    "import matplotlib.pyplot as plt\n",
    "from collections import namedtuple\n",
    "from scipy.linalg import expm\n",
    "\n",
    "Model = namedtuple('Model', ['mu', 'lam'])\n",
    "Params = namedtuple('Params', ['nx', 'nu', 'nz', 'P', 'Q', 'R', 'Qf', 'Xref', 'tf', 'dt', 'N', 'model'])\n",
    "\n",
    "nx = 2\n",
    "nu = 1\n",
    "nz = 3\n",
    "P = jnp.block([\n",
    "    jnp.eye(nx), jnp.zeros((nx, nz-nx))\n",
    "])\n",
    "\n",
    "Q = 0.5 * jnp.eye(2)\n",
    "R = 0.05 * jnp.eye(nu)\n",
    "Qf = 1e2 * Q\n",
    "Xref = jnp.array([0.0, 0.0])\n",
    "\n",
    "tf = 5.0\n",
    "dt = 0.05\n",
    "N = int(tf / dt) + 1\n",
    "\n",
    "model = Model(\n",
    "    mu = -1.0,\n",
    "    lam = 1.0,\n",
    ")\n",
    "\n",
    "params = Params(\n",
    "    nx = nx,\n",
    "    nu = nu,\n",
    "    nz = nz,\n",
    "    P = P,\n",
    "    Q = Q,\n",
    "    R = R,\n",
    "    Qf = Qf,\n",
    "    Xref = Xref,\n",
    "    tf = tf,\n",
    "    dt = dt,\n",
    "    N = N,\n",
    "    model = model,\n",
    ")\n",
    "\n",
    "def c2d(A, B, dt):\n",
    "    n = A.shape[0]\n",
    "    M = np.block([\n",
    "        [A, B],\n",
    "        [np.zeros((B.shape[1], A.shape[0] + B.shape[1]))]\n",
    "    ])\n",
    "    M_exp = expm(M * dt)\n",
    "    A_d = M_exp[:n, :n]\n",
    "    B_d = M_exp[:n, n:]\n",
    "    return A_d, B_d"
   ]
  },
  {
   "cell_type": "code",
   "execution_count": 24,
   "id": "5cab7b0d",
   "metadata": {},
   "outputs": [
    {
     "data": {
      "text/plain": [
       "Array([[ 0.9512294 ,  0.        ,  0.        ],\n",
       "       [ 0.        ,  1.0512711 , -0.0488112 ],\n",
       "       [ 0.        ,  0.        ,  0.90483755]], dtype=float32)"
      ]
     },
     "metadata": {},
     "output_type": "display_data"
    },
    {
     "data": {
      "text/plain": [
       "Array([[0.       ],\n",
       "       [0.0512711],\n",
       "       [0.       ]], dtype=float32)"
      ]
     },
     "metadata": {},
     "output_type": "display_data"
    }
   ],
   "source": [
    "def continuous_dynamics(x, u, params):\n",
    "    x1, x2 = x[0], x[1]\n",
    "   \n",
    "    # xdot = jnp.array([\n",
    "    #     x2,\n",
    "    #     params.model.mu * (1 - x1**2) * x2 - x1 + u[0]\n",
    "    # ])\n",
    "    # xdot = jnp.array([\n",
    "    #     jnp.sin(x1) + u[0],\n",
    "    #     0.0,\n",
    "    # ])\n",
    "    xdot = jnp.array([\n",
    "        params.model.mu * x1,\n",
    "        params.model.lam * (x2 - x1**2) + u[0]\n",
    "    ])\n",
    "\n",
    "    return xdot\n",
    "\n",
    "def rk4_step(x, u, params, continuous_dynamics):\n",
    "    k1 = params.dt*continuous_dynamics(x, u, params)\n",
    "    k2 = params.dt*continuous_dynamics(x + k1/2, u, params)\n",
    "    k3 = params.dt*continuous_dynamics(x + k2/2, u, params)\n",
    "    k4 = params.dt*continuous_dynamics(x + k3, u, params)\n",
    "    \n",
    "    x_next = x + 1/6 * (k1 + 2*k2 + 2*k3 + k4)\n",
    "    \n",
    "    return x_next\n",
    "\n",
    "# def discrete_dynamics(x, u, params, continuous_dynamics):\n",
    "#     return rk4_step(x, u, params, continuous_dynamics)\n",
    "\n",
    "\n",
    "def discrete_dynamics_koopman(z, u, params):\n",
    "    Ac = jnp.array([\n",
    "        [model.mu, 0.0, 0.0],\n",
    "        [0.0, model.lam, -model.lam],\n",
    "        [0.0, 0.0, 2.0*model.mu]\n",
    "    ])\n",
    "    Bc = jnp.array([\n",
    "        [0.0],\n",
    "        [1.0],\n",
    "        [0.0]\n",
    "    ])\n",
    "    continuous_dynamics = lambda z, u, params: Ac @ z + Bc @ u\n",
    "    return rk4_step(z, u, params, continuous_dynamics)\n",
    "\n",
    "# Dynamics derivatives\n",
    "@jax.jit\n",
    "def dfdz(z, u, params):\n",
    "    return jax.jacobian(lambda z, u : discrete_dynamics_koopman(z, u, params), argnums=0)(z, u)\n",
    "\n",
    "@jax.jit\n",
    "def dfdu(z, u, params):\n",
    "    return jax.jacobian(lambda z, u : discrete_dynamics_koopman(z, u, params), argnums=1)(z, u)\n",
    "\n",
    "def lift_state(x):\n",
    "    x1, x2 = x[0], x[1]\n",
    "    \n",
    "    return jnp.array([\n",
    "        x1,\n",
    "        x2,\n",
    "        x1 ** 2,\n",
    "    ])\n",
    "\n",
    "z = jnp.array([5.0, -2.0, 5.**2])\n",
    "u = jnp.array([1.])\n",
    "\n",
    "display(dfdz(z, u, params))\n",
    "display(dfdu(z, u, params))\n",
    "# display(params.P)"
   ]
  },
  {
   "cell_type": "code",
   "execution_count": 25,
   "id": "aface7fd",
   "metadata": {},
   "outputs": [],
   "source": [
    "def term_cost(x, params):\n",
    "    xerr = x - params.Xref\n",
    "    return 1/2 * jnp.dot(xerr, params.Qf @ xerr)\n",
    "\n",
    "# Terminal cost derivatives\n",
    "@jax.jit\n",
    "def terminal_cost_expansion(z, params):\n",
    "    J_z = jax.grad(lambda x: term_cost(params.P @ z, params), argnums=0)(z)\n",
    "    J_zz = jax.hessian(lambda z: term_cost(params.P @ z, params), argnums=0)(z)\n",
    "\n",
    "    return J_z, J_zz"
   ]
  },
  {
   "cell_type": "code",
   "execution_count": 26,
   "id": "6638da03",
   "metadata": {},
   "outputs": [],
   "source": [
    "# z = np.array([1, 2, 3.0])\n",
    "# J_z, J_zz = terminal_cost_expansion(z, params)\n",
    "# display(J_z, J_z.shape)\n",
    "# display(J_zz, J_zz.shape)"
   ]
  },
  {
   "cell_type": "code",
   "execution_count": 27,
   "id": "e1b90e4a",
   "metadata": {},
   "outputs": [],
   "source": [
    "def stage_cost(x, u, params):\n",
    "    xerr = x - params.Xref\n",
    "    c1 = 1/2 * jnp.dot(xerr, params.Q @ xerr)\n",
    "    c2 = 1/2 * jnp.dot(u, params.R @ u)\n",
    "    return c1 + c2\n",
    "\n",
    "@jax.jit\n",
    "def stage_cost_expansion(z, u, params):\n",
    "    J_z = jax.grad(lambda z, u: stage_cost(params.P @ z, u, params), argnums=0)(z, u)\n",
    "    J_u = jax.grad(lambda z, u: stage_cost(params.P @ z, u, params), argnums=1)(z, u)\n",
    "    J_zz = jax.hessian(lambda z, u: stage_cost(params.P @ z, u, params), argnums=0)(z, u)\n",
    "    J_uu = jax.hessian(lambda z, u: stage_cost(params.P @ z, u, params), argnums=1)(z, u)\n",
    "    J_zu = jax.jacobian(jax.grad(lambda z, u: stage_cost(params.P @ z, u, params), argnums=0), argnums=1)(z, u)\n",
    "    J_uz = J_zu.T\n",
    "    \n",
    "    return J_z, J_u, J_zz, J_uu, J_zu, J_uz"
   ]
  },
  {
   "cell_type": "code",
   "execution_count": 28,
   "id": "27dda6b9",
   "metadata": {},
   "outputs": [
    {
     "data": {
      "text/plain": [
       "Array([0.61175, 2.66   , 0.     ], dtype=float32)"
      ]
     },
     "metadata": {},
     "output_type": "display_data"
    },
    {
     "data": {
      "text/plain": [
       "Array([0.52500004], dtype=float32)"
      ]
     },
     "metadata": {},
     "output_type": "display_data"
    },
    {
     "data": {
      "text/plain": [
       "Array([[0.5, 0. , 0. ],\n",
       "       [0. , 0.5, 0. ],\n",
       "       [0. , 0. , 0. ]], dtype=float32)"
      ]
     },
     "metadata": {},
     "output_type": "display_data"
    },
    {
     "data": {
      "text/plain": [
       "Array([[0.05]], dtype=float32)"
      ]
     },
     "metadata": {},
     "output_type": "display_data"
    },
    {
     "data": {
      "text/plain": [
       "Array([[0.],\n",
       "       [0.],\n",
       "       [0.]], dtype=float32)"
      ]
     },
     "metadata": {},
     "output_type": "display_data"
    },
    {
     "data": {
      "text/plain": [
       "Array([[0., 0., 0.]], dtype=float32)"
      ]
     },
     "metadata": {},
     "output_type": "display_data"
    }
   ],
   "source": [
    "z = np.array([1.2235, 5.32, 3.0])\n",
    "u = np.array([10.5])\n",
    "J_z, J_u, J_zz, J_uu, J_zu, J_uz = stage_cost_expansion(z, u, params)\n",
    "\n",
    "display(J_z)\n",
    "display(J_u)\n",
    "display(J_zz)\n",
    "display(J_uu)\n",
    "display(J_zu)\n",
    "display(J_uz)"
   ]
  },
  {
   "cell_type": "code",
   "execution_count": 29,
   "id": "ad12f176",
   "metadata": {},
   "outputs": [],
   "source": [
    "def trajectory_cost(xbar, ubar, params):\n",
    "    J = 0.0\n",
    "    for i in range(N-1):\n",
    "        Xi = xbar[i]\n",
    "        Ui = ubar[i]\n",
    "        J += stage_cost(Xi, Ui, params)\n",
    "    \n",
    "    J += term_cost(xbar[-1], params)\n",
    "    return J\n",
    "\n",
    "def backwards(zbar, ubar, regu, params):\n",
    "    Zn = zbar[-1]\n",
    "    V_z, V_zz = terminal_cost_expansion(Zn, params)\n",
    "    \n",
    "    ks = np.zeros((params.N, params.nu))\n",
    "    Ks = np.zeros((params.N, params.nu, params.nz))\n",
    "    \n",
    "    delta_J = 0.0\n",
    "    \n",
    "    for i in range(params.N - 2, -1, -1):\n",
    "        Zi = zbar[i]\n",
    "        Ui = ubar[i]\n",
    "\n",
    "        f_z, f_u = dfdz(Zi, Ui, params), dfdu(Zi, Ui, params)\n",
    "        l_z, l_u, l_zz, l_uu, l_zu, l_uz = stage_cost_expansion(Zi, Ui, params)\n",
    "\n",
    "        # Q_terms\n",
    "        Q_z  = l_z  + f_z.T@V_z\n",
    "        Q_u  = l_u  + f_u.T@V_z\n",
    "        Q_zz = l_zz + f_z.T@V_zz@f_z\n",
    "        Q_uz = l_uz + f_u.T@V_zz@f_z\n",
    "        Q_uu = l_uu + f_u.T@V_zz@f_u\n",
    "\n",
    "        # gains\n",
    "        Q_uu_regu = Q_uu + regu * jnp.eye(nu)\n",
    "        Q_uu_inv = np.linalg.inv(Q_uu_regu)\n",
    "\n",
    "        k = -Q_uu_inv@Q_u\n",
    "        K = -Q_uu_inv@Q_uz\n",
    "                \n",
    "        V_z  = Q_z + K.T@Q_u + Q_uz.T@k + K.T@Q_uu@k\n",
    "        V_zz = Q_zz + 2*K.T@Q_uz + K.T@Q_uu@K\n",
    "        \n",
    "        ks[i] = k\n",
    "        Ks[i] = K\n",
    "        delta_J += Q_u.T@k + 0.5*k.T@Q_uu@k\n",
    "    \n",
    "    print(f\"{delta_J=}\")\n",
    "    return ks, Ks, delta_J\n",
    "\n",
    "def forwards(xbar, zbar, ubar, ds, Ks, alpha, params):\n",
    "    xbar_new = np.zeros((params.N, params.nx))\n",
    "    zbar_new = np.zeros((params.N, params.nz))\n",
    "    ubar_new = np.zeros((params.N-1, params.nu))\n",
    "    \n",
    "    xbar_new[0] = xbar[0]\n",
    "    zbar_new[0] = lift_state(xbar_new[0])\n",
    "        \n",
    "    for k in range(params.N-1):\n",
    "        ubar_new[k] = ubar[k] + alpha * ds[k] + Ks[k] @ (zbar_new[k] - zbar[k])\n",
    "        \n",
    "        xbar_new[k+1] = rk4_step(xbar_new[k], ubar_new[k], params, continuous_dynamics)\n",
    "        zbar_new[k+1] = lift_state(xbar_new[k+1])\n",
    "    \n",
    "    J = trajectory_cost(xbar_new, ubar_new, params)\n",
    "\n",
    "    return xbar_new, zbar_new, ubar_new, J\n",
    "\n",
    "def simulate(x0, ubar, params):\n",
    "    xbar = np.zeros((params.N, params.nx))\n",
    "    zbar = np.zeros((params.N, params.nz))\n",
    "    \n",
    "    xbar[0] = x0\n",
    "    zbar[0] = lift_state(xbar[0])\n",
    "    \n",
    "    for i in range(params.N-1):\n",
    "        xbar[i+1] = rk4_step(xbar[i], ubar[i], params, continuous_dynamics)\n",
    "        zbar[i+1] = lift_state(xbar[i+1])\n",
    "    \n",
    "    return xbar, zbar, ubar\n",
    "\n",
    "def iLQR(x0, uguess, params, atol=1e-3, max_iters=100, max_ls_iters=20):\n",
    "    xbar, zbar, ubar = simulate(x0, uguess, params)\n",
    "    \n",
    "    for ilqr_iter in range(max_iters):\n",
    "        Jold = trajectory_cost(xbar, ubar, params)\n",
    "        alpha = 1.0\n",
    "        \n",
    "        ks, Ks, delta_J = backwards(zbar, ubar, 1e-3, params)\n",
    "        xbar_new, zbar_new, ubar_new, J = forwards(xbar, zbar, ubar, ks, Ks, alpha, params)\n",
    "        \n",
    "        if np.abs(delta_J) < atol:\n",
    "            print(f\"Converged at iteration {ilqr_iter}\")\n",
    "            print(f\"{J=}, {params.Xref=}, {xbar_new[-1]=}\")\n",
    "            return xbar_new, zbar_new, ubar_new, J\n",
    "        \n",
    "        for _ in range(max_ls_iters):\n",
    "            if J < Jold:\n",
    "                xbar = xbar_new\n",
    "                zbar = zbar_new\n",
    "                ubar = ubar_new\n",
    "                \n",
    "                print(f\"Line search succeeded at iteration {ilqr_iter=}, {alpha=}, {Jold=}, {J=}\")\n",
    "                break\n",
    "            \n",
    "            alpha *= 0.5\n",
    "            xbar_new, zbar_new, ubar_new, J = forwards(xbar, zbar, ubar, ks, Ks, alpha, params)\n",
    "        else:\n",
    "            raise RuntimeError(f\"Line search failed at iteration {ilqr_iter}\")\n",
    "        "
   ]
  },
  {
   "cell_type": "code",
   "execution_count": 30,
   "id": "25c4f68e",
   "metadata": {},
   "outputs": [
    {
     "name": "stdout",
     "output_type": "stream",
     "text": [
      "delta_J=Array(-8.636761e+08, dtype=float32)\n",
      "Line search succeeded at iteration ilqr_iter=0, alpha=1.0, Jold=Array(2.1193693e+10, dtype=float32), J=Array(1.8344518e+10, dtype=float32)\n",
      "delta_J=Array(-46719628., dtype=float32)\n",
      "Line search succeeded at iteration ilqr_iter=1, alpha=1.0, Jold=Array(1.8344518e+10, dtype=float32), J=Array(1.6541446e+10, dtype=float32)\n",
      "delta_J=Array(-42122652., dtype=float32)\n",
      "Line search succeeded at iteration ilqr_iter=2, alpha=1.0, Jold=Array(1.6541446e+10, dtype=float32), J=Array(1.4915499e+10, dtype=float32)\n",
      "delta_J=Array(-37982176., dtype=float32)\n",
      "Line search succeeded at iteration ilqr_iter=3, alpha=1.0, Jold=Array(1.4915499e+10, dtype=float32), J=Array(1.3449375e+10, dtype=float32)\n",
      "delta_J=Array(-34248708., dtype=float32)\n",
      "Line search succeeded at iteration ilqr_iter=4, alpha=1.0, Jold=Array(1.3449375e+10, dtype=float32), J=Array(1.2127364e+10, dtype=float32)\n",
      "delta_J=Array(-30882230., dtype=float32)\n",
      "Line search succeeded at iteration ilqr_iter=5, alpha=1.0, Jold=Array(1.2127364e+10, dtype=float32), J=Array(1.0935301e+10, dtype=float32)\n",
      "delta_J=Array(-27846640., dtype=float32)\n",
      "Line search succeeded at iteration ilqr_iter=6, alpha=1.0, Jold=Array(1.0935301e+10, dtype=float32), J=Array(9.860412e+09, dtype=float32)\n",
      "delta_J=Array(-25109450., dtype=float32)\n",
      "Line search succeeded at iteration ilqr_iter=7, alpha=1.0, Jold=Array(9.860412e+09, dtype=float32), J=Array(8.891181e+09, dtype=float32)\n",
      "delta_J=Array(-22641318., dtype=float32)\n"
     ]
    },
    {
     "ename": "KeyboardInterrupt",
     "evalue": "",
     "output_type": "error",
     "traceback": [
      "\u001b[0;31m---------------------------------------------------------------------------\u001b[0m",
      "\u001b[0;31mKeyboardInterrupt\u001b[0m                         Traceback (most recent call last)",
      "Cell \u001b[0;32mIn[30], line 40\u001b[0m\n\u001b[1;32m     37\u001b[0m ts \u001b[38;5;241m=\u001b[39m np\u001b[38;5;241m.\u001b[39marange(\u001b[38;5;241m0\u001b[39m, params\u001b[38;5;241m.\u001b[39mtf \u001b[38;5;241m+\u001b[39m params\u001b[38;5;241m.\u001b[39mdt, params\u001b[38;5;241m.\u001b[39mdt)\n\u001b[1;32m     38\u001b[0m uguess \u001b[38;5;241m=\u001b[39m np\u001b[38;5;241m.\u001b[39mones((params\u001b[38;5;241m.\u001b[39mN\u001b[38;5;241m-\u001b[39m\u001b[38;5;241m1\u001b[39m, params\u001b[38;5;241m.\u001b[39mnu))\n\u001b[0;32m---> 40\u001b[0m xs, us, Ks \u001b[38;5;241m=\u001b[39m \u001b[43miLQR\u001b[49m\u001b[43m(\u001b[49m\n\u001b[1;32m     41\u001b[0m \u001b[43m    \u001b[49m\u001b[43mx0\u001b[49m\u001b[38;5;241;43m=\u001b[39;49m\u001b[43mjnp\u001b[49m\u001b[38;5;241;43m.\u001b[39;49m\u001b[43marray\u001b[49m\u001b[43m(\u001b[49m\u001b[43m[\u001b[49m\u001b[38;5;241;43m5.0\u001b[39;49m\u001b[43m,\u001b[49m\u001b[43m \u001b[49m\u001b[38;5;241;43m-\u001b[39;49m\u001b[38;5;241;43m2.0\u001b[39;49m\u001b[43m]\u001b[49m\u001b[43m)\u001b[49m\u001b[43m,\u001b[49m\n\u001b[1;32m     42\u001b[0m \u001b[43m    \u001b[49m\u001b[43muguess\u001b[49m\u001b[38;5;241;43m=\u001b[39;49m\u001b[43muguess\u001b[49m\u001b[43m,\u001b[49m\n\u001b[1;32m     43\u001b[0m \u001b[43m    \u001b[49m\u001b[43mparams\u001b[49m\u001b[38;5;241;43m=\u001b[39;49m\u001b[43mparams\u001b[49m\u001b[43m,\u001b[49m\n\u001b[1;32m     44\u001b[0m \u001b[43m    \u001b[49m\u001b[43matol\u001b[49m\u001b[38;5;241;43m=\u001b[39;49m\u001b[38;5;241;43m1e-3\u001b[39;49m\u001b[43m,\u001b[49m\n\u001b[1;32m     45\u001b[0m \u001b[43m    \u001b[49m\u001b[43mmax_iters\u001b[49m\u001b[38;5;241;43m=\u001b[39;49m\u001b[38;5;241;43m100\u001b[39;49m\u001b[43m,\u001b[49m\n\u001b[1;32m     46\u001b[0m \u001b[43m    \u001b[49m\u001b[43mmax_ls_iters\u001b[49m\u001b[38;5;241;43m=\u001b[39;49m\u001b[38;5;241;43m20\u001b[39;49m\u001b[43m,\u001b[49m\n\u001b[1;32m     47\u001b[0m \u001b[43m)\u001b[49m\n",
      "Cell \u001b[0;32mIn[29], line 90\u001b[0m, in \u001b[0;36miLQR\u001b[0;34m(x0, uguess, params, atol, max_iters, max_ls_iters)\u001b[0m\n\u001b[1;32m     87\u001b[0m alpha \u001b[38;5;241m=\u001b[39m \u001b[38;5;241m1.0\u001b[39m\n\u001b[1;32m     89\u001b[0m ks, Ks, delta_J \u001b[38;5;241m=\u001b[39m backwards(zbar, ubar, \u001b[38;5;241m1e-3\u001b[39m, params)\n\u001b[0;32m---> 90\u001b[0m xbar_new, zbar_new, ubar_new, J \u001b[38;5;241m=\u001b[39m \u001b[43mforwards\u001b[49m\u001b[43m(\u001b[49m\u001b[43mxbar\u001b[49m\u001b[43m,\u001b[49m\u001b[43m \u001b[49m\u001b[43mzbar\u001b[49m\u001b[43m,\u001b[49m\u001b[43m \u001b[49m\u001b[43mubar\u001b[49m\u001b[43m,\u001b[49m\u001b[43m \u001b[49m\u001b[43mks\u001b[49m\u001b[43m,\u001b[49m\u001b[43m \u001b[49m\u001b[43mKs\u001b[49m\u001b[43m,\u001b[49m\u001b[43m \u001b[49m\u001b[43malpha\u001b[49m\u001b[43m,\u001b[49m\u001b[43m \u001b[49m\u001b[43mparams\u001b[49m\u001b[43m)\u001b[49m\n\u001b[1;32m     92\u001b[0m \u001b[38;5;28;01mif\u001b[39;00m np\u001b[38;5;241m.\u001b[39mabs(delta_J) \u001b[38;5;241m<\u001b[39m atol:\n\u001b[1;32m     93\u001b[0m     \u001b[38;5;28mprint\u001b[39m(\u001b[38;5;124mf\u001b[39m\u001b[38;5;124m\"\u001b[39m\u001b[38;5;124mConverged at iteration \u001b[39m\u001b[38;5;132;01m{\u001b[39;00milqr_iter\u001b[38;5;132;01m}\u001b[39;00m\u001b[38;5;124m\"\u001b[39m)\n",
      "Cell \u001b[0;32mIn[29], line 62\u001b[0m, in \u001b[0;36mforwards\u001b[0;34m(xbar, zbar, ubar, ds, Ks, alpha, params)\u001b[0m\n\u001b[1;32m     59\u001b[0m \u001b[38;5;28;01mfor\u001b[39;00m k \u001b[38;5;129;01min\u001b[39;00m \u001b[38;5;28mrange\u001b[39m(params\u001b[38;5;241m.\u001b[39mN\u001b[38;5;241m-\u001b[39m\u001b[38;5;241m1\u001b[39m):\n\u001b[1;32m     60\u001b[0m     ubar_new[k] \u001b[38;5;241m=\u001b[39m ubar[k] \u001b[38;5;241m+\u001b[39m alpha \u001b[38;5;241m*\u001b[39m ds[k] \u001b[38;5;241m+\u001b[39m Ks[k] \u001b[38;5;241m@\u001b[39m (zbar_new[k] \u001b[38;5;241m-\u001b[39m zbar[k])\n\u001b[0;32m---> 62\u001b[0m     xbar_new[k\u001b[38;5;241m+\u001b[39m\u001b[38;5;241m1\u001b[39m] \u001b[38;5;241m=\u001b[39m \u001b[43mrk4_step\u001b[49m\u001b[43m(\u001b[49m\u001b[43mxbar_new\u001b[49m\u001b[43m[\u001b[49m\u001b[43mk\u001b[49m\u001b[43m]\u001b[49m\u001b[43m,\u001b[49m\u001b[43m \u001b[49m\u001b[43mubar_new\u001b[49m\u001b[43m[\u001b[49m\u001b[43mk\u001b[49m\u001b[43m]\u001b[49m\u001b[43m,\u001b[49m\u001b[43m \u001b[49m\u001b[43mparams\u001b[49m\u001b[43m,\u001b[49m\u001b[43m \u001b[49m\u001b[43mcontinuous_dynamics\u001b[49m\u001b[43m)\u001b[49m\n\u001b[1;32m     63\u001b[0m     zbar_new[k\u001b[38;5;241m+\u001b[39m\u001b[38;5;241m1\u001b[39m] \u001b[38;5;241m=\u001b[39m lift_state(xbar_new[k\u001b[38;5;241m+\u001b[39m\u001b[38;5;241m1\u001b[39m])\n\u001b[1;32m     65\u001b[0m J \u001b[38;5;241m=\u001b[39m trajectory_cost(xbar_new, ubar_new, params)\n",
      "Cell \u001b[0;32mIn[24], line 21\u001b[0m, in \u001b[0;36mrk4_step\u001b[0;34m(x, u, params, continuous_dynamics)\u001b[0m\n\u001b[1;32m     19\u001b[0m \u001b[38;5;28;01mdef\u001b[39;00m\u001b[38;5;250m \u001b[39m\u001b[38;5;21mrk4_step\u001b[39m(x, u, params, continuous_dynamics):\n\u001b[1;32m     20\u001b[0m     k1 \u001b[38;5;241m=\u001b[39m params\u001b[38;5;241m.\u001b[39mdt\u001b[38;5;241m*\u001b[39mcontinuous_dynamics(x, u, params)\n\u001b[0;32m---> 21\u001b[0m     k2 \u001b[38;5;241m=\u001b[39m params\u001b[38;5;241m.\u001b[39mdt\u001b[38;5;241m*\u001b[39m\u001b[43mcontinuous_dynamics\u001b[49m\u001b[43m(\u001b[49m\u001b[43mx\u001b[49m\u001b[43m \u001b[49m\u001b[38;5;241;43m+\u001b[39;49m\u001b[43m \u001b[49m\u001b[43mk1\u001b[49m\u001b[38;5;241;43m/\u001b[39;49m\u001b[38;5;241;43m2\u001b[39;49m\u001b[43m,\u001b[49m\u001b[43m \u001b[49m\u001b[43mu\u001b[49m\u001b[43m,\u001b[49m\u001b[43m \u001b[49m\u001b[43mparams\u001b[49m\u001b[43m)\u001b[49m\n\u001b[1;32m     22\u001b[0m     k3 \u001b[38;5;241m=\u001b[39m params\u001b[38;5;241m.\u001b[39mdt\u001b[38;5;241m*\u001b[39mcontinuous_dynamics(x \u001b[38;5;241m+\u001b[39m k2\u001b[38;5;241m/\u001b[39m\u001b[38;5;241m2\u001b[39m, u, params)\n\u001b[1;32m     23\u001b[0m     k4 \u001b[38;5;241m=\u001b[39m params\u001b[38;5;241m.\u001b[39mdt\u001b[38;5;241m*\u001b[39mcontinuous_dynamics(x \u001b[38;5;241m+\u001b[39m k3, u, params)\n",
      "Cell \u001b[0;32mIn[24], line 2\u001b[0m, in \u001b[0;36mcontinuous_dynamics\u001b[0;34m(x, u, params)\u001b[0m\n\u001b[1;32m      1\u001b[0m \u001b[38;5;28;01mdef\u001b[39;00m\u001b[38;5;250m \u001b[39m\u001b[38;5;21mcontinuous_dynamics\u001b[39m(x, u, params):\n\u001b[0;32m----> 2\u001b[0m     x1, x2 \u001b[38;5;241m=\u001b[39m \u001b[43mx\u001b[49m\u001b[43m[\u001b[49m\u001b[38;5;241;43m0\u001b[39;49m\u001b[43m]\u001b[49m, x[\u001b[38;5;241m1\u001b[39m]\n\u001b[1;32m      4\u001b[0m     \u001b[38;5;66;03m# xdot = jnp.array([\u001b[39;00m\n\u001b[1;32m      5\u001b[0m     \u001b[38;5;66;03m#     x2,\u001b[39;00m\n\u001b[1;32m      6\u001b[0m     \u001b[38;5;66;03m#     params.model.mu * (1 - x1**2) * x2 - x1 + u[0]\u001b[39;00m\n\u001b[0;32m   (...)\u001b[0m\n\u001b[1;32m     10\u001b[0m     \u001b[38;5;66;03m#     0.0,\u001b[39;00m\n\u001b[1;32m     11\u001b[0m     \u001b[38;5;66;03m# ])\u001b[39;00m\n\u001b[1;32m     12\u001b[0m     xdot \u001b[38;5;241m=\u001b[39m jnp\u001b[38;5;241m.\u001b[39marray([\n\u001b[1;32m     13\u001b[0m         params\u001b[38;5;241m.\u001b[39mmodel\u001b[38;5;241m.\u001b[39mmu \u001b[38;5;241m*\u001b[39m x1,\n\u001b[1;32m     14\u001b[0m         params\u001b[38;5;241m.\u001b[39mmodel\u001b[38;5;241m.\u001b[39mlam \u001b[38;5;241m*\u001b[39m (x2 \u001b[38;5;241m-\u001b[39m x1\u001b[38;5;241m*\u001b[39m\u001b[38;5;241m*\u001b[39m\u001b[38;5;241m2\u001b[39m) \u001b[38;5;241m+\u001b[39m u[\u001b[38;5;241m0\u001b[39m]\n\u001b[1;32m     15\u001b[0m     ])\n",
      "File \u001b[0;32m~/workspaces/koopman/venv/lib/python3.10/site-packages/jax/_src/array.py:382\u001b[0m, in \u001b[0;36mArrayImpl.__getitem__\u001b[0;34m(self, idx)\u001b[0m\n\u001b[1;32m    377\u001b[0m       out \u001b[38;5;241m=\u001b[39m lax\u001b[38;5;241m.\u001b[39msqueeze(out, dimensions\u001b[38;5;241m=\u001b[39mdims)\n\u001b[1;32m    379\u001b[0m     \u001b[38;5;28;01mreturn\u001b[39;00m ArrayImpl(\n\u001b[1;32m    380\u001b[0m         out\u001b[38;5;241m.\u001b[39maval, sharding, [out], committed\u001b[38;5;241m=\u001b[39m\u001b[38;5;28;01mFalse\u001b[39;00m, _skip_checks\u001b[38;5;241m=\u001b[39m\u001b[38;5;28;01mTrue\u001b[39;00m)\n\u001b[0;32m--> 382\u001b[0m \u001b[38;5;28;01mreturn\u001b[39;00m \u001b[43mindexing\u001b[49m\u001b[38;5;241;43m.\u001b[39;49m\u001b[43mrewriting_take\u001b[49m\u001b[43m(\u001b[49m\u001b[38;5;28;43mself\u001b[39;49m\u001b[43m,\u001b[49m\u001b[43m \u001b[49m\u001b[43midx\u001b[49m\u001b[43m)\u001b[49m\n",
      "File \u001b[0;32m~/workspaces/koopman/venv/lib/python3.10/site-packages/jax/_src/numpy/indexing.py:618\u001b[0m, in \u001b[0;36mrewriting_take\u001b[0;34m(arr, idx, indices_are_sorted, unique_indices, mode, fill_value, out_sharding)\u001b[0m\n\u001b[1;32m    609\u001b[0m \u001b[38;5;28;01mdef\u001b[39;00m\u001b[38;5;250m \u001b[39m\u001b[38;5;21mrewriting_take\u001b[39m(arr, idx, indices_are_sorted\u001b[38;5;241m=\u001b[39m\u001b[38;5;28;01mFalse\u001b[39;00m, unique_indices\u001b[38;5;241m=\u001b[39m\u001b[38;5;28;01mFalse\u001b[39;00m,\n\u001b[1;32m    610\u001b[0m                    mode\u001b[38;5;241m=\u001b[39m\u001b[38;5;28;01mNone\u001b[39;00m, fill_value\u001b[38;5;241m=\u001b[39m\u001b[38;5;28;01mNone\u001b[39;00m, out_sharding\u001b[38;5;241m=\u001b[39m\u001b[38;5;28;01mNone\u001b[39;00m):\n\u001b[1;32m    611\u001b[0m   \u001b[38;5;66;03m# Computes arr[idx].\u001b[39;00m\n\u001b[0;32m   (...)\u001b[0m\n\u001b[1;32m    615\u001b[0m   \u001b[38;5;66;03m# For simplicity of generated primitives, we call lax.dynamic_slice in the\u001b[39;00m\n\u001b[1;32m    616\u001b[0m   \u001b[38;5;66;03m# simplest cases: i.e. non-dynamic arrays indexed with integers and slices.\u001b[39;00m\n\u001b[0;32m--> 618\u001b[0m   \u001b[38;5;28;01mif\u001b[39;00m (result \u001b[38;5;241m:=\u001b[39m \u001b[43m_attempt_rewriting_take_via_slice\u001b[49m\u001b[43m(\u001b[49m\u001b[43marr\u001b[49m\u001b[43m,\u001b[49m\u001b[43m \u001b[49m\u001b[43midx\u001b[49m\u001b[43m,\u001b[49m\u001b[43m \u001b[49m\u001b[43mmode\u001b[49m\u001b[43m)\u001b[49m) \u001b[38;5;129;01mis\u001b[39;00m \u001b[38;5;129;01mnot\u001b[39;00m \u001b[38;5;28;01mNone\u001b[39;00m:\n\u001b[1;32m    619\u001b[0m     \u001b[38;5;28;01mreturn\u001b[39;00m result\n\u001b[1;32m    621\u001b[0m   \u001b[38;5;66;03m# TODO(mattjj,dougalm): expand dynamic shape indexing support\u001b[39;00m\n",
      "File \u001b[0;32m~/workspaces/koopman/venv/lib/python3.10/site-packages/jax/_src/numpy/indexing.py:594\u001b[0m, in \u001b[0;36m_attempt_rewriting_take_via_slice\u001b[0;34m(arr, idx, mode)\u001b[0m\n\u001b[1;32m    592\u001b[0m   int_start_indices \u001b[38;5;241m=\u001b[39m [\u001b[38;5;28mint\u001b[39m(i) \u001b[38;5;28;01mfor\u001b[39;00m i \u001b[38;5;129;01min\u001b[39;00m start_indices]  \u001b[38;5;66;03m# type: ignore\u001b[39;00m\n\u001b[1;32m    593\u001b[0m   int_limit_indices \u001b[38;5;241m=\u001b[39m [i \u001b[38;5;241m+\u001b[39m s \u001b[38;5;28;01mfor\u001b[39;00m i, s \u001b[38;5;129;01min\u001b[39;00m \u001b[38;5;28mzip\u001b[39m(int_start_indices, slice_sizes)]\n\u001b[0;32m--> 594\u001b[0m   arr \u001b[38;5;241m=\u001b[39m \u001b[43mlax\u001b[49m\u001b[38;5;241;43m.\u001b[39;49m\u001b[43mslice\u001b[49m\u001b[43m(\u001b[49m\n\u001b[1;32m    595\u001b[0m \u001b[43m      \u001b[49m\u001b[43marr\u001b[49m\u001b[43m,\u001b[49m\u001b[43m \u001b[49m\u001b[43mstart_indices\u001b[49m\u001b[38;5;241;43m=\u001b[39;49m\u001b[43mint_start_indices\u001b[49m\u001b[43m,\u001b[49m\u001b[43m \u001b[49m\u001b[43mlimit_indices\u001b[49m\u001b[38;5;241;43m=\u001b[39;49m\u001b[43mint_limit_indices\u001b[49m\u001b[43m)\u001b[49m\n\u001b[1;32m    596\u001b[0m \u001b[38;5;28;01melse\u001b[39;00m:\n\u001b[1;32m    597\u001b[0m   \u001b[38;5;66;03m# We must be careful with dtypes because dynamic_slice requires all\u001b[39;00m\n\u001b[1;32m    598\u001b[0m   \u001b[38;5;66;03m# start indices to have matching types.\u001b[39;00m\n\u001b[1;32m    599\u001b[0m   \u001b[38;5;28;01mif\u001b[39;00m \u001b[38;5;28mlen\u001b[39m(start_indices) \u001b[38;5;241m>\u001b[39m \u001b[38;5;241m1\u001b[39m:\n",
      "File \u001b[0;32m~/workspaces/koopman/venv/lib/python3.10/site-packages/jax/_src/lax/slicing.py:108\u001b[0m, in \u001b[0;36mslice\u001b[0;34m(operand, start_indices, limit_indices, strides)\u001b[0m\n\u001b[1;32m     57\u001b[0m \u001b[38;5;28;01mdef\u001b[39;00m\u001b[38;5;250m \u001b[39m\u001b[38;5;21mslice\u001b[39m(operand: ArrayLike, start_indices: Sequence[\u001b[38;5;28mint\u001b[39m],\n\u001b[1;32m     58\u001b[0m           limit_indices: Sequence[\u001b[38;5;28mint\u001b[39m],\n\u001b[1;32m     59\u001b[0m           strides: Sequence[\u001b[38;5;28mint\u001b[39m] \u001b[38;5;241m|\u001b[39m \u001b[38;5;28;01mNone\u001b[39;00m \u001b[38;5;241m=\u001b[39m \u001b[38;5;28;01mNone\u001b[39;00m) \u001b[38;5;241m-\u001b[39m\u001b[38;5;241m>\u001b[39m Array:\n\u001b[1;32m     60\u001b[0m \u001b[38;5;250m  \u001b[39m\u001b[38;5;124;03m\"\"\"Wraps XLA's `Slice\u001b[39;00m\n\u001b[1;32m     61\u001b[0m \u001b[38;5;124;03m  <https://www.tensorflow.org/xla/operation_semantics#slice>`_\u001b[39;00m\n\u001b[1;32m     62\u001b[0m \u001b[38;5;124;03m  operator.\u001b[39;00m\n\u001b[0;32m   (...)\u001b[0m\n\u001b[1;32m    106\u001b[0m \u001b[38;5;124;03m    - :func:`jax.lax.dynamic_slice`\u001b[39;00m\n\u001b[1;32m    107\u001b[0m \u001b[38;5;124;03m  \"\"\"\u001b[39;00m\n\u001b[0;32m--> 108\u001b[0m   \u001b[38;5;28;01mreturn\u001b[39;00m \u001b[43mslice_p\u001b[49m\u001b[38;5;241;43m.\u001b[39;49m\u001b[43mbind\u001b[49m\u001b[43m(\u001b[49m\u001b[43moperand\u001b[49m\u001b[43m,\u001b[49m\u001b[43m \u001b[49m\u001b[43mstart_indices\u001b[49m\u001b[38;5;241;43m=\u001b[39;49m\u001b[38;5;28;43mtuple\u001b[39;49m\u001b[43m(\u001b[49m\u001b[43mstart_indices\u001b[49m\u001b[43m)\u001b[49m\u001b[43m,\u001b[49m\n\u001b[1;32m    109\u001b[0m \u001b[43m                      \u001b[49m\u001b[43mlimit_indices\u001b[49m\u001b[38;5;241;43m=\u001b[39;49m\u001b[38;5;28;43mtuple\u001b[39;49m\u001b[43m(\u001b[49m\u001b[43mlimit_indices\u001b[49m\u001b[43m)\u001b[49m\u001b[43m,\u001b[49m\n\u001b[1;32m    110\u001b[0m \u001b[43m                      \u001b[49m\u001b[43mstrides\u001b[49m\u001b[38;5;241;43m=\u001b[39;49m\u001b[38;5;28;43;01mNone\u001b[39;49;00m\u001b[43m \u001b[49m\u001b[38;5;28;43;01mif\u001b[39;49;00m\u001b[43m \u001b[49m\u001b[43mstrides\u001b[49m\u001b[43m \u001b[49m\u001b[38;5;129;43;01mis\u001b[39;49;00m\u001b[43m \u001b[49m\u001b[38;5;28;43;01mNone\u001b[39;49;00m\u001b[43m \u001b[49m\u001b[38;5;28;43;01melse\u001b[39;49;00m\u001b[43m \u001b[49m\u001b[38;5;28;43mtuple\u001b[39;49m\u001b[43m(\u001b[49m\u001b[43mstrides\u001b[49m\u001b[43m)\u001b[49m\u001b[43m)\u001b[49m\n",
      "File \u001b[0;32m~/workspaces/koopman/venv/lib/python3.10/site-packages/jax/_src/core.py:501\u001b[0m, in \u001b[0;36mPrimitive.bind\u001b[0;34m(self, *args, **params)\u001b[0m\n\u001b[1;32m    500\u001b[0m \u001b[38;5;28;01mdef\u001b[39;00m\u001b[38;5;250m \u001b[39m\u001b[38;5;21mbind\u001b[39m(\u001b[38;5;28mself\u001b[39m, \u001b[38;5;241m*\u001b[39margs, \u001b[38;5;241m*\u001b[39m\u001b[38;5;241m*\u001b[39mparams):\n\u001b[0;32m--> 501\u001b[0m   args \u001b[38;5;241m=\u001b[39m args \u001b[38;5;28;01mif\u001b[39;00m \u001b[38;5;28mself\u001b[39m\u001b[38;5;241m.\u001b[39mskip_canonicalization \u001b[38;5;28;01melse\u001b[39;00m \u001b[38;5;28;43mmap\u001b[39;49m\u001b[43m(\u001b[49m\u001b[43mcanonicalize_value\u001b[49m\u001b[43m,\u001b[49m\u001b[43m \u001b[49m\u001b[43margs\u001b[49m\u001b[43m)\u001b[49m\n\u001b[1;32m    502\u001b[0m   \u001b[38;5;28;01mreturn\u001b[39;00m \u001b[38;5;28mself\u001b[39m\u001b[38;5;241m.\u001b[39m_true_bind(\u001b[38;5;241m*\u001b[39margs, \u001b[38;5;241m*\u001b[39m\u001b[38;5;241m*\u001b[39mparams)\n",
      "File \u001b[0;32m~/workspaces/koopman/venv/lib/python3.10/site-packages/jax/_src/core.py:1793\u001b[0m, in \u001b[0;36mcanonicalize_value\u001b[0;34m(val)\u001b[0m\n\u001b[1;32m   1791\u001b[0m \u001b[38;5;28;01mdef\u001b[39;00m\u001b[38;5;250m \u001b[39m\u001b[38;5;21mcanonicalize_value\u001b[39m(val):\n\u001b[1;32m   1792\u001b[0m   \u001b[38;5;28;01mtry\u001b[39;00m:\n\u001b[0;32m-> 1793\u001b[0m     aval \u001b[38;5;241m=\u001b[39m \u001b[43mget_aval\u001b[49m\u001b[43m(\u001b[49m\u001b[43mval\u001b[49m\u001b[43m)\u001b[49m\n\u001b[1;32m   1794\u001b[0m   \u001b[38;5;28;01mexcept\u001b[39;00m \u001b[38;5;167;01mTypeError\u001b[39;00m:\n\u001b[1;32m   1795\u001b[0m     \u001b[38;5;28;01mreturn\u001b[39;00m val\n",
      "File \u001b[0;32m~/workspaces/koopman/venv/lib/python3.10/site-packages/jax/_src/core.py:1573\u001b[0m, in \u001b[0;36mget_aval\u001b[0;34m(x)\u001b[0m\n\u001b[1;32m   1569\u001b[0m     \u001b[38;5;28;01mraise\u001b[39;00m \u001b[38;5;167;01mTypeError\u001b[39;00m(\u001b[38;5;124mf\u001b[39m\u001b[38;5;124m\"\u001b[39m\u001b[38;5;124mArgument \u001b[39m\u001b[38;5;124m'\u001b[39m\u001b[38;5;132;01m{\u001b[39;00mx\u001b[38;5;132;01m}\u001b[39;00m\u001b[38;5;124m'\u001b[39m\u001b[38;5;124m of type \u001b[39m\u001b[38;5;124m'\u001b[39m\u001b[38;5;132;01m{\u001b[39;00m\u001b[38;5;28mtype\u001b[39m(x)\u001b[38;5;132;01m}\u001b[39;00m\u001b[38;5;124m'\u001b[39m\u001b[38;5;124m is not a valid JAX type\u001b[39m\u001b[38;5;124m\"\u001b[39m)\n\u001b[1;32m   1570\u001b[0m   \u001b[38;5;28;01mreturn\u001b[39;00m get_aval(x)\n\u001b[0;32m-> 1573\u001b[0m \u001b[38;5;28;01mdef\u001b[39;00m\u001b[38;5;250m \u001b[39m\u001b[38;5;21mget_aval\u001b[39m(x):\n\u001b[1;32m   1574\u001b[0m   typ \u001b[38;5;241m=\u001b[39m \u001b[38;5;28mtype\u001b[39m(x)\n\u001b[1;32m   1575\u001b[0m   \u001b[38;5;28;01mif\u001b[39;00m (aval_fn \u001b[38;5;241m:=\u001b[39m pytype_aval_mappings\u001b[38;5;241m.\u001b[39mget(typ)):  \u001b[38;5;66;03m# fast path\u001b[39;00m\n",
      "\u001b[0;31mKeyboardInterrupt\u001b[0m: "
     ]
    }
   ],
   "source": [
    "model = Model(\n",
    "    mu = -1.0,\n",
    "    lam = 1.0,\n",
    ")\n",
    "\n",
    "nx = 2\n",
    "nu = 1\n",
    "nz = 3\n",
    "P = jnp.block([\n",
    "    jnp.eye(nx), jnp.zeros((nx, nz-nx))\n",
    "])\n",
    "\n",
    "Q = 0.5 * jnp.eye(nx)\n",
    "R = 0.1 * jnp.eye(nu)\n",
    "Qf = 1e2 * Q\n",
    "Xref = jnp.array([0.0, 0.0])\n",
    "\n",
    "tf = 8.0\n",
    "dt = 0.05\n",
    "N = int(tf / dt) + 1\n",
    "\n",
    "params = Params(\n",
    "    nx = nx,\n",
    "    nu = nu,\n",
    "    nz = nz,\n",
    "    P = P,\n",
    "    Q = Q,\n",
    "    R = R,\n",
    "    Qf = Qf,\n",
    "    Xref = Xref,\n",
    "    tf = tf,\n",
    "    dt = dt,\n",
    "    N = N,\n",
    "    model = model,\n",
    ")\n",
    "\n",
    "ts = np.arange(0, params.tf + params.dt, params.dt)\n",
    "uguess = np.ones((params.N-1, params.nu))\n",
    "\n",
    "xs, us, Ks = iLQR(\n",
    "    x0=jnp.array([5.0, -2.0]),\n",
    "    uguess=uguess,\n",
    "    params=params,\n",
    "    atol=1e-3,\n",
    "    max_iters=100,\n",
    "    max_ls_iters=20,\n",
    ")"
   ]
  },
  {
   "cell_type": "code",
   "execution_count": null,
   "id": "c4bf2807",
   "metadata": {},
   "outputs": [
    {
     "data": {
      "image/png": "[encoded data removed]",
      "text/plain": [
       "<Figure size 800x600 with 3 Axes>"
      ]
     },
     "metadata": {},
     "output_type": "display_data"
    }
   ],
   "source": [
    "# Plot the trajectory\n",
    "fig, ax = plt.subplots(3,1, figsize=(8, 6))\n",
    "\n",
    "ax[0].plot(ts, xs[:, 0], label=\"x1\", linewidth=1)\n",
    "ax[1].plot(ts, xs[:, 1], label=\"x2\", linewidth=1)\n",
    "ax[2].plot(ts[:-1], us[:, 0], label=\"u\", linewidth=1)\n",
    "\n",
    "ax[0].set_title(\"x1 Trajectory\")\n",
    "ax[0].set_xlabel(\"t\")\n",
    "ax[0].set_ylabel(\"x1\")\n",
    "\n",
    "ax[1].set_title(\"x2 Trajectory\")\n",
    "ax[1].set_xlabel(\"t\")\n",
    "ax[1].set_ylabel(\"x2\")\n",
    "\n",
    "ax[2].set_title(\"u Trajectory\")\n",
    "ax[2].set_xlabel(\"t\")\n",
    "ax[2].set_ylabel(\"u\")\n",
    "\n",
    "plt.tight_layout()\n",
    "plt.show()"
   ]
  },
  {
   "cell_type": "code",
   "execution_count": null,
   "id": "5c0a6da4",
   "metadata": {},
   "outputs": [],
   "source": []
  }
 ],
 "metadata": {
  "kernelspec": {
   "display_name": "venv",
   "language": "python",
   "name": "python3"
  },
  "language_info": {
   "codemirror_mode": {
    "name": "ipython",
    "version": 3
   },
   "file_extension": ".py",
   "mimetype": "text/x-python",
   "name": "python",
   "nbconvert_exporter": "python",
   "pygments_lexer": "ipython3",
   "version": "3.10.16"
  }
 },
 "nbformat": 4,
 "nbformat_minor": 5
}
