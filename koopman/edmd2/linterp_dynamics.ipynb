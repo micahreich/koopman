{
 "cells": [
  {
   "cell_type": "code",
   "execution_count": 1,
   "id": "c9df4d34",
   "metadata": {},
   "outputs": [],
   "source": [
    "%load_ext autoreload\n",
    "%autoreload 2\n",
    "\n",
    "import numpy as np\n",
    "from koopman.simulation.simulator import rk4_step, simulate\n",
    "from koopman.simulation.systems import DuffingOscillator\n",
    "import matplotlib.pyplot as plt\n",
    "import matplotlib.cm as cm\n",
    "import matplotlib.gridspec as gridspec\n",
    "from mpl_toolkits.axes_grid1 import make_axes_locatable\n",
    "from matplotlib.ticker import FormatStrFormatter\n",
    "import casadi as ca\n",
    "from scipy.linalg import expm\n",
    "from spatialmath.base import *\n",
    "\n",
    "import jax\n",
    "import jax.numpy as jnp\n",
    "from jax import jacfwd, vmap\n",
    "\n",
    "duffing = DuffingOscillator(DuffingOscillator.Params(delta=0.5))"
   ]
  },
  {
   "cell_type": "code",
   "execution_count": 4,
   "id": "131bd942",
   "metadata": {},
   "outputs": [],
   "source": [
    "Jx = jax.jacfwd(duffing.dynamics, argnums=0)\n",
    "Ju = jax.jacfwd(duffing.dynamics, argnums=1)"
   ]
  },
  {
   "cell_type": "code",
   "execution_count": null,
   "id": "623d5406",
   "metadata": {},
   "outputs": [
    {
     "name": "stdout",
     "output_type": "stream",
     "text": [
      "0.11768778828946248\n"
     ]
    }
   ],
   "source": [
    "xmin = np.array([-2.0, -2.0])\n",
    "xmax = np.array([2.0, 2.0])\n",
    "\n",
    "def normalize(vectors):\n",
    "    norms = np.linalg.norm(vectors, axis=1, keepdims=True)\n",
    "    return vectors / np.clip(norms, 1e-8, np.inf)\n",
    "\n",
    "# Grid resolution\n",
    "num_points = 20\n",
    "\n",
    "# Create grid of (theta, omega)\n",
    "x1_vals = np.linspace(xmin[0], xmax[0], num_points)\n",
    "x2_vals = np.linspace(xmin[1], xmax[1], num_points)\n",
    "X1, X2 = np.meshgrid(x1_vals, x2_vals)  # shape (num_points, num_points)\n",
    "\n",
    "# Flatten grid for vectorized computation\n",
    "grid_points = np.stack([X1.ravel(), X2.ravel()], axis=-1)  # shape (N^2, 2)\n",
    "us_null = np.zeros((grid_points.shape[0], duffing.nu))\n",
    "\n",
    "grid_points_dot = duffing.dynamics(grid_points, us_null)\n",
    "\n",
    "linearization_xs = np.array([\n",
    "    [-1.0, 0.0],\n",
    "    [0.0, 0.0],\n",
    "    [1.0, 0.0],\n",
    "])\n",
    "\n",
    "linearization_us = np.array([\n",
    "    [0.0],\n",
    "    [0.0],\n",
    "    [0.0],\n",
    "])\n",
    "\n",
    "As = np.array([ Jx(x0, u0) for x0, u0 in zip(linearization_xs, linearization_us) ])\n",
    "Bs = np.array([ Ju(x0, u0) for x0, u0 in zip(linearization_xs, linearization_us) ])\n",
    "\n",
    "def pairwise_distances(A, C):\n",
    "    # A: (B, nx), C: (M, nx)\n",
    "    A_exp = A[:, None, :]    # (B, 1, nx)\n",
    "    C_exp = C[None, :, :]    # (1, M, nx)\n",
    "    \n",
    "    diffs = A_exp - C_exp    # (B, M, nx)\n",
    "    dists = np.linalg.norm(diffs, axis=-1)  # (B, M)\n",
    "    \n",
    "    return dists\n",
    "\n",
    "D = pairwise_distances(grid_points, linearization_xs)"
   ]
  },
  {
   "cell_type": "code",
   "execution_count": null,
   "id": "e713587c",
   "metadata": {},
   "outputs": [],
   "source": []
  }
 ],
 "metadata": {
  "kernelspec": {
   "display_name": "venv",
   "language": "python",
   "name": "python3"
  },
  "language_info": {
   "codemirror_mode": {
    "name": "ipython",
    "version": 3
   },
   "file_extension": ".py",
   "mimetype": "text/x-python",
   "name": "python",
   "nbconvert_exporter": "python",
   "pygments_lexer": "ipython3",
   "version": "3.10.16"
  }
 },
 "nbformat": 4,
 "nbformat_minor": 5
}
