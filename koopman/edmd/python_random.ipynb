{
 "cells": [
  {
   "cell_type": "code",
   "execution_count": 1,
   "id": "d1e2a6ee",
   "metadata": {},
   "outputs": [],
   "source": [
    "import numpy as np"
   ]
  },
  {
   "cell_type": "code",
   "execution_count": 66,
   "id": "c7550b78",
   "metadata": {},
   "outputs": [],
   "source": [
    "xs = np.tile(np.arange(0, 8).reshape((-1, 1)), (1, 2))\n",
    "xs = np.stack([xs] * 3, axis=0) * np.array([1, 10, 100])[:, None, None]\n",
    "N, T, nx = xs.shape"
   ]
  },
  {
   "cell_type": "code",
   "execution_count": 67,
   "id": "dcdbea0a",
   "metadata": {},
   "outputs": [],
   "source": [
    "xcurr = np.reshape(xs[:, :-1, :], (N * (T - 1), nx))\n",
    "xnext = np.reshape(xs[:, 1:, :], (N * (T - 1), nx))"
   ]
  },
  {
   "cell_type": "code",
   "execution_count": 68,
   "id": "4869848d",
   "metadata": {},
   "outputs": [
    {
     "name": "stdout",
     "output_type": "stream",
     "text": [
      "[[  0   0]\n",
      " [  1   1]\n",
      " [  2   2]\n",
      " [  3   3]\n",
      " [  4   4]\n",
      " [  5   5]\n",
      " [  6   6]\n",
      " [  7   7]\n",
      " [  0   0]\n",
      " [ 10  10]\n",
      " [ 20  20]\n",
      " [ 30  30]\n",
      " [ 40  40]\n",
      " [ 50  50]\n",
      " [ 60  60]\n",
      " [ 70  70]\n",
      " [  0   0]\n",
      " [100 100]\n",
      " [200 200]\n",
      " [300 300]\n",
      " [400 400]\n",
      " [500 500]\n",
      " [600 600]\n",
      " [700 700]]\n"
     ]
    }
   ],
   "source": [
    "print(xs.reshape(-1, nx))"
   ]
  },
  {
   "cell_type": "code",
   "execution_count": 52,
   "id": "89674a3a",
   "metadata": {},
   "outputs": [
    {
     "name": "stdout",
     "output_type": "stream",
     "text": [
      "[[ 1  2  3 10 20 30]\n",
      " [12 15 18 28 35 42]]\n"
     ]
    }
   ],
   "source": [
    "xs2 = np.array([[1, 2, 3],\n",
    "                [4, 5, 6]])\n",
    "us = np.array([[1, 10],\n",
    "               [3, 7]])\n",
    "\n",
    "def kronecker_rows(XS, US):\n",
    "    \"\"\"\n",
    "    XS: (B, nx)\n",
    "    US: (B, nu)\n",
    "    Returns: (B, nx * nu)\n",
    "    \"\"\"\n",
    "    B, nx = XS.shape\n",
    "    _, nu = US.shape\n",
    "\n",
    "    # Expand dimensions to broadcast\n",
    "    XS_expanded = XS[:, np.newaxis, :]     # (B, 1, nx)\n",
    "    US_expanded = US[:, :, np.newaxis]     # (B, nu, 1)\n",
    "\n",
    "    # Elementwise multiply (B, nu, nx)\n",
    "    result = US_expanded * XS_expanded\n",
    "\n",
    "    # Reshape to (B, nu * nx)\n",
    "    return result.reshape(B, nu * nx)\n",
    "\n",
    "out = kronecker_rows(xs2, us)\n",
    "print(out)"
   ]
  },
  {
   "cell_type": "code",
   "execution_count": 59,
   "id": "ec7059ea",
   "metadata": {},
   "outputs": [],
   "source": [
    "Cs = np.random.randn(5, 5 * 3)\n",
    "Cs_sep = Cs.reshape(5, 3, 5).transpose(1, 0, 2)\n",
    "\n",
    "for i in range(3):\n",
    "    assert np.allclose(Cs_sep[i], Cs[:, i * 5:(i + 1) * 5])"
   ]
  },
  {
   "cell_type": "code",
   "execution_count": 22,
   "id": "a6c44031",
   "metadata": {},
   "outputs": [],
   "source": [
    "xs = np.array([[1, 2, 3],\n",
    "               [1, 4, 8]])\n",
    "ys = np.array([[4, 5, 6],\n",
    "               [7, 8, 9]])"
   ]
  },
  {
   "cell_type": "code",
   "execution_count": 23,
   "id": "3fcefb5c",
   "metadata": {},
   "outputs": [
    {
     "name": "stdout",
     "output_type": "stream",
     "text": [
      "[[ 4  5  6  8 10 12 12 15 18]\n",
      " [ 7  8  9 28 32 36 56 64 72]]\n"
     ]
    }
   ],
   "source": [
    "kron_results = np.einsum('bi,bj->bij', xs, ys).reshape(-1, 3 * 3)\n",
    "print(kron_results)"
   ]
  },
  {
   "cell_type": "code",
   "execution_count": null,
   "id": "2c87f773",
   "metadata": {},
   "outputs": [],
   "source": []
  }
 ],
 "metadata": {
  "kernelspec": {
   "display_name": "venv",
   "language": "python",
   "name": "python3"
  },
  "language_info": {
   "codemirror_mode": {
    "name": "ipython",
    "version": 3
   },
   "file_extension": ".py",
   "mimetype": "text/x-python",
   "name": "python",
   "nbconvert_exporter": "python",
   "pygments_lexer": "ipython3",
   "version": "3.10.16"
  }
 },
 "nbformat": 4,
 "nbformat_minor": 5
}
