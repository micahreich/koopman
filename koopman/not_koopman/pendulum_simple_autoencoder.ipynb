{
 "cells": [
  {
   "cell_type": "code",
   "id": "initial_id",
   "metadata": {
    "collapsed": true,
    "ExecuteTime": {
     "end_time": "2025-04-19T22:41:43.099277Z",
     "start_time": "2025-04-19T22:41:43.083307Z"
    }
   },
   "source": [
    "import torch\n",
    "import numpy as np\n",
    "import scipy as sp\n",
    "from matplotlib import pyplot as plt\n",
    "from torch.nn import MSELoss\n",
    "\n",
    "from torch.utils.data.dataset import TensorDataset\n",
    "from torch.utils.data.dataloader import DataLoader\n",
    "from torch.utils.data.sampler import RandomSampler\n",
    "from torch import Tensor, nn\n",
    "\n",
    "from scipy.ndimage import gaussian_filter1d\n",
    "from tqdm import tqdm\n",
    "\n",
    "from itertools import chain\n",
    "\n",
    "from traitlets import Callable\n",
    "\n",
    "from koopman.simulation.simulator import simulate_batch\n",
    "from koopman.simulation.systems import Pendulum"
   ],
   "outputs": [],
   "execution_count": 48
  },
  {
   "metadata": {
    "ExecuteTime": {
     "end_time": "2025-04-19T22:41:43.179594Z",
     "start_time": "2025-04-19T22:41:43.163491Z"
    }
   },
   "cell_type": "code",
   "source": [
    "def generate_random_smooth_controls(N, T):\n",
    "    dt = 0.05\n",
    "    w = np.random.randn(N, T, 1) * np.sqrt(dt)\n",
    "    b = np.cumsum(w, axis=1)\n",
    "    b_smooth = gaussian_filter1d(b, sigma=10, axis=1)\n",
    "\n",
    "    return b_smooth"
   ],
   "id": "5d3ad52ee964ff22",
   "outputs": [],
   "execution_count": 49
  },
  {
   "metadata": {
    "ExecuteTime": {
     "end_time": "2025-04-19T22:41:43.279987Z",
     "start_time": "2025-04-19T22:41:43.185074Z"
    }
   },
   "cell_type": "code",
   "source": [
    "params = Pendulum.Params(\n",
    "    m=1, l=1, g=9.81, b=0.0\n",
    ")\n",
    "\n",
    "pendulum = Pendulum(params)\n",
    "\n",
    "tf = 5.0\n",
    "dt = 0.05\n",
    "N = 5_000\n",
    "\n",
    "theta0 = np.random.uniform(-np.pi, np.pi, (N, 1))\n",
    "omega0 = np.random.uniform(-3, 3, (N, 1))\n",
    "x0 = np.hstack((theta0, omega0))\n",
    "\n",
    "U = generate_random_smooth_controls(N, int(tf/dt))\n",
    "\n",
    "ts, xhist, uhist = simulate_batch(\n",
    "    sys=pendulum,\n",
    "    tf=tf,\n",
    "    dt=dt,\n",
    "    u=U,\n",
    "    x0=x0\n",
    ")\n",
    "\n",
    "split = 0.8\n",
    "N_train = int(N * split)\n",
    "N_eval = N - N_train\n",
    "\n",
    "xhist_train, uhist_train = xhist[:N_train], uhist[:N_train]\n",
    "xhist_eval, uhist_eval = xhist[N_train:], uhist[N_train:]\n"
   ],
   "id": "e4c9628c8d4be433",
   "outputs": [
    {
     "name": "stderr",
     "output_type": "stream",
     "text": [
      "Simulation progress: 100%|██████████| 100/100 [00:00<00:00, 1563.10it/s]\n"
     ]
    }
   ],
   "execution_count": 50
  },
  {
   "metadata": {
    "ExecuteTime": {
     "end_time": "2025-04-19T22:41:43.327559Z",
     "start_time": "2025-04-19T22:41:43.311462Z"
    }
   },
   "cell_type": "code",
   "source": [
    "# Prepare training\n",
    "traj_per_batch = 5\n",
    "\n",
    "dataset_train = TensorDataset(torch.tensor(xhist_train, dtype=torch.float32),\n",
    "                              torch.tensor(uhist_train, dtype=torch.float32))\n",
    "dataset_eval = TensorDataset(torch.tensor(xhist_eval, dtype=torch.float32),\n",
    "                             torch.tensor(xhist_eval, dtype=torch.float32))\n",
    "\n",
    "dataloader_train = DataLoader(dataset_train,\n",
    "                              batch_size=traj_per_batch,\n",
    "                              shuffle=True)\n",
    "dataloader_eval = DataLoader(dataset_eval,\n",
    "                             batch_size=traj_per_batch,\n",
    "                             shuffle=False)\n",
    "\n",
    "reconstruction_loss = MSELoss()\n",
    "evolution_loss = MSELoss()\n",
    "\n",
    "device = torch.device(\"cuda:0\" if torch.cuda.is_available() else \"cpu\")"
   ],
   "id": "9530b7c0062bb31f",
   "outputs": [],
   "execution_count": 51
  },
  {
   "metadata": {
    "ExecuteTime": {
     "end_time": "2025-04-19T22:41:43.375478Z",
     "start_time": "2025-04-19T22:41:43.359566Z"
    }
   },
   "cell_type": "code",
   "source": [
    "class AutoEncoder(nn.Module):\n",
    "    def __init__(self, nx, nz, n_hidden=None):\n",
    "        super().__init__()\n",
    "        if n_hidden is None:\n",
    "            n_hidden = nz\n",
    "        self.nx, self.nz, self.n_hidden = nx, nz, n_hidden\n",
    "        self.encoder = nn.Sequential(\n",
    "            nn.Linear(nx, n_hidden),\n",
    "            nn.GELU(),\n",
    "            nn.Linear(n_hidden, n_hidden),\n",
    "            nn.GELU(),\n",
    "            nn.Linear(n_hidden, nz),\n",
    "        )\n",
    "        self.decoder = nn.Sequential(\n",
    "            nn.Linear(nz, n_hidden),\n",
    "            nn.GELU(),\n",
    "            nn.Linear(n_hidden, n_hidden),\n",
    "            nn.GELU(),\n",
    "            nn.Linear(n_hidden, nx)\n",
    "        )\n",
    "\n",
    "    def forward(self, x):\n",
    "        z = self.encoder(x)\n",
    "        return self.decoder(z)\n",
    "\n",
    "    def encode(self, x):\n",
    "        return self.encoder(x)\n",
    "\n",
    "    def decode(self, z):\n",
    "        return self.decoder(z)"
   ],
   "id": "c78130f3df0635b5",
   "outputs": [],
   "execution_count": 52
  },
  {
   "metadata": {
    "ExecuteTime": {
     "end_time": "2025-04-19T22:43:15.304666Z",
     "start_time": "2025-04-19T22:43:15.286479Z"
    }
   },
   "cell_type": "code",
   "source": [
    "# Trajectory rollout loss\n",
    "mse_loss = MSELoss()\n",
    "\n",
    "def rollout(zx0: Tensor, Zu: Tensor, A: Tensor, B: Tensor, Cs: None | Tensor = None) -> Tensor:\n",
    "    N, nx = zx0.shape\n",
    "    assert Zu.shape[0] == N\n",
    "    _, traj_len, nu = Zu.shape\n",
    "    traj_len += 1\n",
    "    assert A.shape == (nx, nx)\n",
    "    assert B.shape == (nx, nu)\n",
    "    if Cs is not None:\n",
    "        raise NotImplementedError\n",
    "\n",
    "    Zx = torch.empty((N, traj_len, nx), dtype=zx0.dtype, device=zx0.device)\n",
    "    Zx[:, 0, :] = zx0\n",
    "    zxi = zx0\n",
    "    for i in range(traj_len-1):\n",
    "        zxi = torch.einsum('ml,Nl->Nm', A, zxi) + torch.einsum('ml,Nl->Nm', B, Zu[:, i, :])\n",
    "        Zx[:, i+1, :] = zxi\n",
    "\n",
    "    return Zx\n",
    "\n",
    "def compute_rollout_loss(Zx_ref: Tensor, Zu: Tensor, A: Tensor, B: Tensor, n_segments: int, loss: Callable, discount: float = 1.0, Cs: None | Tensor = None) -> Tensor:\n",
    "    N, traj_len, nz_x = Zx_ref.shape\n",
    "    traj_len -= 1\n",
    "    assert len(Zu.shape) == 3 and Zu.shape[0] == N and Zu.shape[1] == traj_len\n",
    "    _, _, nz_u = Zu.shape\n",
    "    if Cs is not None:\n",
    "        raise NotImplementedError\n",
    "\n",
    "    seg_len = traj_len // n_segments\n",
    "    assert seg_len >= 2\n",
    "\n",
    "    total_loss = torch.tensor(0.0, device=device)\n",
    "\n",
    "    # collapse segment and batch dimensions\n",
    "    Zx_ref_batched = Zx_ref[:, :n_segments*seg_len, :]\n",
    "    Zu_batched = Zu[:, :n_segments*seg_len, :]\n",
    "    Zx_ref_batched = Zx_ref_batched.reshape(-1, seg_len, nz_x)\n",
    "    Zu_batched = Zu_batched.reshape(-1, seg_len, nz_u)\n",
    "\n",
    "    zx0 = Zx_ref_batched[:, 0, :]\n",
    "    Zx_rollout = rollout(zx0, Zu_batched, A, B, Cs)\n",
    "    # apply loss\n",
    "    for i in range(1, seg_len):\n",
    "        total_loss += loss(Zx_rollout[:, i, :], Zx_ref_batched[:, i, :]) * discount ** i\n",
    "\n",
    "    return total_loss\n"
   ],
   "id": "773308e5ea63e7f9",
   "outputs": [],
   "execution_count": 61
  },
  {
   "metadata": {
    "ExecuteTime": {
     "end_time": "2025-04-19T22:49:09.801143Z",
     "start_time": "2025-04-19T22:43:16.486477Z"
    }
   },
   "cell_type": "code",
   "source": [
    "from torch import optim\n",
    "\n",
    "# Train\n",
    "n_epochs = 10\n",
    "nx, nu = 2, 1\n",
    "nz_x = 50\n",
    "nz_u = 50\n",
    "n_rollout_segments = 5\n",
    "\n",
    "autoenc_x = AutoEncoder(nx, nz_x).to(device)\n",
    "autoenc_u = AutoEncoder(nu, nz_u).to(device)\n",
    "A = torch.eye(nz_x, dtype=torch.float32, requires_grad=True).to(device)\n",
    "B = torch.zeros((nz_x, nz_u), dtype=torch.float32, requires_grad=True).to(device)\n",
    "\n",
    "# Cs = list()\n",
    "# for i in range(nu):\n",
    "#     Ci = torch.nn.Linear(nz_x, nz_u, bias=False).to(device)\n",
    "#     nn.init.zeros_(Ci)\n",
    "#     Cs.append(Ci)\n",
    "\n",
    "\n",
    "theta = list(autoenc_x.parameters()) + list(autoenc_u.parameters()) + [A, B]\n",
    "              # [Ci.parameters() for Ci in Cs])\n",
    "\n",
    "optimizer = optim.Adam(theta, lr=1e-4)\n",
    "\n",
    "for epoch in range(n_epochs):\n",
    "    print(f\"Epoch {epoch+1}/{n_epochs}\")\n",
    "    iterator = tqdm(dataloader_train, total=len(dataloader_train) - 1, desc=\"Training\")\n",
    "    for batch_idx, (x, u) in enumerate(iterator):\n",
    "        # x: (batch_size, traj_len+1, nx)\n",
    "        x, u = x.to(device), u.to(device)\n",
    "        x, u = torch.reshape(x, (-1, nx)), torch.reshape(u, (-1, nu))\n",
    "\n",
    "        optimizer.zero_grad()\n",
    "\n",
    "        zx = autoenc_x.encode(x)\n",
    "        zu = autoenc_u.encode(u)\n",
    "        x_rec = autoenc_x.decode(zx)\n",
    "        u_rec = autoenc_u.decode(zu)\n",
    "\n",
    "        reconstr_loss_x = mse_loss(x, x_rec)\n",
    "        reconstr_loss_u = mse_loss(u, u_rec)\n",
    "\n",
    "        zx = zx.reshape((traj_per_batch, -1, nz_x))\n",
    "        zu = zu.reshape((traj_per_batch, -1, nz_u))\n",
    "\n",
    "        rollout_loss = compute_rollout_loss(zx, zu, A, B, n_rollout_segments, mse_loss, discount=0.95)\n",
    "\n",
    "        loss = 2*reconstr_loss_x + 2*reconstr_loss_u + rollout_loss\n",
    "        loss.backward()\n",
    "\n",
    "        optimizer.step()\n",
    "\n",
    "    print(f\"Epoch {epoch+1}, L_reconstr,x: {reconstr_loss_x.item():.4f}, \"\n",
    "          f\"L_reconstr,u: {reconstr_loss_u.item():.4f}, \",\n",
    "          f\"L_evolution: {evolution_loss.item():.4f}, \",\n",
    "          f\"L_total: {loss.item():.4f}\")\n",
    "\n",
    "    for t, name in [(A, \"A\"), (B, \"B\")]:\n",
    "        u, s, v = torch.linalg.svd(t)\n",
    "        cond_number = s.max() / s.min()\n",
    "        print(f\"Cond {name}: {cond_number:.4f}\")\n",
    "\n"
   ],
   "id": "16a1a6206db0bb01",
   "outputs": [
    {
     "name": "stdout",
     "output_type": "stream",
     "text": [
      "Epoch 1/10\n"
     ]
    },
    {
     "name": "stderr",
     "output_type": "stream",
     "text": [
      "Training: 800it [05:53,  2.27it/s]                         \n"
     ]
    },
    {
     "ename": "AttributeError",
     "evalue": "'MSELoss' object has no attribute 'item'",
     "output_type": "error",
     "traceback": [
      "\u001B[1;31m---------------------------------------------------------------------------\u001B[0m",
      "\u001B[1;31mAttributeError\u001B[0m                            Traceback (most recent call last)",
      "Cell \u001B[1;32mIn[62], line 57\u001B[0m\n\u001B[0;32m     51\u001B[0m     loss\u001B[38;5;241m.\u001B[39mbackward()\n\u001B[0;32m     53\u001B[0m     optimizer\u001B[38;5;241m.\u001B[39mstep()\n\u001B[0;32m     55\u001B[0m \u001B[38;5;28mprint\u001B[39m(\u001B[38;5;124mf\u001B[39m\u001B[38;5;124m\"\u001B[39m\u001B[38;5;124mEpoch \u001B[39m\u001B[38;5;132;01m{\u001B[39;00mepoch\u001B[38;5;241m+\u001B[39m\u001B[38;5;241m1\u001B[39m\u001B[38;5;132;01m}\u001B[39;00m\u001B[38;5;124m, L_reconstr,x: \u001B[39m\u001B[38;5;132;01m{\u001B[39;00mreconstr_loss_x\u001B[38;5;241m.\u001B[39mitem()\u001B[38;5;132;01m:\u001B[39;00m\u001B[38;5;124m.4f\u001B[39m\u001B[38;5;132;01m}\u001B[39;00m\u001B[38;5;124m, \u001B[39m\u001B[38;5;124m\"\u001B[39m\n\u001B[0;32m     56\u001B[0m       \u001B[38;5;124mf\u001B[39m\u001B[38;5;124m\"\u001B[39m\u001B[38;5;124mL_reconstr,u: \u001B[39m\u001B[38;5;132;01m{\u001B[39;00mreconstr_loss_u\u001B[38;5;241m.\u001B[39mitem()\u001B[38;5;132;01m:\u001B[39;00m\u001B[38;5;124m.4f\u001B[39m\u001B[38;5;132;01m}\u001B[39;00m\u001B[38;5;124m, \u001B[39m\u001B[38;5;124m\"\u001B[39m,\n\u001B[1;32m---> 57\u001B[0m       \u001B[38;5;124mf\u001B[39m\u001B[38;5;124m\"\u001B[39m\u001B[38;5;124mL_evolution: \u001B[39m\u001B[38;5;132;01m{\u001B[39;00mevolution_loss\u001B[38;5;241m.\u001B[39mitem()\u001B[38;5;132;01m:\u001B[39;00m\u001B[38;5;124m.4f\u001B[39m\u001B[38;5;132;01m}\u001B[39;00m\u001B[38;5;124m, \u001B[39m\u001B[38;5;124m\"\u001B[39m,\n\u001B[0;32m     58\u001B[0m       \u001B[38;5;124mf\u001B[39m\u001B[38;5;124m\"\u001B[39m\u001B[38;5;124mL_total: \u001B[39m\u001B[38;5;132;01m{\u001B[39;00mloss\u001B[38;5;241m.\u001B[39mitem()\u001B[38;5;132;01m:\u001B[39;00m\u001B[38;5;124m.4f\u001B[39m\u001B[38;5;132;01m}\u001B[39;00m\u001B[38;5;124m\"\u001B[39m)\n\u001B[0;32m     60\u001B[0m \u001B[38;5;28;01mfor\u001B[39;00m t, name \u001B[38;5;129;01min\u001B[39;00m [(A, \u001B[38;5;124m\"\u001B[39m\u001B[38;5;124mA\u001B[39m\u001B[38;5;124m\"\u001B[39m), (B, \u001B[38;5;124m\"\u001B[39m\u001B[38;5;124mB\u001B[39m\u001B[38;5;124m\"\u001B[39m)]:\n\u001B[0;32m     61\u001B[0m     u, s, v \u001B[38;5;241m=\u001B[39m torch\u001B[38;5;241m.\u001B[39mlinalg\u001B[38;5;241m.\u001B[39msvd(t)\n",
      "File \u001B[1;32mC:\\dev\\koopman\\venv\\lib\\site-packages\\torch\\nn\\modules\\module.py:1928\u001B[0m, in \u001B[0;36mModule.__getattr__\u001B[1;34m(self, name)\u001B[0m\n\u001B[0;32m   1926\u001B[0m     \u001B[38;5;28;01mif\u001B[39;00m name \u001B[38;5;129;01min\u001B[39;00m modules:\n\u001B[0;32m   1927\u001B[0m         \u001B[38;5;28;01mreturn\u001B[39;00m modules[name]\n\u001B[1;32m-> 1928\u001B[0m \u001B[38;5;28;01mraise\u001B[39;00m \u001B[38;5;167;01mAttributeError\u001B[39;00m(\n\u001B[0;32m   1929\u001B[0m     \u001B[38;5;124mf\u001B[39m\u001B[38;5;124m\"\u001B[39m\u001B[38;5;124m'\u001B[39m\u001B[38;5;132;01m{\u001B[39;00m\u001B[38;5;28mtype\u001B[39m(\u001B[38;5;28mself\u001B[39m)\u001B[38;5;241m.\u001B[39m\u001B[38;5;18m__name__\u001B[39m\u001B[38;5;132;01m}\u001B[39;00m\u001B[38;5;124m'\u001B[39m\u001B[38;5;124m object has no attribute \u001B[39m\u001B[38;5;124m'\u001B[39m\u001B[38;5;132;01m{\u001B[39;00mname\u001B[38;5;132;01m}\u001B[39;00m\u001B[38;5;124m'\u001B[39m\u001B[38;5;124m\"\u001B[39m\n\u001B[0;32m   1930\u001B[0m )\n",
      "\u001B[1;31mAttributeError\u001B[0m: 'MSELoss' object has no attribute 'item'"
     ]
    }
   ],
   "execution_count": 62
  },
  {
   "metadata": {
    "ExecuteTime": {
     "end_time": "2025-04-19T22:41:43.840909400Z",
     "start_time": "2025-04-16T07:16:46.928057Z"
    }
   },
   "cell_type": "code",
   "source": [
    "# pick sample trajectory\n",
    "\n",
    "\n",
    "with torch.no_grad():\n",
    "    idx = np.arange(100)\n",
    "\n",
    "    test_xhist = torch.tensor(xhist_eval[idx], dtype=torch.float32).to(device)\n",
    "    test_uhist = torch.tensor(uhist_eval[idx], dtype=torch.float32).to(device)\n",
    "\n",
    "    zx = autoenc_x.encode(test_xhist[:, 0, :])\n",
    "\n",
    "    test_xhist_pred = torch.empty_like(test_xhist)\n",
    "    test_xhist_pred[:, 0, :] = autoenc_x.decode(zx)\n",
    "\n",
    "    for i, t in enumerate(ts[:-1]):\n",
    "        zu = autoenc_u.encode(test_uhist[:, i, :])\n",
    "        zxp = torch.einsum('ml,Nl->Nm', A, zx) + torch.einsum('ml,Nl->Nm', B, zu)\n",
    "        test_xhist_pred[:, i + 1, :] = autoenc_x.decode(zxp)\n",
    "        zx = zxp\n",
    "\n",
    "    test_xhist_pred_np = test_xhist_pred.cpu().numpy()\n",
    "    test_uhist_np = test_uhist.cpu().numpy()\n",
    "    A_np = A.cpu().numpy()\n",
    "    B_np = B.cpu().numpy()\n",
    "\n",
    "print(f\"Rank A: {np.linalg.matrix_rank(A_np)}, Cond A {np.linalg.cond(A_np)}\")\n",
    "print(f\"Rank B: {np.linalg.matrix_rank(B_np)}, Cond B {np.linalg.cond(B_np)}\")"
   ],
   "id": "86a6d57e745e7d1b",
   "outputs": [
    {
     "name": "stdout",
     "output_type": "stream",
     "text": [
      "Rank A: 50, Cond A 1.6742970943450928\n",
      "Rank B: 50, Cond B 71071.828125\n"
     ]
    }
   ],
   "execution_count": 60
  },
  {
   "metadata": {
    "ExecuteTime": {
     "end_time": "2025-04-19T22:41:43.842913800Z",
     "start_time": "2025-04-16T07:16:50.725536Z"
    }
   },
   "cell_type": "code",
   "source": [
    "i = 1\n",
    "test_xhist_plt, test_uhist_plt, test_xhist_pred_plt = test_xhist[1, :],  test_uhist_np[1, :], test_xhist_pred_np[1, :]\n",
    "test_xhist_pred_plt = np.clip(test_xhist_pred_plt, -10, 10)\n",
    "fig, ax = plt.subplots(2, 1, figsize=(8, 6))\n",
    "# ax[0].plot(eval_ts, angle_wrap(eval_xhist[:, 0], \"-pi:pi\"), color='red', label=\"True theta\")\n",
    "# ax[0].plot(eval_ts, angle_wrap(eval_xhist_pred[:, 0], \"-pi:pi\"), color='red', label=\"Predicted theta\", linestyle='--')\n",
    "ax[0].plot(ts, test_xhist_plt[:, 0], color='red', label=\"True theta\")\n",
    "ax[0].plot(ts, test_xhist_pred_plt[:, 0], color='red', label=\"Predicted theta\", linestyle='--')\n",
    "ax[0].plot(ts, test_xhist_plt[:, 1], color='blue', label=\"True omega\")\n",
    "ax[0].plot(ts, test_xhist_pred_plt[:, 1], color='blue', label=\"Predicted omega\", linestyle='--')\n",
    "ax[0].set_title(\"Pendulum Angle\")\n",
    "ax[0].set_xlabel(\"Time\")\n",
    "ax[0].set_ylabel(\"Theta (rad)\")\n",
    "ax[0].legend()\n",
    "\n",
    "ax[1].plot(ts[:-1], test_uhist_plt[:, 0], color='black', label=\"Control\")\n",
    "ax[1].set_title(\"Control Input\")\n",
    "ax[1].set_xlabel(\"Time\")\n",
    "ax[1].set_ylabel(\"Control\")\n",
    "ax[1].legend()\n",
    "\n"
   ],
   "id": "5de111e7af4a6404",
   "outputs": [
    {
     "data": {
      "text/plain": [
       "<matplotlib.legend.Legend at 0x283e4f767a0>"
      ]
     },
     "execution_count": 62,
     "metadata": {},
     "output_type": "execute_result"
    },
    {
     "data": {
      "text/plain": [
       "<Figure size 800x600 with 2 Axes>"
      ],
      "image/png": "[encoded data removed]"
     },
     "metadata": {},
     "output_type": "display_data"
    }
   ],
   "execution_count": 62
  },
  {
   "metadata": {
    "ExecuteTime": {
     "end_time": "2025-04-19T22:41:43.844919500Z",
     "start_time": "2025-04-16T07:04:40.140671Z"
    }
   },
   "cell_type": "code",
   "source": "",
   "id": "aabbf62538cbcb17",
   "outputs": [],
   "execution_count": null
  },
  {
   "metadata": {
    "ExecuteTime": {
     "end_time": "2025-04-19T22:41:43.849336800Z",
     "start_time": "2025-04-16T07:04:51.608394Z"
    }
   },
   "cell_type": "code",
   "source": "",
   "id": "73679beb83bb3466",
   "outputs": [],
   "execution_count": null
  }
 ],
 "metadata": {
  "kernelspec": {
   "display_name": "Python 3",
   "language": "python",
   "name": "python3"
  },
  "language_info": {
   "codemirror_mode": {
    "name": "ipython",
    "version": 2
   },
   "file_extension": ".py",
   "mimetype": "text/x-python",
   "name": "python",
   "nbconvert_exporter": "python",
   "pygments_lexer": "ipython2",
   "version": "2.7.6"
  }
 },
 "nbformat": 4,
 "nbformat_minor": 5
}
