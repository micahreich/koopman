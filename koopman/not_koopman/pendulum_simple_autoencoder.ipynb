{
 "cells": [
  {
   "cell_type": "code",
   "execution_count": 4,
   "id": "initial_id",
   "metadata": {
    "ExecuteTime": {
     "end_time": "2025-04-20T03:06:36.121922Z",
     "start_time": "2025-04-20T03:06:36.116539Z"
    },
    "collapsed": true
   },
   "outputs": [],
   "source": [
    "import torch\n",
    "import numpy as np\n",
    "import scipy as sp\n",
    "from matplotlib import pyplot as plt\n",
    "from torch.nn import MSELoss\n",
    "\n",
    "from torch.utils.data.dataset import TensorDataset\n",
    "from torch.utils.data.dataloader import DataLoader\n",
    "from torch.utils.data.sampler import RandomSampler\n",
    "from torch import Tensor, nn\n",
    "\n",
    "from scipy.ndimage import gaussian_filter1d\n",
    "from tqdm import tqdm\n",
    "\n",
    "from itertools import chain\n",
    "\n",
    "from traitlets import Callable\n",
    "\n",
    "from koopman.simulation.simulator import simulate_batch\n",
    "from koopman.simulation.systems import Pendulum"
   ]
  },
  {
   "cell_type": "code",
   "execution_count": 5,
   "id": "5d3ad52ee964ff22",
   "metadata": {
    "ExecuteTime": {
     "end_time": "2025-04-20T03:06:36.258902Z",
     "start_time": "2025-04-20T03:06:36.255933Z"
    }
   },
   "outputs": [],
   "source": [
    "def generate_random_smooth_controls(N, T):\n",
    "    dt = 0.05\n",
    "    w = np.random.randn(N, T, 1) * np.sqrt(dt)\n",
    "    b = np.cumsum(w, axis=1)\n",
    "    b_smooth = gaussian_filter1d(b, sigma=10, axis=1)\n",
    "\n",
    "    return b_smooth"
   ]
  },
  {
   "cell_type": "code",
   "execution_count": 6,
   "id": "e4c9628c8d4be433",
   "metadata": {
    "ExecuteTime": {
     "end_time": "2025-04-20T05:13:03.648737Z",
     "start_time": "2025-04-20T05:12:19.209906Z"
    }
   },
   "outputs": [
    {
     "name": "stderr",
     "output_type": "stream",
     "text": [
      "Simulation progress: 100%|██████████| 100/100 [00:09<00:00, 10.65it/s]\n"
     ]
    }
   ],
   "source": [
    "params = Pendulum.Params(\n",
    "    m=1, l=1, g=9.81, b=0.0\n",
    ")\n",
    "\n",
    "pendulum = Pendulum(params)\n",
    "\n",
    "tf = 5.0\n",
    "dt = 0.05\n",
    "N = 250_000\n",
    "\n",
    "theta0 = np.random.uniform(-np.pi, np.pi, (N, 1))\n",
    "omega0 = np.random.uniform(-3, 3, (N, 1))\n",
    "x0 = np.hstack((theta0, omega0))\n",
    "\n",
    "U = generate_random_smooth_controls(N, int(tf/dt))\n",
    "U = np.zeros_like(U)\n",
    "\n",
    "ts, xhist_, uhist = simulate_batch(\n",
    "    sys=pendulum,\n",
    "    tf=tf,\n",
    "    dt=dt,\n",
    "    u=U,\n",
    "    x0=x0\n",
    ")\n",
    "\n",
    "# parametrize theta as sin(theta), cos(theta)\n",
    "xhist = np.zeros((xhist_.shape[0], xhist_.shape[1], 3))\n",
    "xhist[..., 0] = np.sin(xhist_[..., 0])\n",
    "xhist[..., 1] = np.cos(xhist_[..., 0])\n",
    "xhist[..., 2] = xhist_[..., 1]\n",
    "\n",
    "split = 0.9\n",
    "N_train = int(N * split)\n",
    "N_eval = N - N_train\n",
    "\n",
    "\n",
    "xhist_train, uhist_train = xhist[:N_train], uhist[:N_train]\n",
    "xhist_eval, uhist_eval = xhist[N_train:], uhist[N_train:]\n",
    "\n"
   ]
  },
  {
   "cell_type": "code",
   "execution_count": 7,
   "id": "9530b7c0062bb31f",
   "metadata": {
    "ExecuteTime": {
     "end_time": "2025-04-20T05:22:10.227454Z",
     "start_time": "2025-04-20T05:22:09.962381Z"
    }
   },
   "outputs": [],
   "source": [
    "# Prepare training\n",
    "traj_per_batch = 1024\n",
    "\n",
    "dataset_train = TensorDataset(torch.tensor(xhist_train, dtype=torch.float32),\n",
    "                              torch.tensor(uhist_train, dtype=torch.float32))\n",
    "dataset_eval = TensorDataset(torch.tensor(xhist_eval, dtype=torch.float32),\n",
    "                             torch.tensor(uhist_eval, dtype=torch.float32))\n",
    "\n",
    "dataloader_train = DataLoader(dataset_train,\n",
    "                              batch_size=traj_per_batch,\n",
    "                              shuffle=True)\n",
    "dataloader_eval = DataLoader(dataset_eval,\n",
    "                             batch_size=traj_per_batch,\n",
    "                             shuffle=False)\n",
    "\n",
    "reconstruction_loss = MSELoss()\n",
    "evolution_loss = MSELoss()\n",
    "\n",
    "device = torch.device(\"cuda:0\" if torch.cuda.is_available() else \"cpu\")"
   ]
  },
  {
   "cell_type": "code",
   "execution_count": 8,
   "id": "c78130f3df0635b5",
   "metadata": {
    "ExecuteTime": {
     "end_time": "2025-04-20T05:22:14.532167Z",
     "start_time": "2025-04-20T05:22:14.526199Z"
    }
   },
   "outputs": [],
   "source": [
    "class AutoEncoder(nn.Module):\n",
    "    def __init__(self, nx, nz, n_hidden=None):\n",
    "        super().__init__()\n",
    "        if n_hidden is None:\n",
    "            n_hidden = nz\n",
    "        self.nx, self.nz, self.n_hidden = nx, nz, n_hidden\n",
    "        self.encoder = nn.Sequential(\n",
    "            nn.Linear(nx, n_hidden),\n",
    "            nn.GELU(),\n",
    "            nn.Linear(n_hidden, n_hidden),\n",
    "            nn.GELU(),\n",
    "            nn.Linear(n_hidden, nz),\n",
    "        )\n",
    "        self.decoder = nn.Sequential(\n",
    "            nn.Linear(nz, n_hidden),\n",
    "            nn.GELU(),\n",
    "            nn.Linear(n_hidden, n_hidden),\n",
    "            nn.GELU(),\n",
    "            nn.Linear(n_hidden, nx)\n",
    "        )\n",
    "\n",
    "    def forward(self, x):\n",
    "        z = self.encoder(x)\n",
    "        return self.decoder(z)\n",
    "\n",
    "    def encode(self, x):\n",
    "        return self.encoder(x)\n",
    "\n",
    "    def decode(self, z):\n",
    "        return self.decoder(z)"
   ]
  },
  {
   "cell_type": "code",
   "execution_count": 9,
   "id": "773308e5ea63e7f9",
   "metadata": {
    "ExecuteTime": {
     "end_time": "2025-04-20T05:22:16.897353Z",
     "start_time": "2025-04-20T05:22:16.884683Z"
    }
   },
   "outputs": [],
   "source": [
    "# Trajectory rollout loss\n",
    "mse_loss = MSELoss()\n",
    "\n",
    "def rollout(zx0: Tensor, Zu: Tensor, A: Tensor, B: Tensor, Cs: None | Tensor = None) -> Tensor:\n",
    "    N, nx = zx0.shape\n",
    "    assert Zu.shape[0] == N\n",
    "    _, traj_len, nu = Zu.shape\n",
    "    traj_len += 1\n",
    "    assert A.shape == (nx, nx)\n",
    "    assert B.shape == (nx, nu)\n",
    "    if Cs is not None:\n",
    "        raise NotImplementedError\n",
    "\n",
    "    Zx = torch.empty((N, traj_len, nx), dtype=zx0.dtype, device=zx0.device)\n",
    "    Zx[:, 0, :] = zx0\n",
    "    zxi = zx0\n",
    "    for i in range(traj_len-1):\n",
    "        zxi = torch.einsum('ml,Nl->Nm', A, zxi) + torch.einsum('ml,Nl->Nm', B, Zu[:, i, :])\n",
    "        Zx[:, i+1, :] = zxi\n",
    "\n",
    "    return Zx\n",
    "\n",
    "def compute_rollout_loss(Zx_ref: Tensor, Zu: Tensor, A: Tensor, B: Tensor, n_segments: int, loss: Callable, discount: float = 1.0, Cs: None | Tensor = None) -> Tensor:\n",
    "    N, traj_len, nz_x = Zx_ref.shape\n",
    "    traj_len -= 1\n",
    "    assert len(Zu.shape) == 3 and Zu.shape[0] == N and Zu.shape[1] == traj_len\n",
    "    _, _, nz_u = Zu.shape\n",
    "    if Cs is not None:\n",
    "        raise NotImplementedError\n",
    "\n",
    "    seg_len = traj_len // n_segments\n",
    "    assert seg_len >= 2\n",
    "\n",
    "    total_loss = torch.tensor(0.0, device=device)\n",
    "\n",
    "    # collapse segment and batch dimensions\n",
    "    Zx_ref_batched = Zx_ref[:, :n_segments*seg_len, :]\n",
    "    Zu_batched = Zu[:, :n_segments*seg_len, :]\n",
    "    Zx_ref_batched = Zx_ref_batched.reshape(-1, seg_len, nz_x)\n",
    "    Zu_batched = Zu_batched.reshape(-1, seg_len, nz_u)\n",
    "\n",
    "    zx0 = Zx_ref_batched[:, 0, :]\n",
    "    Zx_rollout = rollout(zx0, Zu_batched, A, B, Cs)\n",
    "    # apply loss\n",
    "    for i in range(1, seg_len):\n",
    "        total_loss += loss(Zx_rollout[:, i, :], Zx_ref_batched[:, i, :]) * discount ** i\n",
    "\n",
    "    return total_loss\n"
   ]
  },
  {
   "cell_type": "code",
   "execution_count": 26,
   "id": "16a1a6206db0bb01",
   "metadata": {
    "ExecuteTime": {
     "end_time": "2025-04-20T05:23:57.888463Z",
     "start_time": "2025-04-20T05:22:22.132124Z"
    }
   },
   "outputs": [
    {
     "name": "stdout",
     "output_type": "stream",
     "text": [
      "Epoch 1/10\n"
     ]
    },
    {
     "name": "stderr",
     "output_type": "stream",
     "text": [
      "Training: 220it [00:23,  9.19it/s]                         \n",
      "Eval:  17%|█▋        | 4/24 [00:00<00:00, 35.30it/s]"
     ]
    },
    {
     "name": "stdout",
     "output_type": "stream",
     "text": [
      "Train epoch 1, L_reconstr,x: 0.0013, L_reconstr,u: 0.0000,  L_rollout: 0.0404,  L_total: 0.0749\n"
     ]
    },
    {
     "name": "stderr",
     "output_type": "stream",
     "text": [
      "Eval: 25it [00:00, 36.10it/s]                        \n"
     ]
    },
    {
     "name": "stdout",
     "output_type": "stream",
     "text": [
      "Eval epoch 1, L_reconstr,x: 0.0013, L_reconstr,u: 0.0000,  L_rollout: 0.0400,  L_total: 0.0426\n",
      "Cond A: 1.2179\n",
      "Cond B: 282613.5000\n",
      "Epoch 2/10\n"
     ]
    },
    {
     "name": "stderr",
     "output_type": "stream",
     "text": [
      "Training: 220it [00:23,  9.25it/s]                         \n",
      "Eval:  17%|█▋        | 4/24 [00:00<00:00, 36.98it/s]"
     ]
    },
    {
     "name": "stdout",
     "output_type": "stream",
     "text": [
      "Train epoch 2, L_reconstr,x: 0.0010, L_reconstr,u: 0.0000,  L_rollout: 0.0322,  L_total: 0.0375\n"
     ]
    },
    {
     "name": "stderr",
     "output_type": "stream",
     "text": [
      "Eval: 25it [00:00, 36.74it/s]                        \n"
     ]
    },
    {
     "name": "stdout",
     "output_type": "stream",
     "text": [
      "Eval epoch 2, L_reconstr,x: 0.0010, L_reconstr,u: 0.0000,  L_rollout: 0.0313,  L_total: 0.0332\n",
      "Cond A: 1.2226\n",
      "Cond B: 253059.2188\n",
      "Epoch 3/10\n"
     ]
    },
    {
     "name": "stderr",
     "output_type": "stream",
     "text": [
      "Training: 220it [00:23,  9.56it/s]                         \n",
      "Eval:  17%|█▋        | 4/24 [00:00<00:00, 36.76it/s]"
     ]
    },
    {
     "name": "stdout",
     "output_type": "stream",
     "text": [
      "Train epoch 3, L_reconstr,x: 0.0007, L_reconstr,u: 0.0000,  L_rollout: 0.0233,  L_total: 0.0295\n"
     ]
    },
    {
     "name": "stderr",
     "output_type": "stream",
     "text": [
      "Eval: 25it [00:00, 36.91it/s]                        \n"
     ]
    },
    {
     "name": "stdout",
     "output_type": "stream",
     "text": [
      "Eval epoch 3, L_reconstr,x: 0.0007, L_reconstr,u: 0.0000,  L_rollout: 0.0251,  L_total: 0.0265\n",
      "Cond A: 1.2280\n",
      "Cond B: 261982.3438\n",
      "Epoch 4/10\n"
     ]
    },
    {
     "name": "stderr",
     "output_type": "stream",
     "text": [
      "Training: 220it [00:23,  9.24it/s]                         \n",
      "Eval:  17%|█▋        | 4/24 [00:00<00:00, 34.51it/s]"
     ]
    },
    {
     "name": "stdout",
     "output_type": "stream",
     "text": [
      "Train epoch 4, L_reconstr,x: 0.0005, L_reconstr,u: 0.0000,  L_rollout: 0.0208,  L_total: 0.0239\n"
     ]
    },
    {
     "name": "stderr",
     "output_type": "stream",
     "text": [
      "Eval: 25it [00:00, 36.46it/s]                        \n"
     ]
    },
    {
     "name": "stdout",
     "output_type": "stream",
     "text": [
      "Eval epoch 4, L_reconstr,x: 0.0005, L_reconstr,u: 0.0000,  L_rollout: 0.0206,  L_total: 0.0217\n",
      "Cond A: 1.2340\n",
      "Cond B: 1485946.3750\n",
      "Epoch 5/10\n"
     ]
    },
    {
     "name": "stderr",
     "output_type": "stream",
     "text": [
      "Training: 220it [00:23,  9.26it/s]                         \n",
      "Eval:  17%|█▋        | 4/24 [00:00<00:00, 36.83it/s]"
     ]
    },
    {
     "name": "stdout",
     "output_type": "stream",
     "text": [
      "Train epoch 5, L_reconstr,x: 0.0004, L_reconstr,u: 0.0000,  L_rollout: 0.0173,  L_total: 0.0200\n"
     ]
    },
    {
     "name": "stderr",
     "output_type": "stream",
     "text": [
      "Eval: 25it [00:00, 29.78it/s]                        \n"
     ]
    },
    {
     "name": "stdout",
     "output_type": "stream",
     "text": [
      "Eval epoch 5, L_reconstr,x: 0.0004, L_reconstr,u: 0.0000,  L_rollout: 0.0175,  L_total: 0.0184\n",
      "Cond A: 1.2400\n",
      "Cond B: 334851.2812\n",
      "Epoch 6/10\n"
     ]
    },
    {
     "name": "stderr",
     "output_type": "stream",
     "text": [
      "Training: 220it [00:23,  9.27it/s]                         \n",
      "Eval:  17%|█▋        | 4/24 [00:00<00:00, 36.26it/s]"
     ]
    },
    {
     "name": "stdout",
     "output_type": "stream",
     "text": [
      "Train epoch 6, L_reconstr,x: 0.0003, L_reconstr,u: 0.0000,  L_rollout: 0.0159,  L_total: 0.0173\n"
     ]
    },
    {
     "name": "stderr",
     "output_type": "stream",
     "text": [
      "Eval: 25it [00:00, 36.85it/s]                        \n"
     ]
    },
    {
     "name": "stdout",
     "output_type": "stream",
     "text": [
      "Eval epoch 6, L_reconstr,x: 0.0003, L_reconstr,u: 0.0000,  L_rollout: 0.0152,  L_total: 0.0158\n",
      "Cond A: 1.2461\n",
      "Cond B: 415613.3125\n",
      "Epoch 7/10\n"
     ]
    },
    {
     "name": "stderr",
     "output_type": "stream",
     "text": [
      "Training: 220it [00:24,  9.12it/s]                         \n",
      "Eval:  17%|█▋        | 4/24 [00:00<00:00, 36.14it/s]"
     ]
    },
    {
     "name": "stdout",
     "output_type": "stream",
     "text": [
      "Train epoch 7, L_reconstr,x: 0.0004, L_reconstr,u: 0.0000,  L_rollout: 0.0147,  L_total: 0.0153\n"
     ]
    },
    {
     "name": "stderr",
     "output_type": "stream",
     "text": [
      "Eval: 25it [00:00, 36.50it/s]                        \n"
     ]
    },
    {
     "name": "stdout",
     "output_type": "stream",
     "text": [
      "Eval epoch 7, L_reconstr,x: 0.0004, L_reconstr,u: 0.0000,  L_rollout: 0.0147,  L_total: 0.0154\n",
      "Cond A: 1.2523\n",
      "Cond B: 68406688.0000\n",
      "Epoch 8/10\n"
     ]
    },
    {
     "name": "stderr",
     "output_type": "stream",
     "text": [
      "Training: 220it [00:23,  9.18it/s]                         \n",
      "Eval:  17%|█▋        | 4/24 [00:00<00:00, 36.16it/s]"
     ]
    },
    {
     "name": "stdout",
     "output_type": "stream",
     "text": [
      "Train epoch 8, L_reconstr,x: 0.0002, L_reconstr,u: 0.0000,  L_rollout: 0.0118,  L_total: 0.0139\n"
     ]
    },
    {
     "name": "stderr",
     "output_type": "stream",
     "text": [
      "Eval: 25it [00:00, 29.48it/s]                        \n"
     ]
    },
    {
     "name": "stdout",
     "output_type": "stream",
     "text": [
      "Eval epoch 8, L_reconstr,x: 0.0002, L_reconstr,u: 0.0000,  L_rollout: 0.0121,  L_total: 0.0126\n",
      "Cond A: 1.2587\n",
      "Cond B: 604193.7500\n",
      "Epoch 9/10\n"
     ]
    },
    {
     "name": "stderr",
     "output_type": "stream",
     "text": [
      "Training: 220it [00:23,  9.28it/s]                         \n",
      "Eval:  17%|█▋        | 4/24 [00:00<00:00, 36.81it/s]"
     ]
    },
    {
     "name": "stdout",
     "output_type": "stream",
     "text": [
      "Train epoch 9, L_reconstr,x: 0.0004, L_reconstr,u: 0.0000,  L_rollout: 0.0112,  L_total: 0.0124\n"
     ]
    },
    {
     "name": "stderr",
     "output_type": "stream",
     "text": [
      "Eval: 25it [00:00, 37.13it/s]                        \n"
     ]
    },
    {
     "name": "stdout",
     "output_type": "stream",
     "text": [
      "Eval epoch 9, L_reconstr,x: 0.0003, L_reconstr,u: 0.0000,  L_rollout: 0.0115,  L_total: 0.0122\n",
      "Cond A: 1.2654\n",
      "Cond B: 275639.4375\n",
      "Epoch 10/10\n"
     ]
    },
    {
     "name": "stderr",
     "output_type": "stream",
     "text": [
      "Training: 220it [00:24,  9.17it/s]                         \n",
      "Eval:  17%|█▋        | 4/24 [00:00<00:00, 36.39it/s]"
     ]
    },
    {
     "name": "stdout",
     "output_type": "stream",
     "text": [
      "Train epoch 10, L_reconstr,x: 0.0002, L_reconstr,u: 0.0000,  L_rollout: 0.0104,  L_total: 0.0114\n"
     ]
    },
    {
     "name": "stderr",
     "output_type": "stream",
     "text": [
      "Eval: 25it [00:00, 36.48it/s]                        "
     ]
    },
    {
     "name": "stdout",
     "output_type": "stream",
     "text": [
      "Eval epoch 10, L_reconstr,x: 0.0002, L_reconstr,u: 0.0000,  L_rollout: 0.0100,  L_total: 0.0104\n",
      "Cond A: 1.2721\n",
      "Cond B: 259015.0938\n"
     ]
    },
    {
     "name": "stderr",
     "output_type": "stream",
     "text": [
      "\n"
     ]
    }
   ],
   "source": [
    "from torch import optim\n",
    "\n",
    "# Train\n",
    "n_epochs = 10\n",
    "nx, nu = 3, 1\n",
    "nz_x = 50\n",
    "nz_u = 50\n",
    "n_rollout_segments = 1\n",
    "\n",
    "# A = torch.nn.Parameter(torch.eye(nz_x, dtype=torch.float32).to(device))\n",
    "# B = torch.nn.Parameter(torch.zeros((nz_x, nz_u), dtype=torch.float32).to(device))\n",
    "# autoenc_x = AutoEncoder(nx, nz_x).to(device)\n",
    "# autoenc_u = AutoEncoder(nu, nz_u).to(device)\n",
    "\n",
    "# Cs = list()\n",
    "# for i in range(nu):\n",
    "#     Ci = torch.nn.Linear(nz_x, nz_u, bias=False).to(device)\n",
    "#     nn.init.zeros_(Ci)\n",
    "#     Cs.append(Ci)\n",
    "\n",
    "\n",
    "theta = list(autoenc_x.parameters()) + list(autoenc_u.parameters())  + [A, B]\n",
    "              # [Ci.parameters() for Ci in Cs])\n",
    "\n",
    "optimizer = optim.Adam(theta, lr=1e-4)\n",
    "\n",
    "for epoch in range(n_epochs):\n",
    "    print(f\"Epoch {epoch+1}/{n_epochs}\")\n",
    "    iterator = tqdm(dataloader_train, total=len(dataloader_train) - 1, desc=\"Training\")\n",
    "    train_loss = 0.0\n",
    "    for batch_idx, (x, u) in enumerate(iterator):\n",
    "        # x: (batch_size, traj_len+1, nx)\n",
    "        N = x.shape[0]\n",
    "        x, u = x.to(device), u.to(device)\n",
    "        x, u = torch.reshape(x, (-1, nx)), torch.reshape(u, (-1, nu))\n",
    "\n",
    "        optimizer.zero_grad()\n",
    "\n",
    "        zx = autoenc_x.encode(x)\n",
    "        zu = autoenc_u.encode(u)\n",
    "        x_rec = autoenc_x.decode(zx)\n",
    "        u_rec = autoenc_u.decode(zu)\n",
    "\n",
    "        reconstr_loss_x = mse_loss(x, x_rec)\n",
    "        reconstr_loss_u = mse_loss(u, u_rec)\n",
    "\n",
    "        zx = zx.reshape((N, -1, nz_x))\n",
    "        zu = zu.reshape((N, -1, nz_u))\n",
    "\n",
    "        rollout_loss = compute_rollout_loss(zx, zu, A, B, n_rollout_segments, mse_loss)\n",
    "\n",
    "        loss = 2*reconstr_loss_x + 2*reconstr_loss_u + rollout_loss\n",
    "        train_loss += loss.item()\n",
    "        loss.backward()\n",
    "\n",
    "        optimizer.step()\n",
    "\n",
    "    train_loss /= len(dataloader_train)\n",
    "\n",
    "    iterator = tqdm(dataloader_eval, total=len(dataloader_eval) - 1, desc=\"Eval\")\n",
    "    eval_reconstr_loss_x = 0.0\n",
    "    eval_reconstr_loss_u = 0.0\n",
    "    eval_rollout_loss = 0.0\n",
    "    eval_loss = 0.0\n",
    "\n",
    "    print(f\"Train epoch {epoch+1}, L_reconstr,x: {reconstr_loss_x.item():.4f}, \"\n",
    "          f\"L_reconstr,u: {reconstr_loss_u.item():.4f}, \",\n",
    "          f\"L_rollout: {rollout_loss.item():.4f}, \",\n",
    "          f\"L_total: {train_loss:.4f}\")\n",
    "\n",
    "    with torch.no_grad():\n",
    "        for batch_idx, (x, u) in enumerate(iterator):\n",
    "            N = x.shape[0]\n",
    "            x, u = x.to(device), u.to(device)\n",
    "            x, u = torch.reshape(x, (-1, nx)), torch.reshape(u, (-1, nu))\n",
    "\n",
    "            optimizer.zero_grad()\n",
    "\n",
    "            zx = autoenc_x.encode(x)\n",
    "            zu = autoenc_u.encode(u)\n",
    "            x_rec = autoenc_x.decode(zx)\n",
    "            u_rec = autoenc_u.decode(zu)\n",
    "\n",
    "            reconstr_loss_x = mse_loss(x, x_rec)\n",
    "            reconstr_loss_u = mse_loss(u, u_rec)\n",
    "\n",
    "            zx = zx.reshape((N, -1, nz_x))\n",
    "            zu = zu.reshape((N, -1, nz_u))\n",
    "\n",
    "            rollout_loss = compute_rollout_loss(zx, zu, A, B, n_rollout_segments, mse_loss)\n",
    "\n",
    "            eval_loss += 2*reconstr_loss_x + 2*reconstr_loss_u + rollout_loss\n",
    "            eval_reconstr_loss_x += reconstr_loss_x\n",
    "            eval_reconstr_loss_u += reconstr_loss_u\n",
    "            eval_rollout_loss += rollout_loss\n",
    "\n",
    "    eval_reconstr_loss_x /= len(dataloader_eval)\n",
    "    eval_reconstr_loss_u /= len(dataloader_eval)\n",
    "    eval_rollout_loss /= len(dataloader_eval)\n",
    "    eval_loss /= len(dataloader_eval)\n",
    "\n",
    "    print(f\"Eval epoch {epoch+1}, L_reconstr,x: {eval_reconstr_loss_x:.4f}, \"\n",
    "          f\"L_reconstr,u: {eval_reconstr_loss_u:.4f}, \",\n",
    "          f\"L_rollout: {eval_rollout_loss:.4f}, \",\n",
    "          f\"L_total: {eval_loss:.4f}\")\n",
    "\n",
    "    for t, name in [(A, \"A\"), (B, \"B\")]:\n",
    "        u, s, v = torch.linalg.svd(t)\n",
    "        cond_number = s.max() / s.min()\n",
    "        print(f\"Cond {name}: {cond_number:.4f}\")\n",
    "\n"
   ]
  },
  {
   "cell_type": "code",
   "execution_count": 13,
   "id": "86a6d57e745e7d1b",
   "metadata": {
    "ExecuteTime": {
     "end_time": "2025-04-20T05:01:24.115014Z",
     "start_time": "2025-04-20T05:01:24.056088Z"
    }
   },
   "outputs": [
    {
     "name": "stdout",
     "output_type": "stream",
     "text": [
      "Rank A: 50, Cond A 1.2160803079605103\n",
      "Rank B: 47, Cond B 930650.4375\n"
     ]
    }
   ],
   "source": [
    "def unwrap_angle(arr: np.ndarray) ->  np.ndarray:\n",
    "    shape = list(arr.shape)\n",
    "    assert shape[-1] == 2\n",
    "    shape[-1] = 1\n",
    "    res = np.empty(shape, dtype=arr.dtype)\n",
    "    res[..., 0] = np.arctan2(arr[..., 0], arr[..., 1])\n",
    "    return res\n",
    "\n",
    "# pick sample trajectory\n",
    "\n",
    "with torch.no_grad():\n",
    "    idx = np.arange(10)\n",
    "\n",
    "    test_xhist = torch.tensor(xhist_train[idx], dtype=torch.float32).to(device)\n",
    "    test_uhist = torch.tensor(uhist_train[idx], dtype=torch.float32).to(device)\n",
    "\n",
    "    zx = autoenc_x.encode(test_xhist[:, 0, :])\n",
    "\n",
    "    test_xhist_pred = torch.empty_like(test_xhist)\n",
    "    test_xhist_pred[:, 0, :] = autoenc_x.decode(zx)\n",
    "\n",
    "    for i, t in enumerate(ts[:-1]):\n",
    "        zu = autoenc_u.encode(test_uhist[:, i, :])\n",
    "        zxp = torch.einsum('ml,Nl->Nm', A, zx) + torch.einsum('ml,Nl->Nm', B, zu)\n",
    "        test_xhist_pred[:, i + 1, :] = autoenc_x.decode(zxp)\n",
    "        zx = zxp\n",
    "\n",
    "    test_xhist_pred_np = test_xhist_pred.cpu().numpy()\n",
    "    test_uhist_np = test_uhist.cpu().numpy()\n",
    "    test_xhist_np = test_xhist.cpu().numpy()\n",
    "    test_xhist_np = np.concatenate((unwrap_angle(test_xhist_np[..., :2]), test_xhist_np[..., [2, ]]), axis=-1)\n",
    "    test_xhist_pred_np = np.concatenate((unwrap_angle(test_xhist_pred_np[..., :2]), test_xhist_pred_np[..., [2, ]]), axis=-1)\n",
    "    A_np = A.cpu().numpy()\n",
    "    B_np = B.cpu().numpy()\n",
    "\n",
    "print(f\"Rank A: {np.linalg.matrix_rank(A_np)}, Cond A {np.linalg.cond(A_np)}\")\n",
    "print(f\"Rank B: {np.linalg.matrix_rank(B_np)}, Cond B {np.linalg.cond(B_np)}\")"
   ]
  },
  {
   "cell_type": "code",
   "execution_count": 25,
   "id": "5de111e7af4a6404",
   "metadata": {
    "ExecuteTime": {
     "end_time": "2025-04-20T05:02:20.427980Z",
     "start_time": "2025-04-20T05:02:20.112517Z"
    }
   },
   "outputs": [
    {
     "data": {
      "text/plain": [
       "<matplotlib.legend.Legend at 0x78fd982faa40>"
      ]
     },
     "execution_count": 25,
     "metadata": {},
     "output_type": "execute_result"
    },
    {
     "data": {
      "image/png": "[encoded data removed]",
      "text/plain": [
       "<Figure size 800x600 with 2 Axes>"
      ]
     },
     "metadata": {},
     "output_type": "display_data"
    }
   ],
   "source": [
    "i = 9\n",
    "\n",
    "\n",
    "test_xhist_plt, test_uhist_plt, test_xhist_pred_plt = test_xhist_np[i, :],  test_uhist_np[i, :], test_xhist_pred_np[i, :]\n",
    "test_xhist_pred_plt = np.clip(test_xhist_pred_plt, -10, 10)\n",
    "fig, ax = plt.subplots(2, 1, figsize=(8, 6))\n",
    "# ax[0].plot(eval_ts, angle_wrap(eval_xhist[:, 0], \"-pi:pi\"), color='red', label=\"True theta\")\n",
    "# ax[0].plot(eval_ts, angle_wrap(eval_xhist_pred[:, 0], \"-pi:pi\"), color='red', label=\"Predicted theta\", linestyle='--')\n",
    "ax[0].plot(ts, test_xhist_plt[:, 0], color='red', label=\"True theta\")\n",
    "ax[0].plot(ts, test_xhist_pred_plt[:, 0], color='red', label=\"Predicted theta\", linestyle='--')\n",
    "ax[0].plot(ts, test_xhist_plt[:, 1], color='blue', label=\"True omega\")\n",
    "ax[0].plot(ts, test_xhist_pred_plt[:, 1], color='blue', label=\"Predicted omega\", linestyle='--')\n",
    "ax[0].set_title(\"Pendulum Angle\")\n",
    "ax[0].set_xlabel(\"Time\")\n",
    "ax[0].set_ylabel(\"Theta (rad)\")\n",
    "ax[0].legend()\n",
    "\n",
    "ax[1].plot(ts[:-1], test_uhist_plt[:, 0], color='black', label=\"Control\")\n",
    "ax[1].set_title(\"Control Input\")\n",
    "ax[1].set_xlabel(\"Time\")\n",
    "ax[1].set_ylabel(\"Control\")\n",
    "ax[1].legend()\n",
    "\n"
   ]
  },
  {
   "cell_type": "code",
   "execution_count": null,
   "id": "aabbf62538cbcb17",
   "metadata": {},
   "outputs": [],
   "source": [
    "# plot encoder functions\n",
    "\n"
   ]
  },
  {
   "cell_type": "code",
   "execution_count": null,
   "id": "73679beb83bb3466",
   "metadata": {},
   "outputs": [],
   "source": []
  }
 ],
 "metadata": {
  "kernelspec": {
   "display_name": "venv",
   "language": "python",
   "name": "python3"
  },
  "language_info": {
   "codemirror_mode": {
    "name": "ipython",
    "version": 3
   },
   "file_extension": ".py",
   "mimetype": "text/x-python",
   "name": "python",
   "nbconvert_exporter": "python",
   "pygments_lexer": "ipython3",
   "version": "3.10.12"
  }
 },
 "nbformat": 4,
 "nbformat_minor": 5
}
