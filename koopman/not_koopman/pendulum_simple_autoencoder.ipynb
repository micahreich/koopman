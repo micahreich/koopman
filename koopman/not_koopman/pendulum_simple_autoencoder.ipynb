{
 "cells": [
  {
   "cell_type": "code",
   "id": "initial_id",
   "metadata": {
    "collapsed": true,
    "ExecuteTime": {
     "end_time": "2025-04-20T03:06:36.121922Z",
     "start_time": "2025-04-20T03:06:36.116539Z"
    }
   },
   "source": [
    "import torch\n",
    "import numpy as np\n",
    "import scipy as sp\n",
    "from matplotlib import pyplot as plt\n",
    "from torch.nn import MSELoss\n",
    "\n",
    "from torch.utils.data.dataset import TensorDataset\n",
    "from torch.utils.data.dataloader import DataLoader\n",
    "from torch.utils.data.sampler import RandomSampler\n",
    "from torch import Tensor, nn\n",
    "\n",
    "from scipy.ndimage import gaussian_filter1d\n",
    "from tqdm import tqdm\n",
    "\n",
    "from itertools import chain\n",
    "\n",
    "from traitlets import Callable\n",
    "\n",
    "from koopman.simulation.simulator import simulate_batch\n",
    "from koopman.simulation.systems import Pendulum"
   ],
   "outputs": [],
   "execution_count": 41
  },
  {
   "metadata": {
    "ExecuteTime": {
     "end_time": "2025-04-20T03:06:36.258902Z",
     "start_time": "2025-04-20T03:06:36.255933Z"
    }
   },
   "cell_type": "code",
   "source": [
    "def generate_random_smooth_controls(N, T):\n",
    "    dt = 0.05\n",
    "    w = np.random.randn(N, T, 1) * np.sqrt(dt)\n",
    "    b = np.cumsum(w, axis=1)\n",
    "    b_smooth = gaussian_filter1d(b, sigma=10, axis=1)\n",
    "\n",
    "    return b_smooth"
   ],
   "id": "5d3ad52ee964ff22",
   "outputs": [],
   "execution_count": 42
  },
  {
   "metadata": {
    "ExecuteTime": {
     "end_time": "2025-04-20T04:42:30.752430Z",
     "start_time": "2025-04-20T04:42:30.734309Z"
    }
   },
   "cell_type": "code",
   "source": [
    "params = Pendulum.Params(\n",
    "    m=1, l=1, g=9.81, b=0.0\n",
    ")\n",
    "\n",
    "pendulum = Pendulum(params)\n",
    "\n",
    "tf = 5.0\n",
    "dt = 0.05\n",
    "N = 1\n",
    "\n",
    "theta0 = np.random.uniform(-np.pi, np.pi, (N, 1))\n",
    "omega0 = np.random.uniform(-3, 3, (N, 1))\n",
    "x0 = np.hstack((theta0, omega0))\n",
    "\n",
    "U = generate_random_smooth_controls(N, int(tf/dt))\n",
    "U = np.zeros_like(U)\n",
    "\n",
    "ts, xhist, uhist = simulate_batch(\n",
    "    sys=pendulum,\n",
    "    tf=tf,\n",
    "    dt=dt,\n",
    "    u=U,\n",
    "    x0=x0\n",
    ")\n",
    "\n",
    "# split = 0.8\n",
    "# N_train = int(N * split)\n",
    "# N_eval = N - N_train\n",
    "\n",
    "N_train = 1\n",
    "\n",
    "xhist_train, uhist_train = xhist[:N_train], uhist[:N_train]\n",
    "# xhist_eval, uhist_eval = xhist[N_train:], uhist[N_train:]\n",
    "xhist_eval, uhist_eval = xhist_train, uhist_train\n",
    "\n"
   ],
   "id": "e4c9628c8d4be433",
   "outputs": [
    {
     "name": "stderr",
     "output_type": "stream",
     "text": [
      "Simulation progress: 100%|██████████| 100/100 [00:00<00:00, 11316.69it/s]\n"
     ]
    }
   ],
   "execution_count": 178
  },
  {
   "metadata": {
    "ExecuteTime": {
     "end_time": "2025-04-20T04:42:33.573700Z",
     "start_time": "2025-04-20T04:42:33.565149Z"
    }
   },
   "cell_type": "code",
   "source": [
    "# Prepare training\n",
    "traj_per_batch = 1\n",
    "\n",
    "dataset_train = TensorDataset(torch.tensor(xhist_train, dtype=torch.float32),\n",
    "                              torch.tensor(uhist_train, dtype=torch.float32))\n",
    "dataset_eval = TensorDataset(torch.tensor(xhist_eval, dtype=torch.float32),\n",
    "                             torch.tensor(uhist_eval, dtype=torch.float32))\n",
    "\n",
    "dataloader_train = DataLoader(dataset_train,\n",
    "                              batch_size=traj_per_batch,\n",
    "                              shuffle=True)\n",
    "dataloader_eval = DataLoader(dataset_eval,\n",
    "                             batch_size=traj_per_batch,\n",
    "                             shuffle=False)\n",
    "\n",
    "reconstruction_loss = MSELoss()\n",
    "evolution_loss = MSELoss()\n",
    "\n",
    "device = torch.device(\"cuda:0\" if torch.cuda.is_available() else \"cpu\")"
   ],
   "id": "9530b7c0062bb31f",
   "outputs": [],
   "execution_count": 179
  },
  {
   "metadata": {
    "ExecuteTime": {
     "end_time": "2025-04-20T04:42:36.065440Z",
     "start_time": "2025-04-20T04:42:36.056864Z"
    }
   },
   "cell_type": "code",
   "source": [
    "class AutoEncoder(nn.Module):\n",
    "    def __init__(self, nx, nz, n_hidden=None):\n",
    "        super().__init__()\n",
    "        if n_hidden is None:\n",
    "            n_hidden = nz\n",
    "        self.nx, self.nz, self.n_hidden = nx, nz, n_hidden\n",
    "        self.encoder = nn.Sequential(\n",
    "            nn.Linear(nx, n_hidden),\n",
    "            nn.GELU(),\n",
    "            nn.Linear(n_hidden, n_hidden),\n",
    "            nn.GELU(),\n",
    "            nn.Linear(n_hidden, nz),\n",
    "        )\n",
    "        self.decoder = nn.Sequential(\n",
    "            nn.Linear(nz, n_hidden),\n",
    "            nn.GELU(),\n",
    "            nn.Linear(n_hidden, n_hidden),\n",
    "            nn.GELU(),\n",
    "            nn.Linear(n_hidden, nx)\n",
    "        )\n",
    "\n",
    "    def forward(self, x):\n",
    "        z = self.encoder(x)\n",
    "        return self.decoder(z)\n",
    "\n",
    "    def encode(self, x):\n",
    "        return self.encoder(x)\n",
    "\n",
    "    def decode(self, z):\n",
    "        return self.decoder(z)"
   ],
   "id": "c78130f3df0635b5",
   "outputs": [],
   "execution_count": 180
  },
  {
   "metadata": {
    "ExecuteTime": {
     "end_time": "2025-04-20T04:42:38.051433Z",
     "start_time": "2025-04-20T04:42:38.042241Z"
    }
   },
   "cell_type": "code",
   "source": [
    "# Trajectory rollout loss\n",
    "mse_loss = MSELoss()\n",
    "\n",
    "def rollout(zx0: Tensor, Zu: Tensor, A: Tensor, B: Tensor, Cs: None | Tensor = None) -> Tensor:\n",
    "    N, nx = zx0.shape\n",
    "    assert Zu.shape[0] == N\n",
    "    _, traj_len, nu = Zu.shape\n",
    "    traj_len += 1\n",
    "    assert A.shape == (nx, nx)\n",
    "    assert B.shape == (nx, nu)\n",
    "    if Cs is not None:\n",
    "        raise NotImplementedError\n",
    "\n",
    "    Zx = torch.empty((N, traj_len, nx), dtype=zx0.dtype, device=zx0.device)\n",
    "    Zx[:, 0, :] = zx0\n",
    "    zxi = zx0\n",
    "    for i in range(traj_len-1):\n",
    "        zxi = torch.einsum('ml,Nl->Nm', A, zxi) + torch.einsum('ml,Nl->Nm', B, Zu[:, i, :])\n",
    "        Zx[:, i+1, :] = zxi\n",
    "\n",
    "    return Zx\n",
    "\n",
    "def compute_rollout_loss(Zx_ref: Tensor, Zu: Tensor, A: Tensor, B: Tensor, n_segments: int, loss: Callable, discount: float = 1.0, Cs: None | Tensor = None) -> Tensor:\n",
    "    N, traj_len, nz_x = Zx_ref.shape\n",
    "    traj_len -= 1\n",
    "    assert len(Zu.shape) == 3 and Zu.shape[0] == N and Zu.shape[1] == traj_len\n",
    "    _, _, nz_u = Zu.shape\n",
    "    if Cs is not None:\n",
    "        raise NotImplementedError\n",
    "\n",
    "    seg_len = traj_len // n_segments\n",
    "    assert seg_len >= 2\n",
    "\n",
    "    total_loss = torch.tensor(0.0, device=device)\n",
    "\n",
    "    # collapse segment and batch dimensions\n",
    "    Zx_ref_batched = Zx_ref[:, :n_segments*seg_len, :]\n",
    "    Zu_batched = Zu[:, :n_segments*seg_len, :]\n",
    "    Zx_ref_batched = Zx_ref_batched.reshape(-1, seg_len, nz_x)\n",
    "    Zu_batched = Zu_batched.reshape(-1, seg_len, nz_u)\n",
    "\n",
    "    zx0 = Zx_ref_batched[:, 0, :]\n",
    "    Zx_rollout = rollout(zx0, Zu_batched, A, B, Cs)\n",
    "    # apply loss\n",
    "    for i in range(1, seg_len):\n",
    "        total_loss += loss(Zx_rollout[:, i, :], Zx_ref_batched[:, i, :]) * discount ** i\n",
    "\n",
    "    return total_loss\n"
   ],
   "id": "773308e5ea63e7f9",
   "outputs": [],
   "execution_count": 181
  },
  {
   "metadata": {
    "ExecuteTime": {
     "end_time": "2025-04-20T04:42:47.010460Z",
     "start_time": "2025-04-20T04:42:40.826920Z"
    }
   },
   "cell_type": "code",
   "source": [
    "from torch import optim\n",
    "\n",
    "# Train\n",
    "n_epochs = 50\n",
    "nx, nu = 2, 1\n",
    "nz_x = 50\n",
    "nz_u = 50\n",
    "n_rollout_segments = 1\n",
    "\n",
    "A = torch.nn.Parameter(torch.eye(nz_x, dtype=torch.float32).to(device))\n",
    "B = torch.nn.Parameter(torch.zeros((nz_x, nz_u), dtype=torch.float32).to(device))\n",
    "autoenc_x = AutoEncoder(nx, nz_x).to(device)\n",
    "autoenc_u = AutoEncoder(nu, nz_u).to(device)\n",
    "\n",
    "# Cs = list()\n",
    "# for i in range(nu):\n",
    "#     Ci = torch.nn.Linear(nz_x, nz_u, bias=False).to(device)\n",
    "#     nn.init.zeros_(Ci)\n",
    "#     Cs.append(Ci)\n",
    "\n",
    "\n",
    "theta = list(autoenc_x.parameters()) + list(autoenc_u.parameters())  + [A, B]\n",
    "              # [Ci.parameters() for Ci in Cs])\n",
    "\n",
    "optimizer = optim.Adam(theta, lr=1e-4)\n",
    "\n",
    "for epoch in range(n_epochs):\n",
    "    print(f\"Epoch {epoch+1}/{n_epochs}\")\n",
    "    iterator = tqdm(dataloader_train, total=len(dataloader_train) - 1, desc=\"Training\")\n",
    "    train_loss = 0.0\n",
    "    for batch_idx, (x, u) in enumerate(iterator):\n",
    "        # x: (batch_size, traj_len+1, nx)\n",
    "        x, u = x.to(device), u.to(device)\n",
    "        x, u = torch.reshape(x, (-1, nx)), torch.reshape(u, (-1, nu))\n",
    "\n",
    "        optimizer.zero_grad()\n",
    "\n",
    "        zx = autoenc_x.encode(x)\n",
    "        zu = autoenc_u.encode(u)\n",
    "        x_rec = autoenc_x.decode(zx)\n",
    "        u_rec = autoenc_u.decode(zu)\n",
    "\n",
    "        reconstr_loss_x = mse_loss(x, x_rec)\n",
    "        reconstr_loss_u = mse_loss(u, u_rec)\n",
    "\n",
    "        zx = zx.reshape((traj_per_batch, -1, nz_x))\n",
    "        zu = zu.reshape((traj_per_batch, -1, nz_u))\n",
    "\n",
    "        rollout_loss = compute_rollout_loss(zx, zu, A, B, n_rollout_segments, mse_loss, discount=0.95)\n",
    "\n",
    "        loss = 2*reconstr_loss_x + 2*reconstr_loss_u + rollout_loss\n",
    "        train_loss += loss.item()\n",
    "        loss.backward()\n",
    "\n",
    "        optimizer.step()\n",
    "\n",
    "    train_loss /= len(dataloader_train)\n",
    "\n",
    "    iterator = tqdm(dataloader_eval, total=len(dataloader_eval) - 1, desc=\"Eval\")\n",
    "    eval_reconstr_loss_x = 0.0\n",
    "    eval_reconstr_loss_u = 0.0\n",
    "    eval_rollout_loss = 0.0\n",
    "    eval_loss = 0.0\n",
    "\n",
    "    print(f\"Train epoch {epoch+1}, L_reconstr,x: {reconstr_loss_x.item():.4f}, \"\n",
    "          f\"L_reconstr,u: {reconstr_loss_u.item():.4f}, \",\n",
    "          f\"L_rollout: {rollout_loss.item():.4f}, \",\n",
    "          f\"L_total: {train_loss:.4f}\")\n",
    "\n",
    "    with torch.no_grad():\n",
    "        for batch_idx, (x, u) in enumerate(iterator):\n",
    "            x, u = x.to(device), u.to(device)\n",
    "            x, u = torch.reshape(x, (-1, nx)), torch.reshape(u, (-1, nu))\n",
    "\n",
    "            optimizer.zero_grad()\n",
    "\n",
    "            zx = autoenc_x.encode(x)\n",
    "            zu = autoenc_u.encode(u)\n",
    "            x_rec = autoenc_x.decode(zx)\n",
    "            u_rec = autoenc_u.decode(zu)\n",
    "\n",
    "            reconstr_loss_x = mse_loss(x, x_rec)\n",
    "            reconstr_loss_u = mse_loss(u, u_rec)\n",
    "\n",
    "            zx = zx.reshape((traj_per_batch, -1, nz_x))\n",
    "            zu = zu.reshape((traj_per_batch, -1, nz_u))\n",
    "\n",
    "            rollout_loss = compute_rollout_loss(zx, zu, A, B, n_rollout_segments, mse_loss, discount=0.95)\n",
    "\n",
    "            eval_loss += 2*reconstr_loss_x + 2*reconstr_loss_u + rollout_loss\n",
    "            eval_reconstr_loss_x += reconstr_loss_x\n",
    "            eval_reconstr_loss_u += reconstr_loss_u\n",
    "            eval_rollout_loss += rollout_loss\n",
    "\n",
    "    eval_reconstr_loss_x /= len(dataloader_eval)\n",
    "    eval_reconstr_loss_u /= len(dataloader_eval)\n",
    "    eval_rollout_loss /= len(dataloader_eval)\n",
    "    eval_loss /= len(dataloader_eval)\n",
    "\n",
    "    print(f\"Eval epoch {epoch+1}, L_reconstr,x: {eval_reconstr_loss_x:.4f}, \"\n",
    "          f\"L_reconstr,u: {eval_reconstr_loss_u:.4f}, \",\n",
    "          f\"L_rollout: {eval_rollout_loss:.4f}, \",\n",
    "          f\"L_total: {eval_loss:.4f}\")\n",
    "\n",
    "\n",
    "    for t, name in [(A, \"A\"), (B, \"B\")]:\n",
    "        u, s, v = torch.linalg.svd(t)\n",
    "        cond_number = s.max() / s.min()\n",
    "        print(f\"Cond {name}: {cond_number:.4f}\")\n",
    "\n"
   ],
   "id": "16a1a6206db0bb01",
   "outputs": [
    {
     "name": "stdout",
     "output_type": "stream",
     "text": [
      "Epoch 1/50\n"
     ]
    },
    {
     "name": "stderr",
     "output_type": "stream",
     "text": [
      "Training: 1it [00:00,  8.58it/s]\n",
      "Eval: 1it [00:00, 53.94it/s]\n"
     ]
    },
    {
     "name": "stdout",
     "output_type": "stream",
     "text": [
      "Train epoch 1, L_reconstr,x: 6.3185, L_reconstr,u: 0.0006,  L_rollout: 0.4921,  L_total: 13.1303\n",
      "Eval epoch 1, L_reconstr,x: 6.3162, L_reconstr,u: 0.0006,  L_rollout: 0.4475,  L_total: 13.0811\n",
      "Cond A: 1.0050\n",
      "Cond B: 3038689024.0000\n",
      "Epoch 2/50\n"
     ]
    },
    {
     "name": "stderr",
     "output_type": "stream",
     "text": [
      "Training: 1it [00:00, 10.99it/s]\n",
      "Eval: 1it [00:00, 51.39it/s]\n"
     ]
    },
    {
     "name": "stdout",
     "output_type": "stream",
     "text": [
      "Train epoch 2, L_reconstr,x: 6.3162, L_reconstr,u: 0.0006,  L_rollout: 0.4475,  L_total: 13.0811\n",
      "Eval epoch 2, L_reconstr,x: 6.3140, L_reconstr,u: 0.0005,  L_rollout: 0.4172,  L_total: 13.0462\n",
      "Cond A: 1.0086\n",
      "Cond B: 7142637056.0000\n",
      "Epoch 3/50\n"
     ]
    },
    {
     "name": "stderr",
     "output_type": "stream",
     "text": [
      "Training: 1it [00:00, 10.77it/s]\n",
      "Eval: 1it [00:00, 51.80it/s]\n"
     ]
    },
    {
     "name": "stdout",
     "output_type": "stream",
     "text": [
      "Train epoch 3, L_reconstr,x: 6.3140, L_reconstr,u: 0.0005,  L_rollout: 0.4172,  L_total: 13.0462\n",
      "Eval epoch 3, L_reconstr,x: 6.3118, L_reconstr,u: 0.0005,  L_rollout: 0.3975,  L_total: 13.0219\n",
      "Cond A: 1.0116\n",
      "Cond B: 4769031168.0000\n",
      "Epoch 4/50\n"
     ]
    },
    {
     "name": "stderr",
     "output_type": "stream",
     "text": [
      "Training: 1it [00:00, 11.06it/s]\n",
      "Eval: 1it [00:00, 46.37it/s]\n"
     ]
    },
    {
     "name": "stdout",
     "output_type": "stream",
     "text": [
      "Train epoch 4, L_reconstr,x: 6.3118, L_reconstr,u: 0.0005,  L_rollout: 0.3975,  L_total: 13.0219\n",
      "Eval epoch 4, L_reconstr,x: 6.3096, L_reconstr,u: 0.0004,  L_rollout: 0.3830,  L_total: 13.0030\n",
      "Cond A: 1.0140\n",
      "Cond B: 1322419328.0000\n",
      "Epoch 5/50\n"
     ]
    },
    {
     "name": "stderr",
     "output_type": "stream",
     "text": [
      "Training: 1it [00:00, 10.88it/s]\n",
      "Eval: 1it [00:00, 51.41it/s]\n"
     ]
    },
    {
     "name": "stdout",
     "output_type": "stream",
     "text": [
      "Train epoch 5, L_reconstr,x: 6.3096, L_reconstr,u: 0.0004,  L_rollout: 0.3830,  L_total: 13.0030\n",
      "Eval epoch 5, L_reconstr,x: 6.3074, L_reconstr,u: 0.0004,  L_rollout: 0.3700,  L_total: 12.9856\n",
      "Cond A: 1.0159\n",
      "Cond B: 2820638464.0000\n",
      "Epoch 6/50\n"
     ]
    },
    {
     "name": "stderr",
     "output_type": "stream",
     "text": [
      "Training: 1it [00:00, 11.22it/s]\n",
      "Eval: 1it [00:00, 52.95it/s]\n"
     ]
    },
    {
     "name": "stdout",
     "output_type": "stream",
     "text": [
      "Train epoch 6, L_reconstr,x: 6.3074, L_reconstr,u: 0.0004,  L_rollout: 0.3700,  L_total: 12.9856\n",
      "Eval epoch 6, L_reconstr,x: 6.3053, L_reconstr,u: 0.0003,  L_rollout: 0.3580,  L_total: 12.9692\n",
      "Cond A: 1.0174\n",
      "Cond B: 13079481344.0000\n",
      "Epoch 7/50\n"
     ]
    },
    {
     "name": "stderr",
     "output_type": "stream",
     "text": [
      "Training: 1it [00:00, 10.91it/s]\n",
      "Eval: 1it [00:00, 51.69it/s]\n"
     ]
    },
    {
     "name": "stdout",
     "output_type": "stream",
     "text": [
      "Train epoch 7, L_reconstr,x: 6.3053, L_reconstr,u: 0.0003,  L_rollout: 0.3580,  L_total: 12.9692\n",
      "Eval epoch 7, L_reconstr,x: 6.3032, L_reconstr,u: 0.0003,  L_rollout: 0.3474,  L_total: 12.9543\n",
      "Cond A: 1.0188\n",
      "Cond B: 9027521536.0000\n",
      "Epoch 8/50\n"
     ]
    },
    {
     "name": "stderr",
     "output_type": "stream",
     "text": [
      "Training: 1it [00:00, 10.69it/s]\n",
      "Eval: 1it [00:00, 53.43it/s]\n"
     ]
    },
    {
     "name": "stdout",
     "output_type": "stream",
     "text": [
      "Train epoch 8, L_reconstr,x: 6.3032, L_reconstr,u: 0.0003,  L_rollout: 0.3474,  L_total: 12.9543\n",
      "Eval epoch 8, L_reconstr,x: 6.3011, L_reconstr,u: 0.0003,  L_rollout: 0.3382,  L_total: 12.9408\n",
      "Cond A: 1.0202\n",
      "Cond B: 4070943488.0000\n",
      "Epoch 9/50\n"
     ]
    },
    {
     "name": "stderr",
     "output_type": "stream",
     "text": [
      "Training: 1it [00:00, 10.89it/s]\n",
      "Eval: 1it [00:00, 52.06it/s]\n"
     ]
    },
    {
     "name": "stdout",
     "output_type": "stream",
     "text": [
      "Train epoch 9, L_reconstr,x: 6.3011, L_reconstr,u: 0.0003,  L_rollout: 0.3382,  L_total: 12.9408\n",
      "Eval epoch 9, L_reconstr,x: 6.2990, L_reconstr,u: 0.0002,  L_rollout: 0.3297,  L_total: 12.9281\n",
      "Cond A: 1.0217\n",
      "Cond B: 6624375808.0000\n",
      "Epoch 10/50\n"
     ]
    },
    {
     "name": "stderr",
     "output_type": "stream",
     "text": [
      "Training: 1it [00:00, 10.80it/s]\n",
      "Eval: 1it [00:00, 48.70it/s]\n"
     ]
    },
    {
     "name": "stdout",
     "output_type": "stream",
     "text": [
      "Train epoch 10, L_reconstr,x: 6.2990, L_reconstr,u: 0.0002,  L_rollout: 0.3297,  L_total: 12.9281\n",
      "Eval epoch 10, L_reconstr,x: 6.2969, L_reconstr,u: 0.0002,  L_rollout: 0.3216,  L_total: 12.9159\n",
      "Cond A: 1.0232\n",
      "Cond B: 6837058048.0000\n",
      "Epoch 11/50\n"
     ]
    },
    {
     "name": "stderr",
     "output_type": "stream",
     "text": [
      "Training: 1it [00:00, 10.56it/s]\n",
      "Eval: 1it [00:00, 53.70it/s]\n"
     ]
    },
    {
     "name": "stdout",
     "output_type": "stream",
     "text": [
      "Train epoch 11, L_reconstr,x: 6.2969, L_reconstr,u: 0.0002,  L_rollout: 0.3216,  L_total: 12.9159\n",
      "Eval epoch 11, L_reconstr,x: 6.2949, L_reconstr,u: 0.0002,  L_rollout: 0.3138,  L_total: 12.9040\n",
      "Cond A: 1.0248\n",
      "Cond B: 1942169984.0000\n",
      "Epoch 12/50\n"
     ]
    },
    {
     "name": "stderr",
     "output_type": "stream",
     "text": [
      "Training: 1it [00:00, 11.22it/s]\n",
      "Eval: 1it [00:00, 49.69it/s]\n"
     ]
    },
    {
     "name": "stdout",
     "output_type": "stream",
     "text": [
      "Train epoch 12, L_reconstr,x: 6.2949, L_reconstr,u: 0.0002,  L_rollout: 0.3138,  L_total: 12.9040\n",
      "Eval epoch 12, L_reconstr,x: 6.2929, L_reconstr,u: 0.0001,  L_rollout: 0.3062,  L_total: 12.8923\n",
      "Cond A: 1.0266\n",
      "Cond B: 1902779520.0000\n",
      "Epoch 13/50\n"
     ]
    },
    {
     "name": "stderr",
     "output_type": "stream",
     "text": [
      "Training: 1it [00:00,  9.83it/s]\n",
      "Eval: 1it [00:00, 53.93it/s]\n"
     ]
    },
    {
     "name": "stdout",
     "output_type": "stream",
     "text": [
      "Train epoch 13, L_reconstr,x: 6.2929, L_reconstr,u: 0.0001,  L_rollout: 0.3062,  L_total: 12.8923\n",
      "Eval epoch 13, L_reconstr,x: 6.2909, L_reconstr,u: 0.0001,  L_rollout: 0.2989,  L_total: 12.8809\n",
      "Cond A: 1.0284\n",
      "Cond B: 17267222528.0000\n",
      "Epoch 14/50\n"
     ]
    },
    {
     "name": "stderr",
     "output_type": "stream",
     "text": [
      "Training: 1it [00:00, 11.10it/s]\n",
      "Eval: 1it [00:00, 47.59it/s]\n"
     ]
    },
    {
     "name": "stdout",
     "output_type": "stream",
     "text": [
      "Train epoch 14, L_reconstr,x: 6.2909, L_reconstr,u: 0.0001,  L_rollout: 0.2989,  L_total: 12.8809\n",
      "Eval epoch 14, L_reconstr,x: 6.2889, L_reconstr,u: 0.0001,  L_rollout: 0.2916,  L_total: 12.8697\n",
      "Cond A: 1.0302\n",
      "Cond B: 9570791424.0000\n",
      "Epoch 15/50\n"
     ]
    },
    {
     "name": "stderr",
     "output_type": "stream",
     "text": [
      "Training: 1it [00:00, 10.67it/s]\n",
      "Eval: 1it [00:00, 53.25it/s]\n"
     ]
    },
    {
     "name": "stdout",
     "output_type": "stream",
     "text": [
      "Train epoch 15, L_reconstr,x: 6.2889, L_reconstr,u: 0.0001,  L_rollout: 0.2916,  L_total: 12.8697\n",
      "Eval epoch 15, L_reconstr,x: 6.2870, L_reconstr,u: 0.0001,  L_rollout: 0.2846,  L_total: 12.8587\n",
      "Cond A: 1.0321\n",
      "Cond B: 3082573312.0000\n",
      "Epoch 16/50\n"
     ]
    },
    {
     "name": "stderr",
     "output_type": "stream",
     "text": [
      "Training: 1it [00:00, 10.38it/s]\n",
      "Eval: 1it [00:00, 54.56it/s]\n"
     ]
    },
    {
     "name": "stdout",
     "output_type": "stream",
     "text": [
      "Train epoch 16, L_reconstr,x: 6.2870, L_reconstr,u: 0.0001,  L_rollout: 0.2846,  L_total: 12.8587\n",
      "Eval epoch 16, L_reconstr,x: 6.2850, L_reconstr,u: 0.0001,  L_rollout: 0.2776,  L_total: 12.8477\n",
      "Cond A: 1.0339\n",
      "Cond B: 1333112448.0000\n",
      "Epoch 17/50\n"
     ]
    },
    {
     "name": "stderr",
     "output_type": "stream",
     "text": [
      "Training: 1it [00:00, 10.50it/s]\n",
      "Eval: 1it [00:00, 50.64it/s]\n"
     ]
    },
    {
     "name": "stdout",
     "output_type": "stream",
     "text": [
      "Train epoch 17, L_reconstr,x: 6.2850, L_reconstr,u: 0.0001,  L_rollout: 0.2776,  L_total: 12.8477\n",
      "Eval epoch 17, L_reconstr,x: 6.2831, L_reconstr,u: 0.0000,  L_rollout: 0.2707,  L_total: 12.8370\n",
      "Cond A: 1.0356\n",
      "Cond B: 2075476736.0000\n",
      "Epoch 18/50\n"
     ]
    },
    {
     "name": "stderr",
     "output_type": "stream",
     "text": [
      "Training: 1it [00:00, 10.33it/s]\n",
      "Eval: 1it [00:00, 51.50it/s]\n"
     ]
    },
    {
     "name": "stdout",
     "output_type": "stream",
     "text": [
      "Train epoch 18, L_reconstr,x: 6.2831, L_reconstr,u: 0.0000,  L_rollout: 0.2707,  L_total: 12.8370\n",
      "Eval epoch 18, L_reconstr,x: 6.2811, L_reconstr,u: 0.0000,  L_rollout: 0.2641,  L_total: 12.8265\n",
      "Cond A: 1.0373\n",
      "Cond B: 780090048.0000\n",
      "Epoch 19/50\n"
     ]
    },
    {
     "name": "stderr",
     "output_type": "stream",
     "text": [
      "Training: 1it [00:00, 11.11it/s]\n",
      "Eval: 1it [00:00, 48.84it/s]\n"
     ]
    },
    {
     "name": "stdout",
     "output_type": "stream",
     "text": [
      "Train epoch 19, L_reconstr,x: 6.2811, L_reconstr,u: 0.0000,  L_rollout: 0.2641,  L_total: 12.8265\n",
      "Eval epoch 19, L_reconstr,x: 6.2792, L_reconstr,u: 0.0000,  L_rollout: 0.2579,  L_total: 12.8163\n",
      "Cond A: 1.0390\n",
      "Cond B: 5591868928.0000\n",
      "Epoch 20/50\n"
     ]
    },
    {
     "name": "stderr",
     "output_type": "stream",
     "text": [
      "Training: 1it [00:00, 11.28it/s]\n",
      "Eval: 1it [00:00, 48.37it/s]\n"
     ]
    },
    {
     "name": "stdout",
     "output_type": "stream",
     "text": [
      "Train epoch 20, L_reconstr,x: 6.2792, L_reconstr,u: 0.0000,  L_rollout: 0.2579,  L_total: 12.8163\n",
      "Eval epoch 20, L_reconstr,x: 6.2772, L_reconstr,u: 0.0000,  L_rollout: 0.2520,  L_total: 12.8065\n",
      "Cond A: 1.0407\n",
      "Cond B: 5345332736.0000\n",
      "Epoch 21/50\n"
     ]
    },
    {
     "name": "stderr",
     "output_type": "stream",
     "text": [
      "Training: 1it [00:00, 11.48it/s]\n",
      "Eval: 1it [00:00, 41.64it/s]\n"
     ]
    },
    {
     "name": "stdout",
     "output_type": "stream",
     "text": [
      "Train epoch 21, L_reconstr,x: 6.2772, L_reconstr,u: 0.0000,  L_rollout: 0.2520,  L_total: 12.8065\n",
      "Eval epoch 21, L_reconstr,x: 6.2753, L_reconstr,u: 0.0000,  L_rollout: 0.2465,  L_total: 12.7971\n",
      "Cond A: 1.0423\n",
      "Cond B: 219456372736.0000\n",
      "Epoch 22/50\n"
     ]
    },
    {
     "name": "stderr",
     "output_type": "stream",
     "text": [
      "Training: 1it [00:00, 11.17it/s]\n",
      "Eval: 1it [00:00, 45.89it/s]\n"
     ]
    },
    {
     "name": "stdout",
     "output_type": "stream",
     "text": [
      "Train epoch 22, L_reconstr,x: 6.2753, L_reconstr,u: 0.0000,  L_rollout: 0.2465,  L_total: 12.7971\n",
      "Eval epoch 22, L_reconstr,x: 6.2733, L_reconstr,u: 0.0000,  L_rollout: 0.2413,  L_total: 12.7879\n",
      "Cond A: 1.0440\n",
      "Cond B: 4575585792.0000\n",
      "Epoch 23/50\n"
     ]
    },
    {
     "name": "stderr",
     "output_type": "stream",
     "text": [
      "Training: 1it [00:00, 10.88it/s]\n",
      "Eval: 1it [00:00, 55.22it/s]\n"
     ]
    },
    {
     "name": "stdout",
     "output_type": "stream",
     "text": [
      "Train epoch 23, L_reconstr,x: 6.2733, L_reconstr,u: 0.0000,  L_rollout: 0.2413,  L_total: 12.7879\n",
      "Eval epoch 23, L_reconstr,x: 6.2713, L_reconstr,u: 0.0000,  L_rollout: 0.2364,  L_total: 12.7791\n",
      "Cond A: 1.0457\n",
      "Cond B: 728077056.0000\n",
      "Epoch 24/50\n"
     ]
    },
    {
     "name": "stderr",
     "output_type": "stream",
     "text": [
      "Training: 1it [00:00, 10.85it/s]\n",
      "Eval: 1it [00:00, 41.24it/s]\n"
     ]
    },
    {
     "name": "stdout",
     "output_type": "stream",
     "text": [
      "Train epoch 24, L_reconstr,x: 6.2713, L_reconstr,u: 0.0000,  L_rollout: 0.2364,  L_total: 12.7791\n",
      "Eval epoch 24, L_reconstr,x: 6.2694, L_reconstr,u: 0.0000,  L_rollout: 0.2316,  L_total: 12.7703\n",
      "Cond A: 1.0474\n",
      "Cond B: 3250643712.0000\n",
      "Epoch 25/50\n"
     ]
    },
    {
     "name": "stderr",
     "output_type": "stream",
     "text": [
      "Training: 1it [00:00, 10.87it/s]\n",
      "Eval: 1it [00:00, 44.83it/s]\n"
     ]
    },
    {
     "name": "stdout",
     "output_type": "stream",
     "text": [
      "Train epoch 25, L_reconstr,x: 6.2694, L_reconstr,u: 0.0000,  L_rollout: 0.2316,  L_total: 12.7703\n",
      "Eval epoch 25, L_reconstr,x: 6.2674, L_reconstr,u: 0.0000,  L_rollout: 0.2270,  L_total: 12.7618\n",
      "Cond A: 1.0490\n",
      "Cond B: 9845481472.0000\n",
      "Epoch 26/50\n"
     ]
    },
    {
     "name": "stderr",
     "output_type": "stream",
     "text": [
      "Training: 1it [00:00, 10.93it/s]\n",
      "Eval: 1it [00:00, 48.97it/s]\n"
     ]
    },
    {
     "name": "stdout",
     "output_type": "stream",
     "text": [
      "Train epoch 26, L_reconstr,x: 6.2674, L_reconstr,u: 0.0000,  L_rollout: 0.2270,  L_total: 12.7618\n",
      "Eval epoch 26, L_reconstr,x: 6.2653, L_reconstr,u: 0.0000,  L_rollout: 0.2227,  L_total: 12.7533\n",
      "Cond A: 1.0507\n",
      "Cond B: 2807426048.0000\n",
      "Epoch 27/50\n"
     ]
    },
    {
     "name": "stderr",
     "output_type": "stream",
     "text": [
      "Training: 1it [00:00, 10.10it/s]\n",
      "Eval: 1it [00:00, 41.63it/s]\n"
     ]
    },
    {
     "name": "stdout",
     "output_type": "stream",
     "text": [
      "Train epoch 27, L_reconstr,x: 6.2653, L_reconstr,u: 0.0000,  L_rollout: 0.2227,  L_total: 12.7533\n",
      "Eval epoch 27, L_reconstr,x: 6.2633, L_reconstr,u: 0.0000,  L_rollout: 0.2185,  L_total: 12.7451\n",
      "Cond A: 1.0523\n",
      "Cond B: 4766614016.0000\n",
      "Epoch 28/50\n"
     ]
    },
    {
     "name": "stderr",
     "output_type": "stream",
     "text": [
      "Training: 1it [00:00, 10.48it/s]\n",
      "Eval: 1it [00:00, 54.46it/s]\n"
     ]
    },
    {
     "name": "stdout",
     "output_type": "stream",
     "text": [
      "Train epoch 28, L_reconstr,x: 6.2633, L_reconstr,u: 0.0000,  L_rollout: 0.2185,  L_total: 12.7451\n",
      "Eval epoch 28, L_reconstr,x: 6.2612, L_reconstr,u: 0.0000,  L_rollout: 0.2145,  L_total: 12.7369\n",
      "Cond A: 1.0538\n",
      "Cond B: 57511743488.0000\n",
      "Epoch 29/50\n"
     ]
    },
    {
     "name": "stderr",
     "output_type": "stream",
     "text": [
      "Training: 1it [00:00, 10.34it/s]\n",
      "Eval: 1it [00:00, 45.18it/s]\n"
     ]
    },
    {
     "name": "stdout",
     "output_type": "stream",
     "text": [
      "Train epoch 29, L_reconstr,x: 6.2612, L_reconstr,u: 0.0000,  L_rollout: 0.2145,  L_total: 12.7369\n",
      "Eval epoch 29, L_reconstr,x: 6.2591, L_reconstr,u: 0.0000,  L_rollout: 0.2107,  L_total: 12.7290\n",
      "Cond A: 1.0554\n",
      "Cond B: 1208770176.0000\n",
      "Epoch 30/50\n"
     ]
    },
    {
     "name": "stderr",
     "output_type": "stream",
     "text": [
      "Training: 1it [00:00, 11.17it/s]\n",
      "Eval: 1it [00:00, 50.94it/s]\n"
     ]
    },
    {
     "name": "stdout",
     "output_type": "stream",
     "text": [
      "Train epoch 30, L_reconstr,x: 6.2591, L_reconstr,u: 0.0000,  L_rollout: 0.2107,  L_total: 12.7290\n",
      "Eval epoch 30, L_reconstr,x: 6.2570, L_reconstr,u: 0.0000,  L_rollout: 0.2071,  L_total: 12.7211\n",
      "Cond A: 1.0569\n",
      "Cond B: 1664516224.0000\n",
      "Epoch 31/50\n"
     ]
    },
    {
     "name": "stderr",
     "output_type": "stream",
     "text": [
      "Training: 1it [00:00, 10.56it/s]\n",
      "Eval: 1it [00:00, 51.09it/s]\n"
     ]
    },
    {
     "name": "stdout",
     "output_type": "stream",
     "text": [
      "Train epoch 31, L_reconstr,x: 6.2570, L_reconstr,u: 0.0000,  L_rollout: 0.2071,  L_total: 12.7211\n",
      "Eval epoch 31, L_reconstr,x: 6.2549, L_reconstr,u: 0.0000,  L_rollout: 0.2037,  L_total: 12.7135\n",
      "Cond A: 1.0584\n",
      "Cond B: 16417926144.0000\n",
      "Epoch 32/50\n"
     ]
    },
    {
     "name": "stderr",
     "output_type": "stream",
     "text": [
      "Training: 1it [00:00, 11.20it/s]\n",
      "Eval: 1it [00:00, 43.54it/s]\n"
     ]
    },
    {
     "name": "stdout",
     "output_type": "stream",
     "text": [
      "Train epoch 32, L_reconstr,x: 6.2549, L_reconstr,u: 0.0000,  L_rollout: 0.2037,  L_total: 12.7135\n",
      "Eval epoch 32, L_reconstr,x: 6.2527, L_reconstr,u: 0.0000,  L_rollout: 0.2005,  L_total: 12.7059\n",
      "Cond A: 1.0599\n",
      "Cond B: 6433812480.0000\n",
      "Epoch 33/50\n"
     ]
    },
    {
     "name": "stderr",
     "output_type": "stream",
     "text": [
      "Training: 1it [00:00, 10.61it/s]\n",
      "Eval: 1it [00:00, 46.66it/s]\n"
     ]
    },
    {
     "name": "stdout",
     "output_type": "stream",
     "text": [
      "Train epoch 33, L_reconstr,x: 6.2527, L_reconstr,u: 0.0000,  L_rollout: 0.2005,  L_total: 12.7059\n",
      "Eval epoch 33, L_reconstr,x: 6.2505, L_reconstr,u: 0.0000,  L_rollout: 0.1975,  L_total: 12.6985\n",
      "Cond A: 1.0613\n",
      "Cond B: 3840491520.0000\n",
      "Epoch 34/50\n"
     ]
    },
    {
     "name": "stderr",
     "output_type": "stream",
     "text": [
      "Training: 1it [00:00, 10.78it/s]\n",
      "Eval: 1it [00:00, 50.81it/s]\n"
     ]
    },
    {
     "name": "stdout",
     "output_type": "stream",
     "text": [
      "Train epoch 34, L_reconstr,x: 6.2505, L_reconstr,u: 0.0000,  L_rollout: 0.1975,  L_total: 12.6985\n",
      "Eval epoch 34, L_reconstr,x: 6.2482, L_reconstr,u: 0.0000,  L_rollout: 0.1946,  L_total: 12.6911\n",
      "Cond A: 1.0628\n",
      "Cond B: 1106502400.0000\n",
      "Epoch 35/50\n"
     ]
    },
    {
     "name": "stderr",
     "output_type": "stream",
     "text": [
      "Training: 1it [00:00, 10.70it/s]\n",
      "Eval: 1it [00:00, 40.34it/s]\n"
     ]
    },
    {
     "name": "stdout",
     "output_type": "stream",
     "text": [
      "Train epoch 35, L_reconstr,x: 6.2482, L_reconstr,u: 0.0000,  L_rollout: 0.1946,  L_total: 12.6911\n",
      "Eval epoch 35, L_reconstr,x: 6.2459, L_reconstr,u: 0.0000,  L_rollout: 0.1918,  L_total: 12.6837\n",
      "Cond A: 1.0642\n",
      "Cond B: 830070016.0000\n",
      "Epoch 36/50\n"
     ]
    },
    {
     "name": "stderr",
     "output_type": "stream",
     "text": [
      "Training: 1it [00:00, 10.94it/s]\n",
      "Eval: 1it [00:00, 45.36it/s]\n"
     ]
    },
    {
     "name": "stdout",
     "output_type": "stream",
     "text": [
      "Train epoch 36, L_reconstr,x: 6.2459, L_reconstr,u: 0.0000,  L_rollout: 0.1918,  L_total: 12.6837\n",
      "Eval epoch 36, L_reconstr,x: 6.2436, L_reconstr,u: 0.0000,  L_rollout: 0.1892,  L_total: 12.6763\n",
      "Cond A: 1.0656\n",
      "Cond B: 740102016.0000\n",
      "Epoch 37/50\n"
     ]
    },
    {
     "name": "stderr",
     "output_type": "stream",
     "text": [
      "Training: 1it [00:00, 10.67it/s]\n",
      "Eval: 1it [00:00, 37.96it/s]\n"
     ]
    },
    {
     "name": "stdout",
     "output_type": "stream",
     "text": [
      "Train epoch 37, L_reconstr,x: 6.2436, L_reconstr,u: 0.0000,  L_rollout: 0.1892,  L_total: 12.6763\n",
      "Eval epoch 37, L_reconstr,x: 6.2412, L_reconstr,u: 0.0000,  L_rollout: 0.1866,  L_total: 12.6690\n",
      "Cond A: 1.0670\n",
      "Cond B: 3220224512.0000\n",
      "Epoch 38/50\n"
     ]
    },
    {
     "name": "stderr",
     "output_type": "stream",
     "text": [
      "Training: 1it [00:00, 10.71it/s]\n",
      "Eval: 1it [00:00, 51.98it/s]\n"
     ]
    },
    {
     "name": "stdout",
     "output_type": "stream",
     "text": [
      "Train epoch 38, L_reconstr,x: 6.2412, L_reconstr,u: 0.0000,  L_rollout: 0.1866,  L_total: 12.6690\n",
      "Eval epoch 38, L_reconstr,x: 6.2387, L_reconstr,u: 0.0000,  L_rollout: 0.1843,  L_total: 12.6617\n",
      "Cond A: 1.0683\n",
      "Cond B: 1269727616.0000\n",
      "Epoch 39/50\n"
     ]
    },
    {
     "name": "stderr",
     "output_type": "stream",
     "text": [
      "Training: 1it [00:00, 10.84it/s]\n",
      "Eval: 1it [00:00, 49.01it/s]\n"
     ]
    },
    {
     "name": "stdout",
     "output_type": "stream",
     "text": [
      "Train epoch 39, L_reconstr,x: 6.2387, L_reconstr,u: 0.0000,  L_rollout: 0.1843,  L_total: 12.6617\n",
      "Eval epoch 39, L_reconstr,x: 6.2362, L_reconstr,u: 0.0000,  L_rollout: 0.1820,  L_total: 12.6544\n",
      "Cond A: 1.0696\n",
      "Cond B: 1086255488.0000\n",
      "Epoch 40/50\n"
     ]
    },
    {
     "name": "stderr",
     "output_type": "stream",
     "text": [
      "Training: 1it [00:00, 11.03it/s]\n",
      "Eval: 1it [00:00, 46.95it/s]\n"
     ]
    },
    {
     "name": "stdout",
     "output_type": "stream",
     "text": [
      "Train epoch 40, L_reconstr,x: 6.2362, L_reconstr,u: 0.0000,  L_rollout: 0.1820,  L_total: 12.6544\n",
      "Eval epoch 40, L_reconstr,x: 6.2336, L_reconstr,u: 0.0000,  L_rollout: 0.1799,  L_total: 12.6472\n",
      "Cond A: 1.0709\n",
      "Cond B: 2497193728.0000\n",
      "Epoch 41/50\n"
     ]
    },
    {
     "name": "stderr",
     "output_type": "stream",
     "text": [
      "Training: 1it [00:00, 11.11it/s]\n",
      "Eval: 1it [00:00, 47.97it/s]\n"
     ]
    },
    {
     "name": "stdout",
     "output_type": "stream",
     "text": [
      "Train epoch 41, L_reconstr,x: 6.2336, L_reconstr,u: 0.0000,  L_rollout: 0.1799,  L_total: 12.6472\n",
      "Eval epoch 41, L_reconstr,x: 6.2310, L_reconstr,u: 0.0000,  L_rollout: 0.1780,  L_total: 12.6400\n",
      "Cond A: 1.0721\n",
      "Cond B: 4088961792.0000\n",
      "Epoch 42/50\n"
     ]
    },
    {
     "name": "stderr",
     "output_type": "stream",
     "text": [
      "Training: 1it [00:00, 10.91it/s]\n",
      "Eval: 1it [00:00, 51.63it/s]\n"
     ]
    },
    {
     "name": "stdout",
     "output_type": "stream",
     "text": [
      "Train epoch 42, L_reconstr,x: 6.2310, L_reconstr,u: 0.0000,  L_rollout: 0.1780,  L_total: 12.6400\n",
      "Eval epoch 42, L_reconstr,x: 6.2283, L_reconstr,u: 0.0000,  L_rollout: 0.1762,  L_total: 12.6328\n",
      "Cond A: 1.0734\n",
      "Cond B: 773660672.0000\n",
      "Epoch 43/50\n"
     ]
    },
    {
     "name": "stderr",
     "output_type": "stream",
     "text": [
      "Training: 1it [00:00, 10.69it/s]\n",
      "Eval: 1it [00:00, 46.57it/s]\n"
     ]
    },
    {
     "name": "stdout",
     "output_type": "stream",
     "text": [
      "Train epoch 43, L_reconstr,x: 6.2283, L_reconstr,u: 0.0000,  L_rollout: 0.1762,  L_total: 12.6328\n",
      "Eval epoch 43, L_reconstr,x: 6.2255, L_reconstr,u: 0.0000,  L_rollout: 0.1745,  L_total: 12.6255\n",
      "Cond A: 1.0746\n",
      "Cond B: 875382976.0000\n",
      "Epoch 44/50\n"
     ]
    },
    {
     "name": "stderr",
     "output_type": "stream",
     "text": [
      "Training: 1it [00:00, 10.49it/s]\n",
      "Eval: 1it [00:00, 47.21it/s]\n"
     ]
    },
    {
     "name": "stdout",
     "output_type": "stream",
     "text": [
      "Train epoch 44, L_reconstr,x: 6.2255, L_reconstr,u: 0.0000,  L_rollout: 0.1745,  L_total: 12.6255\n",
      "Eval epoch 44, L_reconstr,x: 6.2226, L_reconstr,u: 0.0000,  L_rollout: 0.1730,  L_total: 12.6183\n",
      "Cond A: 1.0758\n",
      "Cond B: 716862272.0000\n",
      "Epoch 45/50\n"
     ]
    },
    {
     "name": "stderr",
     "output_type": "stream",
     "text": [
      "Training: 1it [00:00, 11.16it/s]\n",
      "Eval: 1it [00:00, 46.87it/s]\n"
     ]
    },
    {
     "name": "stdout",
     "output_type": "stream",
     "text": [
      "Train epoch 45, L_reconstr,x: 6.2226, L_reconstr,u: 0.0000,  L_rollout: 0.1730,  L_total: 12.6183\n",
      "Eval epoch 45, L_reconstr,x: 6.2197, L_reconstr,u: 0.0000,  L_rollout: 0.1716,  L_total: 12.6110\n",
      "Cond A: 1.0770\n",
      "Cond B: 6786103808.0000\n",
      "Epoch 46/50\n"
     ]
    },
    {
     "name": "stderr",
     "output_type": "stream",
     "text": [
      "Training: 1it [00:00, 10.99it/s]\n",
      "Eval: 1it [00:00, 42.16it/s]\n"
     ]
    },
    {
     "name": "stdout",
     "output_type": "stream",
     "text": [
      "Train epoch 46, L_reconstr,x: 6.2197, L_reconstr,u: 0.0000,  L_rollout: 0.1716,  L_total: 12.6110\n",
      "Eval epoch 46, L_reconstr,x: 6.2167, L_reconstr,u: 0.0000,  L_rollout: 0.1703,  L_total: 12.6037\n",
      "Cond A: 1.0782\n",
      "Cond B: 979384448.0000\n",
      "Epoch 47/50\n"
     ]
    },
    {
     "name": "stderr",
     "output_type": "stream",
     "text": [
      "Training: 1it [00:00, 10.75it/s]\n",
      "Eval: 1it [00:00, 46.11it/s]\n"
     ]
    },
    {
     "name": "stdout",
     "output_type": "stream",
     "text": [
      "Train epoch 47, L_reconstr,x: 6.2167, L_reconstr,u: 0.0000,  L_rollout: 0.1703,  L_total: 12.6037\n",
      "Eval epoch 47, L_reconstr,x: 6.2136, L_reconstr,u: 0.0000,  L_rollout: 0.1691,  L_total: 12.5963\n",
      "Cond A: 1.0793\n",
      "Cond B: 871740288.0000\n",
      "Epoch 48/50\n"
     ]
    },
    {
     "name": "stderr",
     "output_type": "stream",
     "text": [
      "Training: 1it [00:00, 11.09it/s]\n",
      "Eval: 1it [00:00, 51.42it/s]\n"
     ]
    },
    {
     "name": "stdout",
     "output_type": "stream",
     "text": [
      "Train epoch 48, L_reconstr,x: 6.2136, L_reconstr,u: 0.0000,  L_rollout: 0.1691,  L_total: 12.5963\n",
      "Eval epoch 48, L_reconstr,x: 6.2104, L_reconstr,u: 0.0000,  L_rollout: 0.1680,  L_total: 12.5889\n",
      "Cond A: 1.0805\n",
      "Cond B: 3300470784.0000\n",
      "Epoch 49/50\n"
     ]
    },
    {
     "name": "stderr",
     "output_type": "stream",
     "text": [
      "Training: 1it [00:00, 10.43it/s]\n",
      "Eval: 1it [00:00, 46.29it/s]\n"
     ]
    },
    {
     "name": "stdout",
     "output_type": "stream",
     "text": [
      "Train epoch 49, L_reconstr,x: 6.2104, L_reconstr,u: 0.0000,  L_rollout: 0.1680,  L_total: 12.5889\n",
      "Eval epoch 49, L_reconstr,x: 6.2072, L_reconstr,u: 0.0000,  L_rollout: 0.1671,  L_total: 12.5814\n",
      "Cond A: 1.0816\n",
      "Cond B: 4841569280.0000\n",
      "Epoch 50/50\n"
     ]
    },
    {
     "name": "stderr",
     "output_type": "stream",
     "text": [
      "Training: 1it [00:00, 10.79it/s]\n",
      "Eval: 1it [00:00, 47.08it/s]"
     ]
    },
    {
     "name": "stdout",
     "output_type": "stream",
     "text": [
      "Train epoch 50, L_reconstr,x: 6.2072, L_reconstr,u: 0.0000,  L_rollout: 0.1671,  L_total: 12.5814\n",
      "Eval epoch 50, L_reconstr,x: 6.2038, L_reconstr,u: 0.0000,  L_rollout: 0.1662,  L_total: 12.5739\n",
      "Cond A: 1.0828\n",
      "Cond B: 2520023808.0000\n"
     ]
    },
    {
     "name": "stderr",
     "output_type": "stream",
     "text": [
      "\n"
     ]
    }
   ],
   "execution_count": 182
  },
  {
   "metadata": {
    "ExecuteTime": {
     "end_time": "2025-04-20T04:30:32.748823Z",
     "start_time": "2025-04-20T04:30:32.694672Z"
    }
   },
   "cell_type": "code",
   "source": [
    "# pick sample trajectory\n",
    "\n",
    "\n",
    "with torch.no_grad():\n",
    "    idx = np.arange(4)\n",
    "\n",
    "    test_xhist = torch.tensor(xhist_train[idx], dtype=torch.float32).to(device)\n",
    "    test_uhist = torch.tensor(uhist_train[idx], dtype=torch.float32).to(device)\n",
    "\n",
    "    zx = autoenc_x.encode(test_xhist[:, 0, :])\n",
    "\n",
    "    test_xhist_pred = torch.empty_like(test_xhist)\n",
    "    test_xhist_pred[:, 0, :] = autoenc_x.decode(zx)\n",
    "\n",
    "    for i, t in enumerate(ts[:-1]):\n",
    "        zu = autoenc_u.encode(test_uhist[:, i, :])\n",
    "        zxp = torch.einsum('ml,Nl->Nm', A, zx) + torch.einsum('ml,Nl->Nm', B, zu)\n",
    "        test_xhist_pred[:, i + 1, :] = autoenc_x.decode(zxp)\n",
    "        zx = zxp\n",
    "\n",
    "    test_xhist_pred_np = test_xhist_pred.cpu().numpy()\n",
    "    test_uhist_np = test_uhist.cpu().numpy()\n",
    "    A_np = A.cpu().numpy()\n",
    "    B_np = B.cpu().numpy()\n",
    "\n",
    "print(f\"Rank A: {np.linalg.matrix_rank(A_np)}, Cond A {np.linalg.cond(A_np)}\")\n",
    "print(f\"Rank B: {np.linalg.matrix_rank(B_np)}, Cond B {np.linalg.cond(B_np)}\")"
   ],
   "id": "86a6d57e745e7d1b",
   "outputs": [
    {
     "name": "stdout",
     "output_type": "stream",
     "text": [
      "Rank A: 50, Cond A 1.1483845710754395\n",
      "Rank B: 30, Cond B 458437440.0\n"
     ]
    }
   ],
   "execution_count": 162
  },
  {
   "metadata": {
    "ExecuteTime": {
     "end_time": "2025-04-20T04:30:52.751262Z",
     "start_time": "2025-04-20T04:30:52.443937Z"
    }
   },
   "cell_type": "code",
   "source": [
    "i = 3\n",
    "test_xhist_np = test_xhist.cpu().numpy()\n",
    "test_xhist_plt, test_uhist_plt, test_xhist_pred_plt = test_xhist_np[i, :],  test_uhist_np[i, :], test_xhist_pred_np[i, :]\n",
    "test_xhist_pred_plt = np.clip(test_xhist_pred_plt, -10, 10)\n",
    "fig, ax = plt.subplots(2, 1, figsize=(8, 6))\n",
    "# ax[0].plot(eval_ts, angle_wrap(eval_xhist[:, 0], \"-pi:pi\"), color='red', label=\"True theta\")\n",
    "# ax[0].plot(eval_ts, angle_wrap(eval_xhist_pred[:, 0], \"-pi:pi\"), color='red', label=\"Predicted theta\", linestyle='--')\n",
    "ax[0].plot(ts, test_xhist_plt[:, 0], color='red', label=\"True theta\")\n",
    "ax[0].plot(ts, test_xhist_pred_plt[:, 0], color='red', label=\"Predicted theta\", linestyle='--')\n",
    "ax[0].plot(ts, test_xhist_plt[:, 1], color='blue', label=\"True omega\")\n",
    "ax[0].plot(ts, test_xhist_pred_plt[:, 1], color='blue', label=\"Predicted omega\", linestyle='--')\n",
    "ax[0].set_title(\"Pendulum Angle\")\n",
    "ax[0].set_xlabel(\"Time\")\n",
    "ax[0].set_ylabel(\"Theta (rad)\")\n",
    "ax[0].legend()\n",
    "\n",
    "ax[1].plot(ts[:-1], test_uhist_plt[:, 0], color='black', label=\"Control\")\n",
    "ax[1].set_title(\"Control Input\")\n",
    "ax[1].set_xlabel(\"Time\")\n",
    "ax[1].set_ylabel(\"Control\")\n",
    "ax[1].legend()\n",
    "\n"
   ],
   "id": "5de111e7af4a6404",
   "outputs": [
    {
     "data": {
      "text/plain": [
       "<matplotlib.legend.Legend at 0x724f31ff51b0>"
      ]
     },
     "execution_count": 169,
     "metadata": {},
     "output_type": "execute_result"
    },
    {
     "data": {
      "text/plain": [
       "<Figure size 800x600 with 2 Axes>"
      ],
      "image/png": "[encoded data removed]"
     },
     "metadata": {},
     "output_type": "display_data"
    }
   ],
   "execution_count": 169
  },
  {
   "metadata": {},
   "cell_type": "code",
   "source": "",
   "id": "aabbf62538cbcb17",
   "outputs": [],
   "execution_count": null
  },
  {
   "metadata": {},
   "cell_type": "code",
   "source": "",
   "id": "73679beb83bb3466",
   "outputs": [],
   "execution_count": null
  }
 ],
 "metadata": {
  "kernelspec": {
   "display_name": "Python 3",
   "language": "python",
   "name": "python3"
  },
  "language_info": {
   "codemirror_mode": {
    "name": "ipython",
    "version": 2
   },
   "file_extension": ".py",
   "mimetype": "text/x-python",
   "name": "python",
   "nbconvert_exporter": "python",
   "pygments_lexer": "ipython2",
   "version": "2.7.6"
  }
 },
 "nbformat": 4,
 "nbformat_minor": 5
}
